{
 "cells": [
  {
   "cell_type": "markdown",
   "metadata": {},
   "source": [
    "# Song Recommender"
   ]
  },
  {
   "cell_type": "markdown",
   "metadata": {},
   "source": [
    "### Objective \n",
    "\n",
    "\n",
    "In this exercise we are given song data from a streaming music startup.  The site allows people to stream music from their phone for free.  They currently only have beatles songs but they want to expand soon.\n",
    "\n",
    "They still have all their data in json files and they are interested in getting some basic info about their users as well as building a very preliminary song recommendation model in order to increase user engagement.\n",
    "\n",
    "\n",
    "Working with json files is important if you join a very early stage start-up, they might not have a\n",
    "nice database and all data will be in jsons. Third party data are often stored in json files as well.  So it's just good to get familiar with using json.\n",
    "\n",
    "But to warn you, it's gonna be messy most of the time.\n",
    "\n",
    "The CEO hypothetically asked me very specific questions:\n",
    "* What are the top 3 and the bottom 3 states in terms of number of users?\n",
    "* What are the top 3 and the bottom 3 states in terms of user engagement? \n",
    "    * You can choose how to mathematically define user engagement. \n",
    "    * What the CEO cares about here is in which states users are using the product a lot/very little.\n",
    "* The CEO wants to send a gift to the first user who signed-up for each state. \n",
    "    * That is, the first user who signed-up from California, from Oregon, etc. \n",
    "        * Can you give him a list of those users?\n",
    "* Build a function that takes as an input any of the songs in the data and returns the most likely song to be listened next. \n",
    "    * That is, if, for instance, a user is currently listening to \"Eight Days A Week\", which song has the highest probability of being played right after it by the same user? \n",
    "    * This is going to be v1 of a song recommendation model.\n",
    "* How would you set up a test to check whether your model works well and is improving engagement?\n",
    "\n",
    "\n",
    "<u>Data on our fields in the json file includes:</u>\n",
    "* id : unique identifier oM the row\n",
    "* user_id : user id who listened to a given song\n",
    "* user_state : where the user is based\n",
    "* user_sign_up_date : when the user signed-up\n",
    "* song_played : the song that was listened\n",
    "* time_played : at which time the user started listening to the song (local time)"
   ]
  },
  {
   "cell_type": "code",
   "execution_count": 4,
   "metadata": {
    "collapsed": false
   },
   "outputs": [
    {
     "name": "stderr",
     "output_type": "stream",
     "text": [
      "//anaconda/envs/kagglehouse/lib/python2.7/site-packages/IPython/html.py:14: ShimWarning: The `IPython.html` package has been deprecated since IPython 4.0. You should import from `notebook` instead. `IPython.html.widgets` has moved to `ipywidgets`.\n",
      "  \"`IPython.html.widgets` has moved to `ipywidgets`.\", ShimWarning)\n",
      "/Users/bill_mac/.local/lib/python2.7/site-packages/sklearn/cross_validation.py:44: DeprecationWarning: This module was deprecated in version 0.18 in favor of the model_selection module into which all the refactored classes and functions are moved. Also note that the interface of the new CV iterators are different from that of this module. This module will be removed in 0.20.\n",
      "  \"This module will be removed in 0.20.\", DeprecationWarning)\n",
      "/Users/bill_mac/.local/lib/python2.7/site-packages/sklearn/grid_search.py:43: DeprecationWarning: This module was deprecated in version 0.18 in favor of the model_selection module into which all the refactored classes and functions are moved. This module will be removed in 0.20.\n",
      "  DeprecationWarning)\n"
     ]
    }
   ],
   "source": [
    "import pandas as pd\n",
    "import numpy as np\n",
    "import matplotlib.pyplot as plt\n",
    "import os\n",
    "from sklearn.preprocessing import StandardScaler, MinMaxScaler\n",
    "from sklearn.cluster import KMeans\n",
    "from datetime import datetime\n",
    "import seaborn as sns\n",
    "import scipy.stats as stats\n",
    "import itertools\n",
    "from sklearn.utils import shuffle\n",
    "from sklearn.preprocessing import LabelEncoder\n",
    "from sklearn.feature_selection import chi2,f_classif\n",
    "from sklearn.tree import DecisionTreeClassifier,export_graphviz\n",
    "from sklearn.pipeline import Pipeline\n",
    "from numpy.random import beta as beta_dist\n",
    "\n",
    "# from sklearn.model_selection import train_test_split\n",
    "from sklearn.cross_validation import train_test_split, cross_val_score\n",
    "from sklearn.cross_validation import KFold\n",
    "from sklearn.grid_search import GridSearchCV\n",
    "\n",
    "from scipy.stats import skew, skewtest\n",
    "import lifelines as sa\n",
    "from lifelines.utils import concordance_index, k_fold_cross_validation\n",
    "\n",
    "from sklearn.cross_validation import cross_val_score\n",
    "from sklearn.linear_model import Ridge, RidgeCV, ElasticNet, LassoCV, LassoLarsCV, LinearRegression, Perceptron\n",
    "import datetime\n",
    "# Importing Machine learning models library used for classification\n",
    "from sklearn.linear_model import LogisticRegression\n",
    "# from sklearn.model_selection import train_test_split\n",
    "from sklearn.ensemble import RandomForestClassifier,RandomForestRegressor, BaggingClassifier,GradientBoostingClassifier, AdaBoostClassifier\n",
    "from sklearn.neighbors import KNeighborsClassifier as knn\n",
    "from sklearn.naive_bayes import GaussianNB as GB\n",
    "from sklearn.svm import SVC\n",
    "from sklearn.metrics import accuracy_score, confusion_matrix, f1_score,roc_curve, auc\n",
    "from sklearn import metrics, preprocessing\n",
    "from sklearn.cross_validation import train_test_split\n",
    "# import the class\n",
    "from sklearn.linear_model import LogisticRegression, LinearRegression\n",
    "from sklearn.feature_selection import f_regression,f_classif\n",
    "from sklearn import metrics\n",
    "\n",
    "import matplotlib.patheffects as path_effects\n",
    "from sklearn.neighbors import KNeighborsClassifier\n",
    "from sklearn import svm\n",
    "from sklearn.tree import DecisionTreeClassifier\n",
    "from sklearn.tree import DecisionTreeRegressor\n",
    "from sklearn.metrics import mean_squared_error\n",
    "from sklearn import tree\n",
    "import xgboost as xgb\n",
    "\n",
    "# import tpot\n",
    "%config InlineBackend.figure_format = 'png' \n",
    "%matplotlib inline\n",
    "plt.style.use(style='fivethirtyeight')\n",
    "plt.rcParams['figure.figsize'] = (14, 10)"
   ]
  },
  {
   "cell_type": "code",
   "execution_count": 5,
   "metadata": {
    "collapsed": false
   },
   "outputs": [
    {
     "name": "stderr",
     "output_type": "stream",
     "text": [
      "//anaconda/envs/kagglehouse/lib/python2.7/site-packages/jupyter_client/jsonutil.py:67: DeprecationWarning: Interpreting naive datetime as local 2017-09-20 22:19:23.909567. Please add timezone info to timestamps.\n",
      "  new_obj[k] = extract_dates(v)\n"
     ]
    }
   ],
   "source": [
    "def plot_confusion_matrix(cm, title='Confusion matrix', cmap=plt.cm.Blues, \\\n",
    "                          labels = ['Left', 'Stayed']):\n",
    "    \n",
    "    plt.figure(figsize=(5,5))\n",
    "    plt.imshow(cm, interpolation='nearest', cmap=cmap)\n",
    "    \n",
    "    tick_marks = np.arange(len(labels))\n",
    "    plt.xticks(tick_marks, labels, fontsize = 12)\n",
    "    plt.yticks(tick_marks, labels, rotation = 90, fontsize = 12)\n",
    "        \n",
    "    plt.title(title, fontsize = 24)\n",
    "    plt.ylabel('True', fontsize = 18)\n",
    "    plt.xlabel('Predicted', fontsize = 18)\n",
    "    plt.tight_layout()\n",
    "    \n",
    "    width, height = cm.shape\n",
    "    \n",
    "    for x in range(0,width):\n",
    "        for y in range(0,height):\n",
    "            plt.annotate(str(cm[x][y]), xy=(y, x), \n",
    "                        horizontalalignment='center',\n",
    "                        verticalalignment='center',\n",
    "                        color = 'white',\n",
    "                        fontsize=18).set_path_effects([path_effects.Stroke(linewidth=1, \\\n",
    "                                foreground='black'), path_effects.Normal()])\n",
    "    return\n",
    "\n",
    "def add_date_time_columns(dt): \n",
    "    \n",
    "    # ADD THE DATE AND TIME IN SINGLE COLUMNS FOR GROUPPING THE CALLS BY HOURS\n",
    "    dt1 = np.zeros((dt.shape[0], 4))\n",
    "\n",
    "    for i in range(0,dt.shape[0]):\n",
    "        s = dt.timestamp[i]\n",
    "        s = s.split(' ')\n",
    "        ymd = s[0]. split('-')\n",
    "        hms = s[1]. split(':')\n",
    "        dt1[i,0]=int(ymd[0])\n",
    "        dt1[i,1]=int(ymd[1])\n",
    "        dt1[i,2]=int(ymd[2])\n",
    "        dt1[i,3]=int(hms[0])\n",
    "\n",
    "    dt1 = pd.DataFrame(dt1)\n",
    "    dt2 = pd.concat([dt,dt1], axis=1)\n",
    "\n",
    "    names = dt2.columns.tolist()\n",
    "    names[names.index(0)] = 'year'\n",
    "    names[names.index(1)] = 'month'\n",
    "    names[names.index(2)] = 'day'\n",
    "    names[names.index(3)] = 'hour'\n",
    "    dt2.columns = names\n",
    "    dt2 = pd.DataFrame(dt2)\n",
    "    \n",
    "    return dt2\n",
    "\n",
    "def fixdate(date):\n",
    "    \n",
    "    # check the last two characters - the number of seconds - and replace 60 with 59\n",
    "    if str(date)[-2:] == '60':\n",
    "        date = date[:-2]+'59'\n",
    "    \n",
    "    # check the characters that correspond to minutes and replace 60 with 59\n",
    "    if str(date)[-5:-3] == '60':\n",
    "        date = date[:-5]+'59'+date[-3:]\n",
    "        \n",
    "    return date\n",
    "\n",
    "def model_building(dframe,X,y, pred_model):\n",
    "    \n",
    "    X_train, X_test, y_train, y_test = train_test_split(X, y, test_size=0.33)\n",
    "\n",
    "    print(\"Building model %s\" %pred_model)\n",
    "    if pred_model == 'Random Forest':\n",
    "        modl = RandomForestClassifier(class_weight={0:.978,1:.022})\n",
    "    elif pred_model == 'SVM Linear':\n",
    "        modl = SVC(kernel='linear')\n",
    "    elif pred_model == 'SVM RBF':\n",
    "        modl = SVC(kernel='rbf')\n",
    "    elif pred_model == 'Logistic Regression':\n",
    "        modl = LogisticRegression(class_weight={0:.978,1:.022})\n",
    "    elif pred_model == 'kNN':\n",
    "        ref_score = -99\n",
    "        nbr_neighbors = -9\n",
    "        for k in range(2,10):\n",
    "            print(\"In loop for %s neighbors\" %k)\n",
    "            modl = KNeighborsClassifier(n_neighbors=k)\n",
    "            modl.fit(X_train, y_train)\n",
    "            modl.predict(X_test)\n",
    "            if modl.score(X_test, y_test) > ref_score:\n",
    "                ref_score = modl.score(X_test, y_test)\n",
    "                nbr_neighbors = k\n",
    "\n",
    "        modl = KNeighborsClassifier(n_neighbors=nbr_neighbors)\n",
    "        print(\"%s is the optimal number of neighbors\" %nbr_neighbors)\n",
    "\n",
    "    modl.fit(X_train, y_train)\n",
    "    y_pred = modl.predict(X_test) \n",
    "\n",
    "    if pred_model == 'Random Forest':\n",
    "        labels = list(dframe.columns.values)\n",
    "#         labels.remove('clicked')\n",
    "        feat_importance = pd.DataFrame(modl.feature_importances_, columns=['values'])\n",
    "        feat_importance['index'] = labels\n",
    "        feat_importance = feat_importance.set_index('index')\n",
    "        feat_importance = feat_importance.sort_values(['values'], ascending=False)\n",
    "        print(\"Features importance: %s\" %feat_importance)\n",
    "\n",
    "    print(\"Accuracy for %s = %s\" %(pred_model, round(100.*modl.score(X_test, y_test), 2)))\n",
    "    print confusion_matrix(y_test, y_pred)\n",
    "    \n",
    "    ####\n",
    "    logit = y_pred\n",
    "    y_pred_prob = modl.predict_proba(X_test)[:, 1]\n",
    "    plt.hist(y_pred_prob, bins=5)\n",
    "    plt.xlim(0, 1)\n",
    "    plt.title('Histogram of Predicted Probabilities')\n",
    "    plt.xlabel('Predicted Probability of Conversion')\n",
    "    plt.ylabel('Frequency')\n",
    "    cm = confusion_matrix(y_test, logit)\n",
    "\n",
    "\n",
    "    plot_confusion_matrix(cm, title='Model: Confusion Matrix', \\\n",
    "                          labels=['Not Converted', 'Converted'], cmap=plt.cm.Greens) \n",
    "    # Roc_curve for Logistic Regression Model\n",
    "    FPR = dict()\n",
    "    TPR = dict()\n",
    "    ROC_AUC = dict()\n",
    "\n",
    "    # For class 1, find the area under the curve\n",
    "    FPR[1], TPR[1], _ = roc_curve(y_test, logit)\n",
    "    ROC_AUC[1] = auc(FPR[1], TPR[1])\n",
    "\n",
    "    # Plot of a ROC curve for class 1\n",
    "    plt.figure(figsize=[5,5])\n",
    "    plt.plot(FPR[1], TPR[1], label='ROC curve (area = %0.2f)' % ROC_AUC[1], linewidth=4)\n",
    "    plt.plot([0, 1], [0, 1], 'k--', linewidth=4)\n",
    "    plt.xlim([0, 1])\n",
    "    plt.ylim([0, 1.5])\n",
    "    plt.xlabel('False Positive Rate', fontsize=10)\n",
    "    plt.ylabel('True Positive Rate', fontsize=10)\n",
    "    plt.title('Model Receiver operating characteristic for Conversion', fontsize=18)\n",
    "    plt.legend(loc=\"upper left\")\n",
    "    plt.show()\n",
    "    "
   ]
  },
  {
   "cell_type": "markdown",
   "metadata": {
    "collapsed": true
   },
   "source": [
    "### Load Data"
   ]
  },
  {
   "cell_type": "code",
   "execution_count": 6,
   "metadata": {
    "collapsed": false
   },
   "outputs": [
    {
     "name": "stderr",
     "output_type": "stream",
     "text": [
      "//anaconda/envs/kagglehouse/lib/python2.7/site-packages/jupyter_client/jsonutil.py:67: DeprecationWarning: Interpreting naive datetime as local 2017-09-20 22:20:01.684619. Please add timezone info to timestamps.\n",
      "  new_obj[k] = extract_dates(v)\n"
     ]
    }
   ],
   "source": [
    "df = pd.read_json('../data/song.json')"
   ]
  },
  {
   "cell_type": "code",
   "execution_count": 7,
   "metadata": {
    "collapsed": false
   },
   "outputs": [
    {
     "name": "stderr",
     "output_type": "stream",
     "text": [
      "//anaconda/envs/kagglehouse/lib/python2.7/site-packages/jupyter_client/jsonutil.py:67: DeprecationWarning: Interpreting naive datetime as local 2017-09-20 22:20:44.193852. Please add timezone info to timestamps.\n",
      "  new_obj[k] = extract_dates(v)\n"
     ]
    }
   ],
   "source": [
    "df.set_index(\"id\", inplace=True)\n",
    "df[\"time_played\"] = pd.to_datetime(df.time_played)\n",
    "df['user_sign_up_date'] = pd.to_datetime(df.user_sign_up_date)"
   ]
  },
  {
   "cell_type": "code",
   "execution_count": 8,
   "metadata": {
    "collapsed": false,
    "scrolled": true
   },
   "outputs": [
    {
     "name": "stderr",
     "output_type": "stream",
     "text": [
      "//anaconda/envs/kagglehouse/lib/python2.7/site-packages/jupyter_client/jsonutil.py:67: DeprecationWarning: Interpreting naive datetime as local 2017-09-20 22:20:46.673275. Please add timezone info to timestamps.\n",
      "  new_obj[k] = extract_dates(v)\n"
     ]
    },
    {
     "data": {
      "text/html": [
       "<div>\n",
       "<style>\n",
       "    .dataframe thead tr:only-child th {\n",
       "        text-align: right;\n",
       "    }\n",
       "\n",
       "    .dataframe thead th {\n",
       "        text-align: left;\n",
       "    }\n",
       "\n",
       "    .dataframe tbody tr th {\n",
       "        vertical-align: top;\n",
       "    }\n",
       "</style>\n",
       "<table border=\"1\" class=\"dataframe\">\n",
       "  <thead>\n",
       "    <tr style=\"text-align: right;\">\n",
       "      <th></th>\n",
       "      <th>song_played</th>\n",
       "      <th>time_played</th>\n",
       "      <th>user_id</th>\n",
       "      <th>user_sign_up_date</th>\n",
       "      <th>user_state</th>\n",
       "    </tr>\n",
       "    <tr>\n",
       "      <th>id</th>\n",
       "      <th></th>\n",
       "      <th></th>\n",
       "      <th></th>\n",
       "      <th></th>\n",
       "      <th></th>\n",
       "    </tr>\n",
       "  </thead>\n",
       "  <tbody>\n",
       "    <tr>\n",
       "      <th>GOQMMKSQQH</th>\n",
       "      <td>Hey Jude</td>\n",
       "      <td>2015-06-11 21:51:35</td>\n",
       "      <td>122</td>\n",
       "      <td>2015-05-16</td>\n",
       "      <td>Louisiana</td>\n",
       "    </tr>\n",
       "    <tr>\n",
       "      <th>HWKKBQKNWI</th>\n",
       "      <td>We Can Work It Out</td>\n",
       "      <td>2015-06-06 16:49:19</td>\n",
       "      <td>3</td>\n",
       "      <td>2015-05-01</td>\n",
       "      <td>Ohio</td>\n",
       "    </tr>\n",
       "    <tr>\n",
       "      <th>DKQSXVNJDH</th>\n",
       "      <td>Back In the U.S.S.R.</td>\n",
       "      <td>2015-06-14 02:11:29</td>\n",
       "      <td>35</td>\n",
       "      <td>2015-05-04</td>\n",
       "      <td>New Jersey</td>\n",
       "    </tr>\n",
       "    <tr>\n",
       "      <th>HLHRIDQTUW</th>\n",
       "      <td>P.s. I Love You</td>\n",
       "      <td>2015-06-08 12:26:10</td>\n",
       "      <td>126</td>\n",
       "      <td>2015-05-16</td>\n",
       "      <td>Illinois</td>\n",
       "    </tr>\n",
       "    <tr>\n",
       "      <th>SUKJCSBCYW</th>\n",
       "      <td>Sgt. Pepper's Lonely Hearts Club Band</td>\n",
       "      <td>2015-06-28 14:57:00</td>\n",
       "      <td>6</td>\n",
       "      <td>2015-05-01</td>\n",
       "      <td>New Jersey</td>\n",
       "    </tr>\n",
       "  </tbody>\n",
       "</table>\n",
       "</div>"
      ],
      "text/plain": [
       "                                      song_played         time_played  \\\n",
       "id                                                                      \n",
       "GOQMMKSQQH                               Hey Jude 2015-06-11 21:51:35   \n",
       "HWKKBQKNWI                     We Can Work It Out 2015-06-06 16:49:19   \n",
       "DKQSXVNJDH                   Back In the U.S.S.R. 2015-06-14 02:11:29   \n",
       "HLHRIDQTUW                        P.s. I Love You 2015-06-08 12:26:10   \n",
       "SUKJCSBCYW  Sgt. Pepper's Lonely Hearts Club Band 2015-06-28 14:57:00   \n",
       "\n",
       "            user_id user_sign_up_date  user_state  \n",
       "id                                                 \n",
       "GOQMMKSQQH      122        2015-05-16   Louisiana  \n",
       "HWKKBQKNWI        3        2015-05-01        Ohio  \n",
       "DKQSXVNJDH       35        2015-05-04  New Jersey  \n",
       "HLHRIDQTUW      126        2015-05-16    Illinois  \n",
       "SUKJCSBCYW        6        2015-05-01  New Jersey  "
      ]
     },
     "execution_count": 8,
     "metadata": {},
     "output_type": "execute_result"
    }
   ],
   "source": [
    "df.head()"
   ]
  },
  {
   "cell_type": "markdown",
   "metadata": {},
   "source": [
    "### What are the top 3 and the bottom 3 states in terms of number of users?"
   ]
  },
  {
   "cell_type": "code",
   "execution_count": 34,
   "metadata": {
    "collapsed": false
   },
   "outputs": [
    {
     "name": "stderr",
     "output_type": "stream",
     "text": [
      "//anaconda/envs/kagglehouse/lib/python2.7/site-packages/jupyter_client/jsonutil.py:67: DeprecationWarning: Interpreting naive datetime as local 2017-09-20 22:31:09.085889. Please add timezone info to timestamps.\n",
      "  new_obj[k] = extract_dates(v)\n"
     ]
    }
   ],
   "source": [
    "user_counts = df[['user_id','user_state']].drop_duplicates(subset='user_id')"
   ]
  },
  {
   "cell_type": "code",
   "execution_count": 38,
   "metadata": {
    "collapsed": false
   },
   "outputs": [
    {
     "name": "stderr",
     "output_type": "stream",
     "text": [
      "//anaconda/envs/kagglehouse/lib/python2.7/site-packages/jupyter_client/jsonutil.py:67: DeprecationWarning: Interpreting naive datetime as local 2017-09-20 22:31:29.966260. Please add timezone info to timestamps.\n",
      "  new_obj[k] = extract_dates(v)\n"
     ]
    }
   ],
   "source": [
    "user_counts = pd.DataFrame(user_counts.user_state.value_counts())"
   ]
  },
  {
   "cell_type": "code",
   "execution_count": 44,
   "metadata": {
    "collapsed": false,
    "scrolled": true
   },
   "outputs": [
    {
     "name": "stdout",
     "output_type": "stream",
     "text": [
      "Top 3 States or users\n"
     ]
    },
    {
     "name": "stderr",
     "output_type": "stream",
     "text": [
      "//anaconda/envs/kagglehouse/lib/python2.7/site-packages/jupyter_client/jsonutil.py:67: DeprecationWarning: Interpreting naive datetime as local 2017-09-20 22:32:18.564768. Please add timezone info to timestamps.\n",
      "  new_obj[k] = extract_dates(v)\n"
     ]
    },
    {
     "data": {
      "text/html": [
       "<div>\n",
       "<style>\n",
       "    .dataframe thead tr:only-child th {\n",
       "        text-align: right;\n",
       "    }\n",
       "\n",
       "    .dataframe thead th {\n",
       "        text-align: left;\n",
       "    }\n",
       "\n",
       "    .dataframe tbody tr th {\n",
       "        vertical-align: top;\n",
       "    }\n",
       "</style>\n",
       "<table border=\"1\" class=\"dataframe\">\n",
       "  <thead>\n",
       "    <tr style=\"text-align: right;\">\n",
       "      <th></th>\n",
       "      <th>user_state</th>\n",
       "    </tr>\n",
       "  </thead>\n",
       "  <tbody>\n",
       "    <tr>\n",
       "      <th>New York</th>\n",
       "      <td>23</td>\n",
       "    </tr>\n",
       "    <tr>\n",
       "      <th>California</th>\n",
       "      <td>21</td>\n",
       "    </tr>\n",
       "    <tr>\n",
       "      <th>Texas</th>\n",
       "      <td>15</td>\n",
       "    </tr>\n",
       "  </tbody>\n",
       "</table>\n",
       "</div>"
      ],
      "text/plain": [
       "            user_state\n",
       "New York            23\n",
       "California          21\n",
       "Texas               15"
      ]
     },
     "execution_count": 44,
     "metadata": {},
     "output_type": "execute_result"
    }
   ],
   "source": [
    "print \"Top 3 States or users\"\n",
    "user_counts[:3]"
   ]
  },
  {
   "cell_type": "code",
   "execution_count": 43,
   "metadata": {
    "collapsed": false
   },
   "outputs": [
    {
     "name": "stdout",
     "output_type": "stream",
     "text": [
      "Bottom 3 States or users\n"
     ]
    },
    {
     "name": "stderr",
     "output_type": "stream",
     "text": [
      "//anaconda/envs/kagglehouse/lib/python2.7/site-packages/jupyter_client/jsonutil.py:67: DeprecationWarning: Interpreting naive datetime as local 2017-09-20 22:32:13.409224. Please add timezone info to timestamps.\n",
      "  new_obj[k] = extract_dates(v)\n"
     ]
    },
    {
     "data": {
      "text/html": [
       "<div>\n",
       "<style>\n",
       "    .dataframe thead tr:only-child th {\n",
       "        text-align: right;\n",
       "    }\n",
       "\n",
       "    .dataframe thead th {\n",
       "        text-align: left;\n",
       "    }\n",
       "\n",
       "    .dataframe tbody tr th {\n",
       "        vertical-align: top;\n",
       "    }\n",
       "</style>\n",
       "<table border=\"1\" class=\"dataframe\">\n",
       "  <thead>\n",
       "    <tr style=\"text-align: right;\">\n",
       "      <th></th>\n",
       "      <th>user_state</th>\n",
       "    </tr>\n",
       "  </thead>\n",
       "  <tbody>\n",
       "    <tr>\n",
       "      <th>North Dakota</th>\n",
       "      <td>1</td>\n",
       "    </tr>\n",
       "    <tr>\n",
       "      <th>Connecticut</th>\n",
       "      <td>1</td>\n",
       "    </tr>\n",
       "    <tr>\n",
       "      <th>New Mexico</th>\n",
       "      <td>1</td>\n",
       "    </tr>\n",
       "  </tbody>\n",
       "</table>\n",
       "</div>"
      ],
      "text/plain": [
       "              user_state\n",
       "North Dakota           1\n",
       "Connecticut            1\n",
       "New Mexico             1"
      ]
     },
     "execution_count": 43,
     "metadata": {},
     "output_type": "execute_result"
    }
   ],
   "source": [
    "print \"Bottom 3 States or users\"\n",
    "user_counts[-3:]"
   ]
  },
  {
   "cell_type": "code",
   "execution_count": 42,
   "metadata": {
    "collapsed": false
   },
   "outputs": [
    {
     "name": "stdout",
     "output_type": "stream",
     "text": [
      "Bottom States\n"
     ]
    },
    {
     "name": "stderr",
     "output_type": "stream",
     "text": [
      "//anaconda/envs/kagglehouse/lib/python2.7/site-packages/jupyter_client/jsonutil.py:67: DeprecationWarning: Interpreting naive datetime as local 2017-09-20 22:32:04.039569. Please add timezone info to timestamps.\n",
      "  new_obj[k] = extract_dates(v)\n"
     ]
    },
    {
     "data": {
      "text/html": [
       "<div>\n",
       "<style>\n",
       "    .dataframe thead tr:only-child th {\n",
       "        text-align: right;\n",
       "    }\n",
       "\n",
       "    .dataframe thead th {\n",
       "        text-align: left;\n",
       "    }\n",
       "\n",
       "    .dataframe tbody tr th {\n",
       "        vertical-align: top;\n",
       "    }\n",
       "</style>\n",
       "<table border=\"1\" class=\"dataframe\">\n",
       "  <thead>\n",
       "    <tr style=\"text-align: right;\">\n",
       "      <th></th>\n",
       "      <th>user_state</th>\n",
       "    </tr>\n",
       "  </thead>\n",
       "  <tbody>\n",
       "    <tr>\n",
       "      <th>Kansas</th>\n",
       "      <td>1</td>\n",
       "    </tr>\n",
       "    <tr>\n",
       "      <th>Nebraska</th>\n",
       "      <td>1</td>\n",
       "    </tr>\n",
       "    <tr>\n",
       "      <th>Idaho</th>\n",
       "      <td>1</td>\n",
       "    </tr>\n",
       "    <tr>\n",
       "      <th>Iowa</th>\n",
       "      <td>1</td>\n",
       "    </tr>\n",
       "    <tr>\n",
       "      <th>Rhode Island</th>\n",
       "      <td>1</td>\n",
       "    </tr>\n",
       "    <tr>\n",
       "      <th>Arizona</th>\n",
       "      <td>1</td>\n",
       "    </tr>\n",
       "    <tr>\n",
       "      <th>North Dakota</th>\n",
       "      <td>1</td>\n",
       "    </tr>\n",
       "    <tr>\n",
       "      <th>Connecticut</th>\n",
       "      <td>1</td>\n",
       "    </tr>\n",
       "    <tr>\n",
       "      <th>New Mexico</th>\n",
       "      <td>1</td>\n",
       "    </tr>\n",
       "  </tbody>\n",
       "</table>\n",
       "</div>"
      ],
      "text/plain": [
       "              user_state\n",
       "Kansas                 1\n",
       "Nebraska               1\n",
       "Idaho                  1\n",
       "Iowa                   1\n",
       "Rhode Island           1\n",
       "Arizona                1\n",
       "North Dakota           1\n",
       "Connecticut            1\n",
       "New Mexico             1"
      ]
     },
     "execution_count": 42,
     "metadata": {},
     "output_type": "execute_result"
    }
   ],
   "source": [
    "print \"Bottom States\"\n",
    "user_counts[user_counts.user_state == 1]"
   ]
  },
  {
   "cell_type": "markdown",
   "metadata": {},
   "source": [
    "### What are the top 3 and the bottom 3 states in terms of user engagement?\n",
    "You can choose how to mathematically define user engagement.\n",
    "What the CEO cares about here is in which states users are using the product a lot/very little."
   ]
  },
  {
   "cell_type": "code",
   "execution_count": 90,
   "metadata": {
    "collapsed": false
   },
   "outputs": [
    {
     "name": "stderr",
     "output_type": "stream",
     "text": [
      "//anaconda/envs/kagglehouse/lib/python2.7/site-packages/jupyter_client/jsonutil.py:67: DeprecationWarning: Interpreting naive datetime as local 2017-09-21 08:27:31.148612. Please add timezone info to timestamps.\n",
      "  new_obj[k] = extract_dates(v)\n"
     ]
    }
   ],
   "source": [
    "def count_by_state(df):\n",
    "    \"\"\" all data in df come from the same state \"\"\"\n",
    "    total_played = df.shape[0]\n",
    "    first_play_dt = df.time_played.min()\n",
    "    last_play_dt = df.time_played.max()\n",
    "    duration = last_play_dt - first_play_dt\n",
    "    duration_hours = duration.total_seconds()/60.0\n",
    "    song_day_ratio = total_played*1.0/duration.days\n",
    "    song_hour_ratio = total_played*1.0/duration_hours\n",
    "    return pd.Series([first_play_dt,last_play_dt, duration,duration_hours,song_day_ratio,song_hour_ratio, total_played],\n",
    "                     index=[\"first_play_dt\",'last_play_dt','duration','duration_hours','song_day_ratio','song_hour_ratio','total_played'])"
   ]
  },
  {
   "cell_type": "code",
   "execution_count": 91,
   "metadata": {
    "collapsed": false
   },
   "outputs": [
    {
     "name": "stderr",
     "output_type": "stream",
     "text": [
      "//anaconda/envs/kagglehouse/lib/python2.7/site-packages/jupyter_client/jsonutil.py:67: DeprecationWarning: Interpreting naive datetime as local 2017-09-21 08:27:31.613151. Please add timezone info to timestamps.\n",
      "  new_obj[k] = extract_dates(v)\n"
     ]
    }
   ],
   "source": [
    "# df.groupby('user_state')['user_id'].size()"
   ]
  },
  {
   "cell_type": "code",
   "execution_count": 92,
   "metadata": {
    "collapsed": false
   },
   "outputs": [
    {
     "name": "stderr",
     "output_type": "stream",
     "text": [
      "//anaconda/envs/kagglehouse/lib/python2.7/site-packages/jupyter_client/jsonutil.py:67: DeprecationWarning: Interpreting naive datetime as local 2017-09-21 08:27:32.516482. Please add timezone info to timestamps.\n",
      "  new_obj[k] = extract_dates(v)\n"
     ]
    }
   ],
   "source": [
    "state_engagement = df.groupby(\"user_state\").apply(count_by_state)"
   ]
  },
  {
   "cell_type": "code",
   "execution_count": 93,
   "metadata": {
    "collapsed": false
   },
   "outputs": [
    {
     "name": "stderr",
     "output_type": "stream",
     "text": [
      "//anaconda/envs/kagglehouse/lib/python2.7/site-packages/jupyter_client/jsonutil.py:67: DeprecationWarning: Interpreting naive datetime as local 2017-09-21 08:27:35.254385. Please add timezone info to timestamps.\n",
      "  new_obj[k] = extract_dates(v)\n"
     ]
    },
    {
     "data": {
      "text/html": [
       "<div>\n",
       "<style>\n",
       "    .dataframe thead tr:only-child th {\n",
       "        text-align: right;\n",
       "    }\n",
       "\n",
       "    .dataframe thead th {\n",
       "        text-align: left;\n",
       "    }\n",
       "\n",
       "    .dataframe tbody tr th {\n",
       "        vertical-align: top;\n",
       "    }\n",
       "</style>\n",
       "<table border=\"1\" class=\"dataframe\">\n",
       "  <thead>\n",
       "    <tr style=\"text-align: right;\">\n",
       "      <th></th>\n",
       "      <th>first_play_dt</th>\n",
       "      <th>last_play_dt</th>\n",
       "      <th>duration</th>\n",
       "      <th>duration_hours</th>\n",
       "      <th>song_day_ratio</th>\n",
       "      <th>song_hour_ratio</th>\n",
       "      <th>total_played</th>\n",
       "    </tr>\n",
       "    <tr>\n",
       "      <th>user_state</th>\n",
       "      <th></th>\n",
       "      <th></th>\n",
       "      <th></th>\n",
       "      <th></th>\n",
       "      <th></th>\n",
       "      <th></th>\n",
       "      <th></th>\n",
       "    </tr>\n",
       "  </thead>\n",
       "  <tbody>\n",
       "    <tr>\n",
       "      <th>Alabama</th>\n",
       "      <td>2015-06-01 14:17:56</td>\n",
       "      <td>2015-06-28 14:48:55</td>\n",
       "      <td>27 days 00:30:59</td>\n",
       "      <td>38910.983333</td>\n",
       "      <td>3.851852</td>\n",
       "      <td>0.002673</td>\n",
       "      <td>104</td>\n",
       "    </tr>\n",
       "    <tr>\n",
       "      <th>Alaska</th>\n",
       "      <td>2015-06-01 18:48:18</td>\n",
       "      <td>2015-06-28 22:58:23</td>\n",
       "      <td>27 days 04:10:05</td>\n",
       "      <td>39130.083333</td>\n",
       "      <td>2.148148</td>\n",
       "      <td>0.001482</td>\n",
       "      <td>58</td>\n",
       "    </tr>\n",
       "    <tr>\n",
       "      <th>Arizona</th>\n",
       "      <td>2015-06-01 13:05:17</td>\n",
       "      <td>2015-06-28 19:23:45</td>\n",
       "      <td>27 days 06:18:28</td>\n",
       "      <td>39258.466667</td>\n",
       "      <td>0.814815</td>\n",
       "      <td>0.000560</td>\n",
       "      <td>22</td>\n",
       "    </tr>\n",
       "    <tr>\n",
       "      <th>Arkansas</th>\n",
       "      <td>2015-06-01 14:07:37</td>\n",
       "      <td>2015-06-28 17:40:11</td>\n",
       "      <td>27 days 03:32:34</td>\n",
       "      <td>39092.566667</td>\n",
       "      <td>1.259259</td>\n",
       "      <td>0.000870</td>\n",
       "      <td>34</td>\n",
       "    </tr>\n",
       "    <tr>\n",
       "      <th>California</th>\n",
       "      <td>2015-06-01 06:33:03</td>\n",
       "      <td>2015-06-28 20:35:50</td>\n",
       "      <td>27 days 14:02:47</td>\n",
       "      <td>39722.783333</td>\n",
       "      <td>15.740741</td>\n",
       "      <td>0.010699</td>\n",
       "      <td>425</td>\n",
       "    </tr>\n",
       "  </tbody>\n",
       "</table>\n",
       "</div>"
      ],
      "text/plain": [
       "                 first_play_dt        last_play_dt         duration  \\\n",
       "user_state                                                            \n",
       "Alabama    2015-06-01 14:17:56 2015-06-28 14:48:55 27 days 00:30:59   \n",
       "Alaska     2015-06-01 18:48:18 2015-06-28 22:58:23 27 days 04:10:05   \n",
       "Arizona    2015-06-01 13:05:17 2015-06-28 19:23:45 27 days 06:18:28   \n",
       "Arkansas   2015-06-01 14:07:37 2015-06-28 17:40:11 27 days 03:32:34   \n",
       "California 2015-06-01 06:33:03 2015-06-28 20:35:50 27 days 14:02:47   \n",
       "\n",
       "            duration_hours  song_day_ratio  song_hour_ratio  total_played  \n",
       "user_state                                                                 \n",
       "Alabama       38910.983333        3.851852         0.002673           104  \n",
       "Alaska        39130.083333        2.148148         0.001482            58  \n",
       "Arizona       39258.466667        0.814815         0.000560            22  \n",
       "Arkansas      39092.566667        1.259259         0.000870            34  \n",
       "California    39722.783333       15.740741         0.010699           425  "
      ]
     },
     "execution_count": 93,
     "metadata": {},
     "output_type": "execute_result"
    }
   ],
   "source": [
    "# state_engagement['duration_days'] = \n",
    "state_engagement.head()"
   ]
  },
  {
   "cell_type": "code",
   "execution_count": 96,
   "metadata": {
    "collapsed": false
   },
   "outputs": [
    {
     "name": "stdout",
     "output_type": "stream",
     "text": [
      "Top 3 Plays Per Day - States\n"
     ]
    },
    {
     "name": "stderr",
     "output_type": "stream",
     "text": [
      "//anaconda/envs/kagglehouse/lib/python2.7/site-packages/jupyter_client/jsonutil.py:67: DeprecationWarning: Interpreting naive datetime as local 2017-09-21 08:28:03.039630. Please add timezone info to timestamps.\n",
      "  new_obj[k] = extract_dates(v)\n"
     ]
    },
    {
     "data": {
      "text/html": [
       "<div>\n",
       "<style>\n",
       "    .dataframe thead tr:only-child th {\n",
       "        text-align: right;\n",
       "    }\n",
       "\n",
       "    .dataframe thead th {\n",
       "        text-align: left;\n",
       "    }\n",
       "\n",
       "    .dataframe tbody tr th {\n",
       "        vertical-align: top;\n",
       "    }\n",
       "</style>\n",
       "<table border=\"1\" class=\"dataframe\">\n",
       "  <thead>\n",
       "    <tr style=\"text-align: right;\">\n",
       "      <th></th>\n",
       "      <th>first_play_dt</th>\n",
       "      <th>last_play_dt</th>\n",
       "      <th>duration</th>\n",
       "      <th>duration_hours</th>\n",
       "      <th>song_day_ratio</th>\n",
       "      <th>song_hour_ratio</th>\n",
       "      <th>total_played</th>\n",
       "    </tr>\n",
       "    <tr>\n",
       "      <th>user_state</th>\n",
       "      <th></th>\n",
       "      <th></th>\n",
       "      <th></th>\n",
       "      <th></th>\n",
       "      <th></th>\n",
       "      <th></th>\n",
       "      <th></th>\n",
       "    </tr>\n",
       "  </thead>\n",
       "  <tbody>\n",
       "    <tr>\n",
       "      <th>New York</th>\n",
       "      <td>2015-06-01 06:14:45</td>\n",
       "      <td>2015-06-28 21:36:40</td>\n",
       "      <td>27 days 15:21:55</td>\n",
       "      <td>39801.916667</td>\n",
       "      <td>17.370370</td>\n",
       "      <td>0.011783</td>\n",
       "      <td>469</td>\n",
       "    </tr>\n",
       "    <tr>\n",
       "      <th>California</th>\n",
       "      <td>2015-06-01 06:33:03</td>\n",
       "      <td>2015-06-28 20:35:50</td>\n",
       "      <td>27 days 14:02:47</td>\n",
       "      <td>39722.783333</td>\n",
       "      <td>15.740741</td>\n",
       "      <td>0.010699</td>\n",
       "      <td>425</td>\n",
       "    </tr>\n",
       "    <tr>\n",
       "      <th>Texas</th>\n",
       "      <td>2015-06-01 06:09:04</td>\n",
       "      <td>2015-06-28 20:28:35</td>\n",
       "      <td>27 days 14:19:31</td>\n",
       "      <td>39739.516667</td>\n",
       "      <td>8.518519</td>\n",
       "      <td>0.005788</td>\n",
       "      <td>230</td>\n",
       "    </tr>\n",
       "  </tbody>\n",
       "</table>\n",
       "</div>"
      ],
      "text/plain": [
       "                 first_play_dt        last_play_dt         duration  \\\n",
       "user_state                                                            \n",
       "New York   2015-06-01 06:14:45 2015-06-28 21:36:40 27 days 15:21:55   \n",
       "California 2015-06-01 06:33:03 2015-06-28 20:35:50 27 days 14:02:47   \n",
       "Texas      2015-06-01 06:09:04 2015-06-28 20:28:35 27 days 14:19:31   \n",
       "\n",
       "            duration_hours  song_day_ratio  song_hour_ratio  total_played  \n",
       "user_state                                                                 \n",
       "New York      39801.916667       17.370370         0.011783           469  \n",
       "California    39722.783333       15.740741         0.010699           425  \n",
       "Texas         39739.516667        8.518519         0.005788           230  "
      ]
     },
     "execution_count": 96,
     "metadata": {},
     "output_type": "execute_result"
    }
   ],
   "source": [
    "print \"Top 3 Plays Per Day - States\"\n",
    "state_engagement.sort_values(by='song_day_ratio', ascending = False)[:3]"
   ]
  },
  {
   "cell_type": "code",
   "execution_count": 97,
   "metadata": {
    "collapsed": false
   },
   "outputs": [
    {
     "name": "stdout",
     "output_type": "stream",
     "text": [
      "Bottom 3 Plays Per Day - States\n"
     ]
    },
    {
     "name": "stderr",
     "output_type": "stream",
     "text": [
      "//anaconda/envs/kagglehouse/lib/python2.7/site-packages/jupyter_client/jsonutil.py:67: DeprecationWarning: Interpreting naive datetime as local 2017-09-21 08:28:15.995547. Please add timezone info to timestamps.\n",
      "  new_obj[k] = extract_dates(v)\n"
     ]
    },
    {
     "data": {
      "text/html": [
       "<div>\n",
       "<style>\n",
       "    .dataframe thead tr:only-child th {\n",
       "        text-align: right;\n",
       "    }\n",
       "\n",
       "    .dataframe thead th {\n",
       "        text-align: left;\n",
       "    }\n",
       "\n",
       "    .dataframe tbody tr th {\n",
       "        vertical-align: top;\n",
       "    }\n",
       "</style>\n",
       "<table border=\"1\" class=\"dataframe\">\n",
       "  <thead>\n",
       "    <tr style=\"text-align: right;\">\n",
       "      <th></th>\n",
       "      <th>first_play_dt</th>\n",
       "      <th>last_play_dt</th>\n",
       "      <th>duration</th>\n",
       "      <th>duration_hours</th>\n",
       "      <th>song_day_ratio</th>\n",
       "      <th>song_hour_ratio</th>\n",
       "      <th>total_played</th>\n",
       "    </tr>\n",
       "    <tr>\n",
       "      <th>user_state</th>\n",
       "      <th></th>\n",
       "      <th></th>\n",
       "      <th></th>\n",
       "      <th></th>\n",
       "      <th></th>\n",
       "      <th></th>\n",
       "      <th></th>\n",
       "    </tr>\n",
       "  </thead>\n",
       "  <tbody>\n",
       "    <tr>\n",
       "      <th>Connecticut</th>\n",
       "      <td>2015-06-06 19:23:58</td>\n",
       "      <td>2015-06-28 13:16:32</td>\n",
       "      <td>21 days 17:52:34</td>\n",
       "      <td>31312.566667</td>\n",
       "      <td>0.761905</td>\n",
       "      <td>0.000511</td>\n",
       "      <td>16</td>\n",
       "    </tr>\n",
       "    <tr>\n",
       "      <th>New Mexico</th>\n",
       "      <td>2015-06-01 05:22:30</td>\n",
       "      <td>2015-06-28 13:15:58</td>\n",
       "      <td>27 days 07:53:28</td>\n",
       "      <td>39353.466667</td>\n",
       "      <td>0.629630</td>\n",
       "      <td>0.000432</td>\n",
       "      <td>17</td>\n",
       "    </tr>\n",
       "    <tr>\n",
       "      <th>Kansas</th>\n",
       "      <td>2015-06-05 15:01:50</td>\n",
       "      <td>2015-06-27 09:02:15</td>\n",
       "      <td>21 days 18:00:25</td>\n",
       "      <td>31320.416667</td>\n",
       "      <td>0.380952</td>\n",
       "      <td>0.000255</td>\n",
       "      <td>8</td>\n",
       "    </tr>\n",
       "  </tbody>\n",
       "</table>\n",
       "</div>"
      ],
      "text/plain": [
       "                  first_play_dt        last_play_dt         duration  \\\n",
       "user_state                                                             \n",
       "Connecticut 2015-06-06 19:23:58 2015-06-28 13:16:32 21 days 17:52:34   \n",
       "New Mexico  2015-06-01 05:22:30 2015-06-28 13:15:58 27 days 07:53:28   \n",
       "Kansas      2015-06-05 15:01:50 2015-06-27 09:02:15 21 days 18:00:25   \n",
       "\n",
       "             duration_hours  song_day_ratio  song_hour_ratio  total_played  \n",
       "user_state                                                                  \n",
       "Connecticut    31312.566667        0.761905         0.000511            16  \n",
       "New Mexico     39353.466667        0.629630         0.000432            17  \n",
       "Kansas         31320.416667        0.380952         0.000255             8  "
      ]
     },
     "execution_count": 97,
     "metadata": {},
     "output_type": "execute_result"
    }
   ],
   "source": [
    "print \"Bottom 3 Plays Per Day - States\"\n",
    "state_engagement.sort_values(by='song_day_ratio', ascending = False)[-3:]"
   ]
  },
  {
   "cell_type": "code",
   "execution_count": 99,
   "metadata": {
    "collapsed": false
   },
   "outputs": [
    {
     "name": "stderr",
     "output_type": "stream",
     "text": [
      "//anaconda/envs/kagglehouse/lib/python2.7/site-packages/jupyter_client/jsonutil.py:67: DeprecationWarning: Interpreting naive datetime as local 2017-09-21 09:12:19.028910. Please add timezone info to timestamps.\n",
      "  new_obj[k] = extract_dates(v)\n"
     ]
    },
    {
     "data": {
      "text/html": [
       "<div>\n",
       "<style>\n",
       "    .dataframe thead tr:only-child th {\n",
       "        text-align: right;\n",
       "    }\n",
       "\n",
       "    .dataframe thead th {\n",
       "        text-align: left;\n",
       "    }\n",
       "\n",
       "    .dataframe tbody tr th {\n",
       "        vertical-align: top;\n",
       "    }\n",
       "</style>\n",
       "<table border=\"1\" class=\"dataframe\">\n",
       "  <thead>\n",
       "    <tr style=\"text-align: right;\">\n",
       "      <th></th>\n",
       "      <th>song_played</th>\n",
       "      <th>time_played</th>\n",
       "      <th>user_id</th>\n",
       "      <th>user_sign_up_date</th>\n",
       "      <th>user_state</th>\n",
       "    </tr>\n",
       "    <tr>\n",
       "      <th>id</th>\n",
       "      <th></th>\n",
       "      <th></th>\n",
       "      <th></th>\n",
       "      <th></th>\n",
       "      <th></th>\n",
       "    </tr>\n",
       "  </thead>\n",
       "  <tbody>\n",
       "    <tr>\n",
       "      <th>GOQMMKSQQH</th>\n",
       "      <td>Hey Jude</td>\n",
       "      <td>2015-06-11 21:51:35</td>\n",
       "      <td>122</td>\n",
       "      <td>2015-05-16</td>\n",
       "      <td>Louisiana</td>\n",
       "    </tr>\n",
       "    <tr>\n",
       "      <th>HWKKBQKNWI</th>\n",
       "      <td>We Can Work It Out</td>\n",
       "      <td>2015-06-06 16:49:19</td>\n",
       "      <td>3</td>\n",
       "      <td>2015-05-01</td>\n",
       "      <td>Ohio</td>\n",
       "    </tr>\n",
       "    <tr>\n",
       "      <th>DKQSXVNJDH</th>\n",
       "      <td>Back In the U.S.S.R.</td>\n",
       "      <td>2015-06-14 02:11:29</td>\n",
       "      <td>35</td>\n",
       "      <td>2015-05-04</td>\n",
       "      <td>New Jersey</td>\n",
       "    </tr>\n",
       "    <tr>\n",
       "      <th>HLHRIDQTUW</th>\n",
       "      <td>P.s. I Love You</td>\n",
       "      <td>2015-06-08 12:26:10</td>\n",
       "      <td>126</td>\n",
       "      <td>2015-05-16</td>\n",
       "      <td>Illinois</td>\n",
       "    </tr>\n",
       "    <tr>\n",
       "      <th>SUKJCSBCYW</th>\n",
       "      <td>Sgt. Pepper's Lonely Hearts Club Band</td>\n",
       "      <td>2015-06-28 14:57:00</td>\n",
       "      <td>6</td>\n",
       "      <td>2015-05-01</td>\n",
       "      <td>New Jersey</td>\n",
       "    </tr>\n",
       "  </tbody>\n",
       "</table>\n",
       "</div>"
      ],
      "text/plain": [
       "                                      song_played         time_played  \\\n",
       "id                                                                      \n",
       "GOQMMKSQQH                               Hey Jude 2015-06-11 21:51:35   \n",
       "HWKKBQKNWI                     We Can Work It Out 2015-06-06 16:49:19   \n",
       "DKQSXVNJDH                   Back In the U.S.S.R. 2015-06-14 02:11:29   \n",
       "HLHRIDQTUW                        P.s. I Love You 2015-06-08 12:26:10   \n",
       "SUKJCSBCYW  Sgt. Pepper's Lonely Hearts Club Band 2015-06-28 14:57:00   \n",
       "\n",
       "            user_id user_sign_up_date  user_state  \n",
       "id                                                 \n",
       "GOQMMKSQQH      122        2015-05-16   Louisiana  \n",
       "HWKKBQKNWI        3        2015-05-01        Ohio  \n",
       "DKQSXVNJDH       35        2015-05-04  New Jersey  \n",
       "HLHRIDQTUW      126        2015-05-16    Illinois  \n",
       "SUKJCSBCYW        6        2015-05-01  New Jersey  "
      ]
     },
     "execution_count": 99,
     "metadata": {},
     "output_type": "execute_result"
    }
   ],
   "source": [
    "df.head()"
   ]
  },
  {
   "cell_type": "markdown",
   "metadata": {},
   "source": [
    "### The CEO wants to send a gift to the ﬁrst user who signed-up for each state. That is, the ﬁrst user who signed-up from California, from Oregon, etc. Can you give him a list of those users?"
   ]
  },
  {
   "cell_type": "code",
   "execution_count": 123,
   "metadata": {
    "collapsed": false,
    "scrolled": true
   },
   "outputs": [
    {
     "name": "stderr",
     "output_type": "stream",
     "text": [
      "//anaconda/envs/kagglehouse/lib/python2.7/site-packages/jupyter_client/jsonutil.py:67: DeprecationWarning: Interpreting naive datetime as local 2017-09-21 09:21:40.005501. Please add timezone info to timestamps.\n",
      "  new_obj[k] = extract_dates(v)\n"
     ]
    },
    {
     "data": {
      "text/html": [
       "<div>\n",
       "<style>\n",
       "    .dataframe thead tr:only-child th {\n",
       "        text-align: right;\n",
       "    }\n",
       "\n",
       "    .dataframe thead th {\n",
       "        text-align: left;\n",
       "    }\n",
       "\n",
       "    .dataframe tbody tr th {\n",
       "        vertical-align: top;\n",
       "    }\n",
       "</style>\n",
       "<table border=\"1\" class=\"dataframe\">\n",
       "  <thead>\n",
       "    <tr style=\"text-align: right;\">\n",
       "      <th></th>\n",
       "      <th>user_id</th>\n",
       "      <th>user_sign_up_date</th>\n",
       "    </tr>\n",
       "    <tr>\n",
       "      <th>user_state</th>\n",
       "      <th></th>\n",
       "      <th></th>\n",
       "    </tr>\n",
       "  </thead>\n",
       "  <tbody>\n",
       "    <tr>\n",
       "      <th>Alabama</th>\n",
       "      <td>5</td>\n",
       "      <td>2015-05-01</td>\n",
       "    </tr>\n",
       "    <tr>\n",
       "      <th>Texas</th>\n",
       "      <td>7</td>\n",
       "      <td>2015-05-01</td>\n",
       "    </tr>\n",
       "    <tr>\n",
       "      <th>Oregon</th>\n",
       "      <td>1</td>\n",
       "      <td>2015-05-01</td>\n",
       "    </tr>\n",
       "    <tr>\n",
       "      <th>Ohio</th>\n",
       "      <td>3</td>\n",
       "      <td>2015-05-01</td>\n",
       "    </tr>\n",
       "    <tr>\n",
       "      <th>North Carolina</th>\n",
       "      <td>2</td>\n",
       "      <td>2015-05-01</td>\n",
       "    </tr>\n",
       "    <tr>\n",
       "      <th>New Mexico</th>\n",
       "      <td>4</td>\n",
       "      <td>2015-05-01</td>\n",
       "    </tr>\n",
       "    <tr>\n",
       "      <th>New Jersey</th>\n",
       "      <td>6</td>\n",
       "      <td>2015-05-01</td>\n",
       "    </tr>\n",
       "    <tr>\n",
       "      <th>Pennsylvania</th>\n",
       "      <td>11</td>\n",
       "      <td>2015-05-02</td>\n",
       "    </tr>\n",
       "    <tr>\n",
       "      <th>New York</th>\n",
       "      <td>19</td>\n",
       "      <td>2015-05-02</td>\n",
       "    </tr>\n",
       "    <tr>\n",
       "      <th>Minnesota</th>\n",
       "      <td>8</td>\n",
       "      <td>2015-05-02</td>\n",
       "    </tr>\n",
       "    <tr>\n",
       "      <th>Michigan</th>\n",
       "      <td>13</td>\n",
       "      <td>2015-05-02</td>\n",
       "    </tr>\n",
       "    <tr>\n",
       "      <th>Massachusetts</th>\n",
       "      <td>15</td>\n",
       "      <td>2015-05-02</td>\n",
       "    </tr>\n",
       "    <tr>\n",
       "      <th>Maryland</th>\n",
       "      <td>18</td>\n",
       "      <td>2015-05-02</td>\n",
       "    </tr>\n",
       "    <tr>\n",
       "      <th>Mississippi</th>\n",
       "      <td>23</td>\n",
       "      <td>2015-05-02</td>\n",
       "    </tr>\n",
       "    <tr>\n",
       "      <th>Georgia</th>\n",
       "      <td>20</td>\n",
       "      <td>2015-05-02</td>\n",
       "    </tr>\n",
       "    <tr>\n",
       "      <th>Utah</th>\n",
       "      <td>29</td>\n",
       "      <td>2015-05-03</td>\n",
       "    </tr>\n",
       "    <tr>\n",
       "      <th>Kentucky</th>\n",
       "      <td>34</td>\n",
       "      <td>2015-05-04</td>\n",
       "    </tr>\n",
       "    <tr>\n",
       "      <th>California</th>\n",
       "      <td>39</td>\n",
       "      <td>2015-05-04</td>\n",
       "    </tr>\n",
       "    <tr>\n",
       "      <th>Florida</th>\n",
       "      <td>41</td>\n",
       "      <td>2015-05-04</td>\n",
       "    </tr>\n",
       "    <tr>\n",
       "      <th>Wisconsin</th>\n",
       "      <td>32</td>\n",
       "      <td>2015-05-04</td>\n",
       "    </tr>\n",
       "    <tr>\n",
       "      <th>Illinois</th>\n",
       "      <td>45</td>\n",
       "      <td>2015-05-05</td>\n",
       "    </tr>\n",
       "    <tr>\n",
       "      <th>Louisiana</th>\n",
       "      <td>50</td>\n",
       "      <td>2015-05-06</td>\n",
       "    </tr>\n",
       "    <tr>\n",
       "      <th>West Virginia</th>\n",
       "      <td>60</td>\n",
       "      <td>2015-05-07</td>\n",
       "    </tr>\n",
       "    <tr>\n",
       "      <th>Tennessee</th>\n",
       "      <td>70</td>\n",
       "      <td>2015-05-08</td>\n",
       "    </tr>\n",
       "    <tr>\n",
       "      <th>South Carolina</th>\n",
       "      <td>64</td>\n",
       "      <td>2015-05-08</td>\n",
       "    </tr>\n",
       "    <tr>\n",
       "      <th>Arkansas</th>\n",
       "      <td>78</td>\n",
       "      <td>2015-05-08</td>\n",
       "    </tr>\n",
       "    <tr>\n",
       "      <th>Missouri</th>\n",
       "      <td>85</td>\n",
       "      <td>2015-05-09</td>\n",
       "    </tr>\n",
       "    <tr>\n",
       "      <th>Arizona</th>\n",
       "      <td>105</td>\n",
       "      <td>2015-05-12</td>\n",
       "    </tr>\n",
       "    <tr>\n",
       "      <th>Indiana</th>\n",
       "      <td>102</td>\n",
       "      <td>2015-05-12</td>\n",
       "    </tr>\n",
       "    <tr>\n",
       "      <th>Alaska</th>\n",
       "      <td>106</td>\n",
       "      <td>2015-05-12</td>\n",
       "    </tr>\n",
       "    <tr>\n",
       "      <th>Oklahoma</th>\n",
       "      <td>119</td>\n",
       "      <td>2015-05-16</td>\n",
       "    </tr>\n",
       "    <tr>\n",
       "      <th>Nebraska</th>\n",
       "      <td>134</td>\n",
       "      <td>2015-05-16</td>\n",
       "    </tr>\n",
       "    <tr>\n",
       "      <th>Washington</th>\n",
       "      <td>125</td>\n",
       "      <td>2015-05-16</td>\n",
       "    </tr>\n",
       "    <tr>\n",
       "      <th>Connecticut</th>\n",
       "      <td>127</td>\n",
       "      <td>2015-05-16</td>\n",
       "    </tr>\n",
       "    <tr>\n",
       "      <th>Virginia</th>\n",
       "      <td>142</td>\n",
       "      <td>2015-05-17</td>\n",
       "    </tr>\n",
       "    <tr>\n",
       "      <th>North Dakota</th>\n",
       "      <td>135</td>\n",
       "      <td>2015-05-17</td>\n",
       "    </tr>\n",
       "    <tr>\n",
       "      <th>Colorado</th>\n",
       "      <td>173</td>\n",
       "      <td>2015-05-19</td>\n",
       "    </tr>\n",
       "    <tr>\n",
       "      <th>Kansas</th>\n",
       "      <td>177</td>\n",
       "      <td>2015-05-19</td>\n",
       "    </tr>\n",
       "    <tr>\n",
       "      <th>Iowa</th>\n",
       "      <td>178</td>\n",
       "      <td>2015-05-19</td>\n",
       "    </tr>\n",
       "    <tr>\n",
       "      <th>Idaho</th>\n",
       "      <td>165</td>\n",
       "      <td>2015-05-19</td>\n",
       "    </tr>\n",
       "    <tr>\n",
       "      <th>Rhode Island</th>\n",
       "      <td>174</td>\n",
       "      <td>2015-05-19</td>\n",
       "    </tr>\n",
       "  </tbody>\n",
       "</table>\n",
       "</div>"
      ],
      "text/plain": [
       "                user_id user_sign_up_date\n",
       "user_state                               \n",
       "Alabama               5        2015-05-01\n",
       "Texas                 7        2015-05-01\n",
       "Oregon                1        2015-05-01\n",
       "Ohio                  3        2015-05-01\n",
       "North Carolina        2        2015-05-01\n",
       "New Mexico            4        2015-05-01\n",
       "New Jersey            6        2015-05-01\n",
       "Pennsylvania         11        2015-05-02\n",
       "New York             19        2015-05-02\n",
       "Minnesota             8        2015-05-02\n",
       "Michigan             13        2015-05-02\n",
       "Massachusetts        15        2015-05-02\n",
       "Maryland             18        2015-05-02\n",
       "Mississippi          23        2015-05-02\n",
       "Georgia              20        2015-05-02\n",
       "Utah                 29        2015-05-03\n",
       "Kentucky             34        2015-05-04\n",
       "California           39        2015-05-04\n",
       "Florida              41        2015-05-04\n",
       "Wisconsin            32        2015-05-04\n",
       "Illinois             45        2015-05-05\n",
       "Louisiana            50        2015-05-06\n",
       "West Virginia        60        2015-05-07\n",
       "Tennessee            70        2015-05-08\n",
       "South Carolina       64        2015-05-08\n",
       "Arkansas             78        2015-05-08\n",
       "Missouri             85        2015-05-09\n",
       "Arizona             105        2015-05-12\n",
       "Indiana             102        2015-05-12\n",
       "Alaska              106        2015-05-12\n",
       "Oklahoma            119        2015-05-16\n",
       "Nebraska            134        2015-05-16\n",
       "Washington          125        2015-05-16\n",
       "Connecticut         127        2015-05-16\n",
       "Virginia            142        2015-05-17\n",
       "North Dakota        135        2015-05-17\n",
       "Colorado            173        2015-05-19\n",
       "Kansas              177        2015-05-19\n",
       "Iowa                178        2015-05-19\n",
       "Idaho               165        2015-05-19\n",
       "Rhode Island        174        2015-05-19"
      ]
     },
     "execution_count": 123,
     "metadata": {},
     "output_type": "execute_result"
    }
   ],
   "source": [
    "def first_signup(df):\n",
    "    idx = df.user_sign_up_date.argmin()\n",
    "    return df.loc[idx,[\"user_id\",\"user_sign_up_date\"]]\n",
    " \n",
    "first_users = df.groupby(\"user_state\").apply(first_signup)\n",
    "first_users.sort_values(by=\"user_sign_up_date\")\n"
   ]
  },
  {
   "cell_type": "markdown",
   "metadata": {},
   "source": [
    "# Build a function that takes as an input any of the songs in the data and returns the most likely song to be listened next. That is, if, for instance, a user is currently listening to \"Eight Days A Week\", which song has the highest probability of being played right after it by the same user? This is going to be v1 of a song recommendation model.\n",
    "\n",
    "\n",
    "There are a few ways to attack this question - I'm going to use Collaborative Filtering to find similar users / songs.  The theory behind collaborative filtering is that similar tastes in the past generalize to similar tastes in the future.\n",
    "\n"
   ]
  },
  {
   "cell_type": "code",
   "execution_count": 330,
   "metadata": {
    "collapsed": false
   },
   "outputs": [
    {
     "name": "stderr",
     "output_type": "stream",
     "text": [
      "//anaconda/envs/kagglehouse/lib/python2.7/site-packages/jupyter_client/jsonutil.py:67: DeprecationWarning: Interpreting naive datetime as local 2017-09-21 10:44:54.582704. Please add timezone info to timestamps.\n",
      "  new_obj[k] = extract_dates(v)\n"
     ]
    }
   ],
   "source": [
    "# ratings\n",
    "ratings = df.reset_index()\n",
    "ratings = pd.DataFrame(ratings.groupby(['user_id','song_played']).size())\n",
    "ratings = ratings.reset_index()\n",
    "ratings.columns = ['user_id','song_played','count']"
   ]
  },
  {
   "cell_type": "code",
   "execution_count": 124,
   "metadata": {
    "collapsed": false
   },
   "outputs": [
    {
     "name": "stderr",
     "output_type": "stream",
     "text": [
      "//anaconda/envs/kagglehouse/lib/python2.7/site-packages/jupyter_client/jsonutil.py:67: DeprecationWarning: Interpreting naive datetime as local 2017-09-21 09:23:53.553472. Please add timezone info to timestamps.\n",
      "  new_obj[k] = extract_dates(v)\n"
     ]
    },
    {
     "data": {
      "text/html": [
       "<div>\n",
       "<style>\n",
       "    .dataframe thead tr:only-child th {\n",
       "        text-align: right;\n",
       "    }\n",
       "\n",
       "    .dataframe thead th {\n",
       "        text-align: left;\n",
       "    }\n",
       "\n",
       "    .dataframe tbody tr th {\n",
       "        vertical-align: top;\n",
       "    }\n",
       "</style>\n",
       "<table border=\"1\" class=\"dataframe\">\n",
       "  <thead>\n",
       "    <tr style=\"text-align: right;\">\n",
       "      <th></th>\n",
       "      <th>user_id</th>\n",
       "      <th>song_played</th>\n",
       "      <th>count</th>\n",
       "    </tr>\n",
       "  </thead>\n",
       "  <tbody>\n",
       "    <tr>\n",
       "      <th>0</th>\n",
       "      <td>1</td>\n",
       "      <td>Birthday</td>\n",
       "      <td>1</td>\n",
       "    </tr>\n",
       "    <tr>\n",
       "      <th>1</th>\n",
       "      <td>1</td>\n",
       "      <td>Can't Buy Me Love</td>\n",
       "      <td>1</td>\n",
       "    </tr>\n",
       "    <tr>\n",
       "      <th>2</th>\n",
       "      <td>1</td>\n",
       "      <td>Hello Goodbye</td>\n",
       "      <td>1</td>\n",
       "    </tr>\n",
       "    <tr>\n",
       "      <th>3</th>\n",
       "      <td>1</td>\n",
       "      <td>Here Comes The Sun</td>\n",
       "      <td>2</td>\n",
       "    </tr>\n",
       "    <tr>\n",
       "      <th>4</th>\n",
       "      <td>1</td>\n",
       "      <td>I Feel Fine</td>\n",
       "      <td>1</td>\n",
       "    </tr>\n",
       "  </tbody>\n",
       "</table>\n",
       "</div>"
      ],
      "text/plain": [
       "   user_id         song_played  count\n",
       "0        1            Birthday      1\n",
       "1        1   Can't Buy Me Love      1\n",
       "2        1       Hello Goodbye      1\n",
       "3        1  Here Comes The Sun      2\n",
       "4        1         I Feel Fine      1"
      ]
     },
     "execution_count": 124,
     "metadata": {},
     "output_type": "execute_result"
    }
   ],
   "source": [
    "ratings.head()"
   ]
  },
  {
   "cell_type": "code",
   "execution_count": 126,
   "metadata": {
    "collapsed": false
   },
   "outputs": [
    {
     "name": "stderr",
     "output_type": "stream",
     "text": [
      "//anaconda/envs/kagglehouse/lib/python2.7/site-packages/jupyter_client/jsonutil.py:67: DeprecationWarning: Interpreting naive datetime as local 2017-09-21 09:31:15.864440. Please add timezone info to timestamps.\n",
      "  new_obj[k] = extract_dates(v)\n"
     ]
    }
   ],
   "source": [
    "songMatrix = ratings[['user_id','song_played','count']]"
   ]
  },
  {
   "cell_type": "code",
   "execution_count": 127,
   "metadata": {
    "collapsed": false
   },
   "outputs": [
    {
     "name": "stderr",
     "output_type": "stream",
     "text": [
      "//anaconda/envs/kagglehouse/lib/python2.7/site-packages/jupyter_client/jsonutil.py:67: DeprecationWarning: Interpreting naive datetime as local 2017-09-21 09:31:34.406778. Please add timezone info to timestamps.\n",
      "  new_obj[k] = extract_dates(v)\n"
     ]
    }
   ],
   "source": [
    "songMatrix = songMatrix.pivot_table(index='user_id',columns='song_played',values='count')"
   ]
  },
  {
   "cell_type": "markdown",
   "metadata": {},
   "source": [
    "#### First Approach - Pearson\n",
    "* Let's use Pandas corrwith() method to get correlations between two pandas series:\n",
    "    * Corrwith uses the Pearson Correlation as well, nicely packaged in the Pandas library\n",
    "* To make a recommendation for one song, we calculate a rating of others weighted by the similarity. "
   ]
  },
  {
   "cell_type": "code",
   "execution_count": 129,
   "metadata": {
    "collapsed": false
   },
   "outputs": [
    {
     "name": "stderr",
     "output_type": "stream",
     "text": [
      "//anaconda/envs/kagglehouse/lib/python2.7/site-packages/jupyter_client/jsonutil.py:67: DeprecationWarning: Interpreting naive datetime as local 2017-09-21 09:32:54.582550. Please add timezone info to timestamps.\n",
      "  new_obj[k] = extract_dates(v)\n"
     ]
    }
   ],
   "source": [
    "song1_user_ratings = songMatrix['Here Comes The Sun']"
   ]
  },
  {
   "cell_type": "code",
   "execution_count": 130,
   "metadata": {
    "collapsed": false
   },
   "outputs": [
    {
     "name": "stderr",
     "output_type": "stream",
     "text": [
      "//anaconda/envs/kagglehouse/lib/python2.7/site-packages/jupyter_client/jsonutil.py:67: DeprecationWarning: Interpreting naive datetime as local 2017-09-21 09:33:14.587878. Please add timezone info to timestamps.\n",
      "  new_obj[k] = extract_dates(v)\n",
      "//anaconda/envs/kagglehouse/lib/python2.7/site-packages/numpy/lib/function_base.py:2995: RuntimeWarning: Degrees of freedom <= 0 for slice\n",
      "  c = cov(x, y, rowvar)\n",
      "//anaconda/envs/kagglehouse/lib/python2.7/site-packages/numpy/lib/function_base.py:2929: RuntimeWarning: divide by zero encountered in double_scalars\n",
      "  c *= 1. / np.float64(fact)\n"
     ]
    }
   ],
   "source": [
    "similar_to_song1 = songMatrix.corrwith(song1_user_ratings)"
   ]
  },
  {
   "cell_type": "code",
   "execution_count": 131,
   "metadata": {
    "collapsed": false
   },
   "outputs": [
    {
     "name": "stderr",
     "output_type": "stream",
     "text": [
      "//anaconda/envs/kagglehouse/lib/python2.7/site-packages/jupyter_client/jsonutil.py:67: DeprecationWarning: Interpreting naive datetime as local 2017-09-21 09:33:37.107309. Please add timezone info to timestamps.\n",
      "  new_obj[k] = extract_dates(v)\n"
     ]
    }
   ],
   "source": [
    "corr_song1 = pd.DataFrame(similar_to_song1, columns=['Correlation'])\n",
    "corr_song1.dropna(inplace=True)"
   ]
  },
  {
   "cell_type": "code",
   "execution_count": 134,
   "metadata": {
    "collapsed": false
   },
   "outputs": [
    {
     "name": "stderr",
     "output_type": "stream",
     "text": [
      "//anaconda/envs/kagglehouse/lib/python2.7/site-packages/jupyter_client/jsonutil.py:67: DeprecationWarning: Interpreting naive datetime as local 2017-09-21 09:34:31.399104. Please add timezone info to timestamps.\n",
      "  new_obj[k] = extract_dates(v)\n"
     ]
    },
    {
     "data": {
      "text/html": [
       "<div>\n",
       "<style>\n",
       "    .dataframe thead tr:only-child th {\n",
       "        text-align: right;\n",
       "    }\n",
       "\n",
       "    .dataframe thead th {\n",
       "        text-align: left;\n",
       "    }\n",
       "\n",
       "    .dataframe tbody tr th {\n",
       "        vertical-align: top;\n",
       "    }\n",
       "</style>\n",
       "<table border=\"1\" class=\"dataframe\">\n",
       "  <thead>\n",
       "    <tr style=\"text-align: right;\">\n",
       "      <th></th>\n",
       "      <th>Correlation</th>\n",
       "    </tr>\n",
       "    <tr>\n",
       "      <th>song_played</th>\n",
       "      <th></th>\n",
       "    </tr>\n",
       "  </thead>\n",
       "  <tbody>\n",
       "    <tr>\n",
       "      <th>Here Comes The Sun</th>\n",
       "      <td>1.000000</td>\n",
       "    </tr>\n",
       "    <tr>\n",
       "      <th>She Loves You</th>\n",
       "      <td>0.882498</td>\n",
       "    </tr>\n",
       "    <tr>\n",
       "      <th>Lady Madonna</th>\n",
       "      <td>0.804030</td>\n",
       "    </tr>\n",
       "    <tr>\n",
       "      <th>Sun King</th>\n",
       "      <td>0.522233</td>\n",
       "    </tr>\n",
       "    <tr>\n",
       "      <th>Something</th>\n",
       "      <td>0.492031</td>\n",
       "    </tr>\n",
       "    <tr>\n",
       "      <th>A Day In The Life</th>\n",
       "      <td>0.411623</td>\n",
       "    </tr>\n",
       "    <tr>\n",
       "      <th>Ob-la-di, Ob-la-da</th>\n",
       "      <td>0.351720</td>\n",
       "    </tr>\n",
       "    <tr>\n",
       "      <th>Back In the U.S.S.R.</th>\n",
       "      <td>0.309610</td>\n",
       "    </tr>\n",
       "    <tr>\n",
       "      <th>Ticket to Ride</th>\n",
       "      <td>0.279508</td>\n",
       "    </tr>\n",
       "    <tr>\n",
       "      <th>Come Together</th>\n",
       "      <td>0.248860</td>\n",
       "    </tr>\n",
       "  </tbody>\n",
       "</table>\n",
       "</div>"
      ],
      "text/plain": [
       "                      Correlation\n",
       "song_played                      \n",
       "Here Comes The Sun       1.000000\n",
       "She Loves You            0.882498\n",
       "Lady Madonna             0.804030\n",
       "Sun King                 0.522233\n",
       "Something                0.492031\n",
       "A Day In The Life        0.411623\n",
       "Ob-la-di, Ob-la-da       0.351720\n",
       "Back In the U.S.S.R.     0.309610\n",
       "Ticket to Ride           0.279508\n",
       "Come Together            0.248860"
      ]
     },
     "execution_count": 134,
     "metadata": {},
     "output_type": "execute_result"
    }
   ],
   "source": [
    "# Similar songs to Here Comes The Sun\n",
    "corr_song1.sort_values('Correlation',ascending=False).head(10)"
   ]
  },
  {
   "cell_type": "code",
   "execution_count": 135,
   "metadata": {
    "collapsed": false
   },
   "outputs": [
    {
     "name": "stderr",
     "output_type": "stream",
     "text": [
      "//anaconda/envs/kagglehouse/lib/python2.7/site-packages/jupyter_client/jsonutil.py:67: DeprecationWarning: Interpreting naive datetime as local 2017-09-21 09:35:23.066048. Please add timezone info to timestamps.\n",
      "  new_obj[k] = extract_dates(v)\n"
     ]
    },
    {
     "data": {
      "text/html": [
       "<div>\n",
       "<style>\n",
       "    .dataframe thead tr:only-child th {\n",
       "        text-align: right;\n",
       "    }\n",
       "\n",
       "    .dataframe thead th {\n",
       "        text-align: left;\n",
       "    }\n",
       "\n",
       "    .dataframe tbody tr th {\n",
       "        vertical-align: top;\n",
       "    }\n",
       "</style>\n",
       "<table border=\"1\" class=\"dataframe\">\n",
       "  <thead>\n",
       "    <tr style=\"text-align: right;\">\n",
       "      <th></th>\n",
       "      <th>Correlation</th>\n",
       "    </tr>\n",
       "    <tr>\n",
       "      <th>song_played</th>\n",
       "      <th></th>\n",
       "    </tr>\n",
       "  </thead>\n",
       "  <tbody>\n",
       "    <tr>\n",
       "      <th>Can't Buy Me Love</th>\n",
       "      <td>-0.218218</td>\n",
       "    </tr>\n",
       "    <tr>\n",
       "      <th>Sgt. Pepper/with A Little Help From My Friends</th>\n",
       "      <td>-0.228665</td>\n",
       "    </tr>\n",
       "    <tr>\n",
       "      <th>Sgt. Pepper/a Day In The Life</th>\n",
       "      <td>-0.233550</td>\n",
       "    </tr>\n",
       "    <tr>\n",
       "      <th>Paperback Writer</th>\n",
       "      <td>-0.239046</td>\n",
       "    </tr>\n",
       "    <tr>\n",
       "      <th>Please Please Me</th>\n",
       "      <td>-0.250000</td>\n",
       "    </tr>\n",
       "    <tr>\n",
       "      <th>Things We Said Today</th>\n",
       "      <td>-0.250000</td>\n",
       "    </tr>\n",
       "    <tr>\n",
       "      <th>Twist and Shout</th>\n",
       "      <td>-0.254514</td>\n",
       "    </tr>\n",
       "    <tr>\n",
       "      <th>With a Little Help From My Friends</th>\n",
       "      <td>-0.271163</td>\n",
       "    </tr>\n",
       "    <tr>\n",
       "      <th>Birthday</th>\n",
       "      <td>-0.370987</td>\n",
       "    </tr>\n",
       "    <tr>\n",
       "      <th>I Want To Hold Your Hand</th>\n",
       "      <td>-0.471405</td>\n",
       "    </tr>\n",
       "  </tbody>\n",
       "</table>\n",
       "</div>"
      ],
      "text/plain": [
       "                                                Correlation\n",
       "song_played                                                \n",
       "Can't Buy Me Love                                 -0.218218\n",
       "Sgt. Pepper/with A Little Help From My Friends    -0.228665\n",
       "Sgt. Pepper/a Day In The Life                     -0.233550\n",
       "Paperback Writer                                  -0.239046\n",
       "Please Please Me                                  -0.250000\n",
       "Things We Said Today                              -0.250000\n",
       "Twist and Shout                                   -0.254514\n",
       "With a Little Help From My Friends                -0.271163\n",
       "Birthday                                          -0.370987\n",
       "I Want To Hold Your Hand                          -0.471405"
      ]
     },
     "execution_count": 135,
     "metadata": {},
     "output_type": "execute_result"
    }
   ],
   "source": [
    "# Dissimilar songs to Here Comes The Sun\n",
    "corr_song1.sort_values('Correlation',ascending=False).tail(10)"
   ]
  },
  {
   "cell_type": "markdown",
   "metadata": {},
   "source": [
    "### 2nd Approach"
   ]
  },
  {
   "cell_type": "code",
   "execution_count": 301,
   "metadata": {
    "collapsed": false
   },
   "outputs": [
    {
     "name": "stderr",
     "output_type": "stream",
     "text": [
      "//anaconda/envs/kagglehouse/lib/python2.7/site-packages/jupyter_client/jsonutil.py:67: DeprecationWarning: Interpreting naive datetime as local 2017-09-21 10:30:03.965873. Please add timezone info to timestamps.\n",
      "  new_obj[k] = extract_dates(v)\n"
     ]
    }
   ],
   "source": [
    "from sklearn.preprocessing import normalize\n"
   ]
  },
  {
   "cell_type": "code",
   "execution_count": 302,
   "metadata": {
    "collapsed": false
   },
   "outputs": [
    {
     "name": "stderr",
     "output_type": "stream",
     "text": [
      "//anaconda/envs/kagglehouse/lib/python2.7/site-packages/jupyter_client/jsonutil.py:67: DeprecationWarning: Interpreting naive datetime as local 2017-09-21 10:30:04.640615. Please add timezone info to timestamps.\n",
      "  new_obj[k] = extract_dates(v)\n"
     ]
    }
   ],
   "source": [
    "counts_by_songs = songMatrix.T"
   ]
  },
  {
   "cell_type": "code",
   "execution_count": 304,
   "metadata": {
    "collapsed": false
   },
   "outputs": [
    {
     "name": "stderr",
     "output_type": "stream",
     "text": [
      "//anaconda/envs/kagglehouse/lib/python2.7/site-packages/jupyter_client/jsonutil.py:67: DeprecationWarning: Interpreting naive datetime as local 2017-09-21 10:30:15.576733. Please add timezone info to timestamps.\n",
      "  new_obj[k] = extract_dates(v)\n"
     ]
    }
   ],
   "source": [
    "counts_by_songs = counts_by_songs.fillna(0)\n",
    "# normalize each song's vector to have unit norm\n",
    "# which simplifies 'cosine similarity' to dot-product of two vectors\n",
    "cnts_by_songs_normed = normalize(counts_by_songs,axis=1)\n",
    "\n",
    "# songs_similarity is a [S,S] matrix, where 'S' is #songs\n",
    "# the higher songs_similarity[i,j] indicates the more similar between song[i] and song[j]\n",
    "songs_similarity = cnts_by_songs_normed.dot(cnts_by_songs_normed.T)\n",
    "\n",
    "# transform np.ndarray to pd.DataFrame\n",
    "songs_similarity = pd.DataFrame(songs_similarity,index=counts_by_songs.index,columns=counts_by_songs.index)"
   ]
  },
  {
   "cell_type": "code",
   "execution_count": 311,
   "metadata": {
    "collapsed": false,
    "scrolled": true
   },
   "outputs": [
    {
     "name": "stderr",
     "output_type": "stream",
     "text": [
      "//anaconda/envs/kagglehouse/lib/python2.7/site-packages/jupyter_client/jsonutil.py:67: DeprecationWarning: Interpreting naive datetime as local 2017-09-21 10:40:06.008885. Please add timezone info to timestamps.\n",
      "  new_obj[k] = extract_dates(v)\n"
     ]
    }
   ],
   "source": [
    "### find top K most similar of each song\n",
    "def most_similar_songs(s,topk):\n",
    "    # [0] must be itself\n",
    "    similar_ones = s.sort_values(ascending=False)[1:topk+1].index.values\n",
    "    return pd.Series(similar_ones,index = [\"similar#{}\".format(i) for i in xrange(1,topk+1)])\n",
    "\n",
    "most_sim_song = songs_similarity.apply(most_similar_songs,topk=1,axis=1)"
   ]
  },
  {
   "cell_type": "code",
   "execution_count": 316,
   "metadata": {
    "collapsed": false
   },
   "outputs": [
    {
     "name": "stderr",
     "output_type": "stream",
     "text": [
      "//anaconda/envs/kagglehouse/lib/python2.7/site-packages/jupyter_client/jsonutil.py:67: DeprecationWarning: Interpreting naive datetime as local 2017-09-21 10:40:38.313188. Please add timezone info to timestamps.\n",
      "  new_obj[k] = extract_dates(v)\n"
     ]
    }
   ],
   "source": [
    "most_sim_song = most_sim_song.reset_index()"
   ]
  },
  {
   "cell_type": "code",
   "execution_count": 319,
   "metadata": {
    "collapsed": false
   },
   "outputs": [
    {
     "name": "stderr",
     "output_type": "stream",
     "text": [
      "//anaconda/envs/kagglehouse/lib/python2.7/site-packages/jupyter_client/jsonutil.py:67: DeprecationWarning: Interpreting naive datetime as local 2017-09-21 10:40:57.322611. Please add timezone info to timestamps.\n",
      "  new_obj[k] = extract_dates(v)\n"
     ]
    },
    {
     "data": {
      "text/html": [
       "<div>\n",
       "<style>\n",
       "    .dataframe thead tr:only-child th {\n",
       "        text-align: right;\n",
       "    }\n",
       "\n",
       "    .dataframe thead th {\n",
       "        text-align: left;\n",
       "    }\n",
       "\n",
       "    .dataframe tbody tr th {\n",
       "        vertical-align: top;\n",
       "    }\n",
       "</style>\n",
       "<table border=\"1\" class=\"dataframe\">\n",
       "  <thead>\n",
       "    <tr style=\"text-align: right;\">\n",
       "      <th></th>\n",
       "      <th>song_played</th>\n",
       "      <th>similar#1</th>\n",
       "    </tr>\n",
       "  </thead>\n",
       "  <tbody>\n",
       "    <tr>\n",
       "      <th>35</th>\n",
       "      <td>Here Comes The Sun</td>\n",
       "      <td>Come Together</td>\n",
       "    </tr>\n",
       "  </tbody>\n",
       "</table>\n",
       "</div>"
      ],
      "text/plain": [
       "           song_played      similar#1\n",
       "35  Here Comes The Sun  Come Together"
      ]
     },
     "execution_count": 319,
     "metadata": {},
     "output_type": "execute_result"
    }
   ],
   "source": [
    "most_sim_song[most_sim_song.song_played == 'Here Comes The Sun']\n",
    "# ['Here Comes The Sun']\n"
   ]
  },
  {
   "cell_type": "markdown",
   "metadata": {},
   "source": [
    "## Collaborative Filtering - Matrix Factorization using Alternating Least Squares\n",
    "\n",
    "This type of model is similar to the one that won the Netflix prize.\n",
    "\n",
    "We're going to create a rating matrix in which each rating can be looked at as a weighted linear combination of latent user and song factors \n",
    "\n",
    "To get a rating, we're going to take the dot product of the corresponding user vector row and the corresponding song vector column\n",
    "\n",
    "Before we had one big matrix of shape Users x songs\n",
    "\n",
    "Now we have 2 matrices:\n",
    "* Users x k latent features \n",
    "* songs x k latent features\n",
    "    \n",
    "When multiplied the k cancels out and we still end up with one big matrix that is User x songs shape\n",
    "\n",
    "We don't actually know k, but that's the trick of alternating least squares\n",
    "* We randomly initialize our song matrix, then estimate the user matrix (for every user).\n",
    "    * We'll initialize with average ratings for each song in our user matrix and then random numbers elsewhere\n",
    "* This will allow us to then go back and estimate the song matrix (for every song).\n",
    "    * When we estimate the song matrix, we use the same steps\n",
    "* This happens until we minimized our cost, convergence, and find a solid approximation of the whole ratings matrix. \n",
    "    * Turns our problem into a least squares problem and solving for that system.\n",
    "    \n",
    "  "
   ]
  },
  {
   "cell_type": "code",
   "execution_count": null,
   "metadata": {
    "collapsed": true
   },
   "outputs": [],
   "source": [
    "# # ratings\n",
    "# ratings = df.reset_index()\n",
    "# ratings = pd.DataFrame(ratings.groupby(['user_id','song_played']).size())\n",
    "# ratings = ratings.reset_index()\n",
    "# ratings.columns = ['user_id','song_played','count']"
   ]
  },
  {
   "cell_type": "code",
   "execution_count": 164,
   "metadata": {
    "collapsed": false
   },
   "outputs": [
    {
     "name": "stderr",
     "output_type": "stream",
     "text": [
      "//anaconda/envs/kagglehouse/lib/python2.7/site-packages/jupyter_client/jsonutil.py:67: DeprecationWarning: Interpreting naive datetime as local 2017-09-21 09:47:38.260660. Please add timezone info to timestamps.\n",
      "  new_obj[k] = extract_dates(v)\n"
     ]
    }
   ],
   "source": [
    "songs = df[['song_played']].reset_index().drop_duplicates(subset='song_played')"
   ]
  },
  {
   "cell_type": "code",
   "execution_count": 168,
   "metadata": {
    "collapsed": false
   },
   "outputs": [
    {
     "name": "stderr",
     "output_type": "stream",
     "text": [
      "//anaconda/envs/kagglehouse/lib/python2.7/site-packages/jupyter_client/jsonutil.py:67: DeprecationWarning: Interpreting naive datetime as local 2017-09-21 09:48:27.997054. Please add timezone info to timestamps.\n",
      "  new_obj[k] = extract_dates(v)\n"
     ]
    }
   ],
   "source": [
    "songs = songs.drop('id',axis = 1)"
   ]
  },
  {
   "cell_type": "code",
   "execution_count": 171,
   "metadata": {
    "collapsed": false
   },
   "outputs": [
    {
     "name": "stderr",
     "output_type": "stream",
     "text": [
      "//anaconda/envs/kagglehouse/lib/python2.7/site-packages/jupyter_client/jsonutil.py:67: DeprecationWarning: Interpreting naive datetime as local 2017-09-21 09:48:38.774891. Please add timezone info to timestamps.\n",
      "  new_obj[k] = extract_dates(v)\n"
     ]
    }
   ],
   "source": [
    "songs = songs.reset_index()"
   ]
  },
  {
   "cell_type": "code",
   "execution_count": 187,
   "metadata": {
    "collapsed": false,
    "scrolled": true
   },
   "outputs": [
    {
     "name": "stderr",
     "output_type": "stream",
     "text": [
      "//anaconda/envs/kagglehouse/lib/python2.7/site-packages/jupyter_client/jsonutil.py:67: DeprecationWarning: Interpreting naive datetime as local 2017-09-21 09:53:16.617673. Please add timezone info to timestamps.\n",
      "  new_obj[k] = extract_dates(v)\n"
     ]
    },
    {
     "data": {
      "text/html": [
       "<div>\n",
       "<style>\n",
       "    .dataframe thead tr:only-child th {\n",
       "        text-align: right;\n",
       "    }\n",
       "\n",
       "    .dataframe thead th {\n",
       "        text-align: left;\n",
       "    }\n",
       "\n",
       "    .dataframe tbody tr th {\n",
       "        vertical-align: top;\n",
       "    }\n",
       "</style>\n",
       "<table border=\"1\" class=\"dataframe\">\n",
       "  <thead>\n",
       "    <tr style=\"text-align: right;\">\n",
       "      <th></th>\n",
       "      <th>index</th>\n",
       "      <th>song_played</th>\n",
       "    </tr>\n",
       "  </thead>\n",
       "  <tbody>\n",
       "    <tr>\n",
       "      <th>0</th>\n",
       "      <td>0</td>\n",
       "      <td>Hey Jude</td>\n",
       "    </tr>\n",
       "    <tr>\n",
       "      <th>1</th>\n",
       "      <td>1</td>\n",
       "      <td>We Can Work It Out</td>\n",
       "    </tr>\n",
       "    <tr>\n",
       "      <th>2</th>\n",
       "      <td>2</td>\n",
       "      <td>Back In the U.S.S.R.</td>\n",
       "    </tr>\n",
       "    <tr>\n",
       "      <th>3</th>\n",
       "      <td>3</td>\n",
       "      <td>P.s. I Love You</td>\n",
       "    </tr>\n",
       "    <tr>\n",
       "      <th>4</th>\n",
       "      <td>4</td>\n",
       "      <td>Sgt. Pepper's Lonely Hearts Club Band</td>\n",
       "    </tr>\n",
       "  </tbody>\n",
       "</table>\n",
       "</div>"
      ],
      "text/plain": [
       "   index                            song_played\n",
       "0      0                               Hey Jude\n",
       "1      1                     We Can Work It Out\n",
       "2      2                   Back In the U.S.S.R.\n",
       "3      3                        P.s. I Love You\n",
       "4      4  Sgt. Pepper's Lonely Hearts Club Band"
      ]
     },
     "execution_count": 187,
     "metadata": {},
     "output_type": "execute_result"
    }
   ],
   "source": [
    "songs.head()"
   ]
  },
  {
   "cell_type": "code",
   "execution_count": 350,
   "metadata": {
    "collapsed": false
   },
   "outputs": [
    {
     "name": "stderr",
     "output_type": "stream",
     "text": [
      "//anaconda/envs/kagglehouse/lib/python2.7/site-packages/jupyter_client/jsonutil.py:67: DeprecationWarning: Interpreting naive datetime as local 2017-09-21 10:48:59.398078. Please add timezone info to timestamps.\n",
      "  new_obj[k] = extract_dates(v)\n"
     ]
    }
   ],
   "source": [
    "df2 = df[['user_id','song_played','time_played']]"
   ]
  },
  {
   "cell_type": "code",
   "execution_count": 351,
   "metadata": {
    "collapsed": false
   },
   "outputs": [
    {
     "name": "stderr",
     "output_type": "stream",
     "text": [
      "//anaconda/envs/kagglehouse/lib/python2.7/site-packages/jupyter_client/jsonutil.py:67: DeprecationWarning: Interpreting naive datetime as local 2017-09-21 10:48:59.813167. Please add timezone info to timestamps.\n",
      "  new_obj[k] = extract_dates(v)\n"
     ]
    }
   ],
   "source": [
    "df2 = pd.merge(df2,songs,on='song_played')\n"
   ]
  },
  {
   "cell_type": "code",
   "execution_count": 352,
   "metadata": {
    "collapsed": false
   },
   "outputs": [
    {
     "name": "stderr",
     "output_type": "stream",
     "text": [
      "//anaconda/envs/kagglehouse/lib/python2.7/site-packages/jupyter_client/jsonutil.py:67: DeprecationWarning: Interpreting naive datetime as local 2017-09-21 10:49:00.095444. Please add timezone info to timestamps.\n",
      "  new_obj[k] = extract_dates(v)\n"
     ]
    },
    {
     "data": {
      "text/html": [
       "<div>\n",
       "<style>\n",
       "    .dataframe thead tr:only-child th {\n",
       "        text-align: right;\n",
       "    }\n",
       "\n",
       "    .dataframe thead th {\n",
       "        text-align: left;\n",
       "    }\n",
       "\n",
       "    .dataframe tbody tr th {\n",
       "        vertical-align: top;\n",
       "    }\n",
       "</style>\n",
       "<table border=\"1\" class=\"dataframe\">\n",
       "  <thead>\n",
       "    <tr style=\"text-align: right;\">\n",
       "      <th></th>\n",
       "      <th>user_id</th>\n",
       "      <th>song_played</th>\n",
       "      <th>count</th>\n",
       "    </tr>\n",
       "  </thead>\n",
       "  <tbody>\n",
       "    <tr>\n",
       "      <th>0</th>\n",
       "      <td>1</td>\n",
       "      <td>Birthday</td>\n",
       "      <td>1</td>\n",
       "    </tr>\n",
       "    <tr>\n",
       "      <th>1</th>\n",
       "      <td>1</td>\n",
       "      <td>Can't Buy Me Love</td>\n",
       "      <td>1</td>\n",
       "    </tr>\n",
       "    <tr>\n",
       "      <th>2</th>\n",
       "      <td>1</td>\n",
       "      <td>Hello Goodbye</td>\n",
       "      <td>1</td>\n",
       "    </tr>\n",
       "    <tr>\n",
       "      <th>3</th>\n",
       "      <td>1</td>\n",
       "      <td>Here Comes The Sun</td>\n",
       "      <td>2</td>\n",
       "    </tr>\n",
       "    <tr>\n",
       "      <th>4</th>\n",
       "      <td>1</td>\n",
       "      <td>I Feel Fine</td>\n",
       "      <td>1</td>\n",
       "    </tr>\n",
       "  </tbody>\n",
       "</table>\n",
       "</div>"
      ],
      "text/plain": [
       "   user_id         song_played  count\n",
       "0        1            Birthday      1\n",
       "1        1   Can't Buy Me Love      1\n",
       "2        1       Hello Goodbye      1\n",
       "3        1  Here Comes The Sun      2\n",
       "4        1         I Feel Fine      1"
      ]
     },
     "execution_count": 352,
     "metadata": {},
     "output_type": "execute_result"
    }
   ],
   "source": [
    "df2.head()\n",
    "ratings.head()"
   ]
  },
  {
   "cell_type": "code",
   "execution_count": 353,
   "metadata": {
    "collapsed": false
   },
   "outputs": [
    {
     "name": "stderr",
     "output_type": "stream",
     "text": [
      "//anaconda/envs/kagglehouse/lib/python2.7/site-packages/jupyter_client/jsonutil.py:67: DeprecationWarning: Interpreting naive datetime as local 2017-09-21 10:49:00.754153. Please add timezone info to timestamps.\n",
      "  new_obj[k] = extract_dates(v)\n"
     ]
    }
   ],
   "source": [
    "df2 = pd.merge(df2,ratings,on=['user_id','song_played']) "
   ]
  },
  {
   "cell_type": "code",
   "execution_count": 354,
   "metadata": {
    "collapsed": false
   },
   "outputs": [
    {
     "name": "stderr",
     "output_type": "stream",
     "text": [
      "//anaconda/envs/kagglehouse/lib/python2.7/site-packages/jupyter_client/jsonutil.py:67: DeprecationWarning: Interpreting naive datetime as local 2017-09-21 10:49:01.277189. Please add timezone info to timestamps.\n",
      "  new_obj[k] = extract_dates(v)\n"
     ]
    }
   ],
   "source": [
    "\n",
    "df2.columns = ['user_id','song_played','time_played','item_id','rating']"
   ]
  },
  {
   "cell_type": "code",
   "execution_count": 355,
   "metadata": {
    "collapsed": false,
    "scrolled": true
   },
   "outputs": [
    {
     "name": "stderr",
     "output_type": "stream",
     "text": [
      "//anaconda/envs/kagglehouse/lib/python2.7/site-packages/jupyter_client/jsonutil.py:67: DeprecationWarning: Interpreting naive datetime as local 2017-09-21 10:49:01.910574. Please add timezone info to timestamps.\n",
      "  new_obj[k] = extract_dates(v)\n"
     ]
    }
   ],
   "source": [
    "df2 = df2[['user_id','item_id','rating','time_played']]\n",
    "# df2 = df2[['user_id','item_id','rating']]"
   ]
  },
  {
   "cell_type": "code",
   "execution_count": 356,
   "metadata": {
    "collapsed": false
   },
   "outputs": [
    {
     "name": "stderr",
     "output_type": "stream",
     "text": [
      "//anaconda/envs/kagglehouse/lib/python2.7/site-packages/jupyter_client/jsonutil.py:67: DeprecationWarning: Interpreting naive datetime as local 2017-09-21 10:49:02.497983. Please add timezone info to timestamps.\n",
      "  new_obj[k] = extract_dates(v)\n"
     ]
    },
    {
     "data": {
      "text/html": [
       "<div>\n",
       "<style>\n",
       "    .dataframe thead tr:only-child th {\n",
       "        text-align: right;\n",
       "    }\n",
       "\n",
       "    .dataframe thead th {\n",
       "        text-align: left;\n",
       "    }\n",
       "\n",
       "    .dataframe tbody tr th {\n",
       "        vertical-align: top;\n",
       "    }\n",
       "</style>\n",
       "<table border=\"1\" class=\"dataframe\">\n",
       "  <thead>\n",
       "    <tr style=\"text-align: right;\">\n",
       "      <th></th>\n",
       "      <th>user_id</th>\n",
       "      <th>item_id</th>\n",
       "      <th>rating</th>\n",
       "      <th>time_played</th>\n",
       "    </tr>\n",
       "  </thead>\n",
       "  <tbody>\n",
       "    <tr>\n",
       "      <th>0</th>\n",
       "      <td>122</td>\n",
       "      <td>0</td>\n",
       "      <td>1</td>\n",
       "      <td>2015-06-11 21:51:35</td>\n",
       "    </tr>\n",
       "    <tr>\n",
       "      <th>1</th>\n",
       "      <td>150</td>\n",
       "      <td>0</td>\n",
       "      <td>1</td>\n",
       "      <td>2015-06-13 09:06:55</td>\n",
       "    </tr>\n",
       "    <tr>\n",
       "      <th>2</th>\n",
       "      <td>181</td>\n",
       "      <td>0</td>\n",
       "      <td>2</td>\n",
       "      <td>2015-06-04 19:12:08</td>\n",
       "    </tr>\n",
       "    <tr>\n",
       "      <th>3</th>\n",
       "      <td>181</td>\n",
       "      <td>0</td>\n",
       "      <td>2</td>\n",
       "      <td>2015-06-17 11:20:33</td>\n",
       "    </tr>\n",
       "    <tr>\n",
       "      <th>4</th>\n",
       "      <td>47</td>\n",
       "      <td>0</td>\n",
       "      <td>5</td>\n",
       "      <td>2015-06-16 14:57:03</td>\n",
       "    </tr>\n",
       "  </tbody>\n",
       "</table>\n",
       "</div>"
      ],
      "text/plain": [
       "   user_id  item_id  rating         time_played\n",
       "0      122        0       1 2015-06-11 21:51:35\n",
       "1      150        0       1 2015-06-13 09:06:55\n",
       "2      181        0       2 2015-06-04 19:12:08\n",
       "3      181        0       2 2015-06-17 11:20:33\n",
       "4       47        0       5 2015-06-16 14:57:03"
      ]
     },
     "execution_count": 356,
     "metadata": {},
     "output_type": "execute_result"
    }
   ],
   "source": [
    "df2.head()"
   ]
  },
  {
   "cell_type": "code",
   "execution_count": 357,
   "metadata": {
    "collapsed": false
   },
   "outputs": [
    {
     "name": "stderr",
     "output_type": "stream",
     "text": [
      "//anaconda/envs/kagglehouse/lib/python2.7/site-packages/jupyter_client/jsonutil.py:67: DeprecationWarning: Interpreting naive datetime as local 2017-09-21 10:49:03.176168. Please add timezone info to timestamps.\n",
      "  new_obj[k] = extract_dates(v)\n"
     ]
    }
   ],
   "source": [
    "n_users = df2.user_id.unique().shape[0]\n",
    "n_items = df2.item_id.unique().shape[0]"
   ]
  },
  {
   "cell_type": "code",
   "execution_count": 358,
   "metadata": {
    "collapsed": false
   },
   "outputs": [
    {
     "name": "stderr",
     "output_type": "stream",
     "text": [
      "//anaconda/envs/kagglehouse/lib/python2.7/site-packages/jupyter_client/jsonutil.py:67: DeprecationWarning: Interpreting naive datetime as local 2017-09-21 10:49:03.661555. Please add timezone info to timestamps.\n",
      "  new_obj[k] = extract_dates(v)\n"
     ]
    },
    {
     "data": {
      "text/plain": [
       "(196, 100)"
      ]
     },
     "execution_count": 358,
     "metadata": {},
     "output_type": "execute_result"
    }
   ],
   "source": [
    "n_users, n_items"
   ]
  },
  {
   "cell_type": "code",
   "execution_count": 359,
   "metadata": {
    "collapsed": false
   },
   "outputs": [
    {
     "name": "stderr",
     "output_type": "stream",
     "text": [
      "//anaconda/envs/kagglehouse/lib/python2.7/site-packages/jupyter_client/jsonutil.py:67: DeprecationWarning: Interpreting naive datetime as local 2017-09-21 10:49:03.867223. Please add timezone info to timestamps.\n",
      "  new_obj[k] = extract_dates(v)\n"
     ]
    }
   ],
   "source": [
    "from sklearn import cross_validation as cv\n",
    "train_data, test_data = cv.train_test_split(df2,test_size=0.20)\n",
    "\n",
    "train_data = pd.DataFrame(train_data)\n",
    "test_data = pd.DataFrame(test_data)\n",
    "\n",
    "# Create training and test matrix\n",
    "R = np.zeros((n_users, n_items))\n",
    "for line in train_data.itertuples():\n",
    "    try:\n",
    "#         print line\n",
    "        R[line[1]-1, line[2]-1] = line[3]  \n",
    "    except:\n",
    "        pass\n",
    "\n",
    "T = np.zeros((n_users, n_items))\n",
    "for line in test_data.itertuples():\n",
    "    try:\n",
    "        T[line[1]-1, line[2]-1] = line[3]\n",
    "    except:\n",
    "        pass"
   ]
  },
  {
   "cell_type": "markdown",
   "metadata": {},
   "source": [
    "* Now let's create a matrix that'll be 1 if there's a rating and 0 if it's not rated\n",
    "* It'll help us out more later when we want to estimate parameters since we're just doing it for those without ratings"
   ]
  },
  {
   "cell_type": "code",
   "execution_count": 360,
   "metadata": {
    "collapsed": false
   },
   "outputs": [
    {
     "name": "stderr",
     "output_type": "stream",
     "text": [
      "//anaconda/envs/kagglehouse/lib/python2.7/site-packages/jupyter_client/jsonutil.py:67: DeprecationWarning: Interpreting naive datetime as local 2017-09-21 10:49:04.564922. Please add timezone info to timestamps.\n",
      "  new_obj[k] = extract_dates(v)\n"
     ]
    }
   ],
   "source": [
    "# Index matrix for our training_data\n",
    "I = R.copy()\n",
    "I[I > 0] = 1\n",
    "I[I == 0] = 0\n",
    "\n",
    "# Index matrix for our test_data\n",
    "I2 = T.copy()\n",
    "I2[I2 > 0] = 1\n",
    "I2[I2 == 0] = 0"
   ]
  },
  {
   "cell_type": "markdown",
   "metadata": {},
   "source": [
    "* To evaluate our recommender, let's use the RMSE\n",
    "* The cost function / loss function that we want to minimize is therefore the sum of squared errors"
   ]
  },
  {
   "cell_type": "code",
   "execution_count": 361,
   "metadata": {
    "collapsed": false
   },
   "outputs": [
    {
     "name": "stderr",
     "output_type": "stream",
     "text": [
      "//anaconda/envs/kagglehouse/lib/python2.7/site-packages/jupyter_client/jsonutil.py:67: DeprecationWarning: Interpreting naive datetime as local 2017-09-21 10:49:06.016156. Please add timezone info to timestamps.\n",
      "  new_obj[k] = extract_dates(v)\n"
     ]
    }
   ],
   "source": [
    "def rmse(I,R,Q,P):\n",
    "    return np.sqrt(np.sum((I * (R - np.dot(P.T,Q)))**2)/len(R[R > 0]))"
   ]
  },
  {
   "cell_type": "markdown",
   "metadata": {},
   "source": [
    "And now for ALS\n",
    "\n",
    "\n",
    "We need to define hyperameters as below and then create the latent user matrix, followed by the latent song matrix.  Then we need to get the average rating for each song, and set up our kxk matrix placeholder which we will update"
   ]
  },
  {
   "cell_type": "code",
   "execution_count": 382,
   "metadata": {
    "collapsed": false
   },
   "outputs": [
    {
     "name": "stderr",
     "output_type": "stream",
     "text": [
      "//anaconda/envs/kagglehouse/lib/python2.7/site-packages/jupyter_client/jsonutil.py:67: DeprecationWarning: Interpreting naive datetime as local 2017-09-21 10:51:19.534721. Please add timezone info to timestamps.\n",
      "  new_obj[k] = extract_dates(v)\n"
     ]
    }
   ],
   "source": [
    "lmbda = 0.05 # Regularization wt\n",
    "k = 20 # Latent Features\n",
    "n_iterations = 15 # Number of iterations\n",
    "m, n = R.shape # Number of users and items/\n",
    "P = 3 * np.random.rand(k,m) # Latent user matrix \n",
    "Q = 3 * np.random.rand(k,n) # Latent song matrix\n",
    "Q[0,:] = R[R != 0].mean(axis=0) # Average rating for each song\n",
    "E = np.eye(k) # (k x k)-dimensional identity matrix"
   ]
  },
  {
   "cell_type": "code",
   "execution_count": 383,
   "metadata": {
    "collapsed": false
   },
   "outputs": [
    {
     "name": "stderr",
     "output_type": "stream",
     "text": [
      "//anaconda/envs/kagglehouse/lib/python2.7/site-packages/jupyter_client/jsonutil.py:67: DeprecationWarning: Interpreting naive datetime as local 2017-09-21 10:51:20.006504. Please add timezone info to timestamps.\n",
      "  new_obj[k] = extract_dates(v)\n"
     ]
    },
    {
     "name": "stdout",
     "output_type": "stream",
     "text": [
      "[Epoch 1/15] train error: 0.696694, test error: 0.843754\n",
      "[Epoch 2/15] train error: 0.287932, test error: 0.545302\n",
      "[Epoch 3/15] train error: 0.234741, test error: 0.519718\n",
      "[Epoch 4/15] train error: 0.209276, test error: 0.514497\n",
      "[Epoch 5/15] train error: 0.194693, test error: 0.512510\n",
      "[Epoch 6/15] train error: 0.185424, test error: 0.510647\n",
      "[Epoch 7/15] train error: 0.179104, test error: 0.508361\n",
      "[Epoch 8/15] train error: 0.174571, test error: 0.505713\n",
      "[Epoch 9/15] train error: 0.171197, test error: 0.502864\n",
      "[Epoch 10/15] train error: 0.168613, test error: 0.499954\n",
      "[Epoch 11/15] train error: 0.166588, test error: 0.497078\n",
      "[Epoch 12/15] train error: 0.164972, test error: 0.494299\n",
      "[Epoch 13/15] train error: 0.163663, test error: 0.491657\n",
      "[Epoch 14/15] train error: 0.162588, test error: 0.489172\n",
      "[Epoch 15/15] train error: 0.161697, test error: 0.486856\n",
      "Algorithm converged\n"
     ]
    }
   ],
   "source": [
    "train_errors = []\n",
    "test_errors = []\n",
    "\n",
    "# Repeat until convergence\n",
    "for epoch in range(n_iterations):\n",
    "    # Fill Q and estimate P\n",
    "    # Fill the latent song matrix and estimate the latent USER matrix\n",
    "    for i, Ii in enumerate(I):\n",
    "        # Number of items User i has rated\n",
    "        nui = np.count_nonzero(Ii)\n",
    "        \n",
    "        # Zero counts break the algorithm and make a singular vector which we can't have\n",
    "        if (nui == 0): nui = 1 \n",
    "    \n",
    "        # Our ALS solution\n",
    "        ####\n",
    "        # Latent Song Matrix x Transpose of Latent Song Matrix\n",
    "        # + our regularization component \n",
    "        # * the number of song the user has seen\n",
    "        # * the dimensionality shape that we need\n",
    "        Ai = np.dot(Q, np.dot(np.diag(Ii), Q.T)) + lmbda * nui * E\n",
    "        # Latent Song Matrix x Transpose of Training Data Matrix\n",
    "        Vi = np.dot(Q, np.dot(np.diag(Ii), R[i].T))\n",
    "        \n",
    "        # Update P by Multiplying Matrices\n",
    "        P[:,i] = np.linalg.solve(Ai,Vi)\n",
    "        \n",
    "    # Fix P and estimate Q\n",
    "    # Fix the latent user matrix and estimate the latent Song matrix\n",
    "    for j, Ij in enumerate(I.T):\n",
    "        # Number of users that rated item j\n",
    "        nmj = np.count_nonzero(Ij)\n",
    "        # Be aware of zero counts, they break the algorithm\n",
    "        # and make it singular \n",
    "        if (nmj == 0): nmj = 1\n",
    "        \n",
    "        # Our ALS solution\n",
    "        ####\n",
    "        # Latent User Matrix x Transpose of Latent User Matrix\n",
    "        # + our regularization component \n",
    "        # * the number of users the song has been reviewed by\n",
    "        # * the dimensionality shape that we need\n",
    "        Aj = np.dot(P, np.dot(np.diag(Ij), P.T)) + lmbda * nmj * E\n",
    "        Vj = np.dot(P, np.dot(np.diag(Ij), R[:,j]))\n",
    "        \n",
    "        # Update Q by Multiplying Matrices\n",
    "        Q[:,j] = np.linalg.solve(Aj,Vj)\n",
    "    \n",
    "    # Finally we just need to store our errors to eventually analyze them\n",
    "    train_rmse = rmse(I,R,Q,P)\n",
    "    test_rmse = rmse(I2,T,Q,P)\n",
    "    train_errors.append(train_rmse)\n",
    "    test_errors.append(test_rmse)\n",
    "    \n",
    "    print \"[Epoch %d/%d] train error: %f, test error: %f\" \\\n",
    "    %(epoch+1, n_iterations, train_rmse, test_rmse)\n",
    "    \n",
    "print \"Algorithm converged\""
   ]
  },
  {
   "cell_type": "markdown",
   "metadata": {},
   "source": [
    "There's a tradeoff between accuracy and iterations, which is why I chose 15 iterations.  We can go up to 20 if we'd like or down to 10, whatever we'd like. So this is an area I'd like to test out further"
   ]
  },
  {
   "cell_type": "code",
   "execution_count": 384,
   "metadata": {
    "collapsed": false
   },
   "outputs": [
    {
     "name": "stderr",
     "output_type": "stream",
     "text": [
      "//anaconda/envs/kagglehouse/lib/python2.7/site-packages/jupyter_client/jsonutil.py:67: DeprecationWarning: Interpreting naive datetime as local 2017-09-21 10:51:22.325946. Please add timezone info to timestamps.\n",
      "  new_obj[k] = extract_dates(v)\n"
     ]
    },
    {
     "data": {
      "image/png": "[encoded data removed]",
      "text/plain": [
       "<matplotlib.figure.Figure at 0x111d33390>"
      ]
     },
     "metadata": {},
     "output_type": "display_data"
    }
   ],
   "source": [
    "plt.plot(range(n_iterations), train_errors, marker='o', label='Training Data');\n",
    "plt.plot(range(n_iterations), test_errors, marker='v', label='Test Data');\n",
    "plt.title('ALS-WR Learning Curve')\n",
    "plt.xlabel('Number of Epochs');\n",
    "plt.ylabel('RMSE');\n",
    "plt.legend()\n",
    "plt.grid()\n",
    "plt.show()"
   ]
  },
  {
   "cell_type": "markdown",
   "metadata": {},
   "source": [
    "Since both Train and Test decrease and converge over time, instead of the test error increasing for instance, suggests that we're not overfitting\n",
    "\n",
    "To improve the model even more I would implement a grid search to optimize parameters.  These were chosen at random."
   ]
  },
  {
   "cell_type": "markdown",
   "metadata": {},
   "source": [
    "Ok Cool, now that we have error analysis to support our model, let's recommend some songs"
   ]
  },
  {
   "cell_type": "code",
   "execution_count": 385,
   "metadata": {
    "collapsed": false
   },
   "outputs": [
    {
     "name": "stderr",
     "output_type": "stream",
     "text": [
      "//anaconda/envs/kagglehouse/lib/python2.7/site-packages/jupyter_client/jsonutil.py:67: DeprecationWarning: Interpreting naive datetime as local 2017-09-21 10:51:25.910596. Please add timezone info to timestamps.\n",
      "  new_obj[k] = extract_dates(v)\n"
     ]
    }
   ],
   "source": [
    "# Calculate R_pred prediction matrix (low-rank approximation for R)\n",
    "R_hat = pd.DataFrame(np.dot(P.T,Q))\n",
    "R = pd.DataFrame(R)"
   ]
  },
  {
   "cell_type": "code",
   "execution_count": 386,
   "metadata": {
    "collapsed": false
   },
   "outputs": [
    {
     "name": "stderr",
     "output_type": "stream",
     "text": [
      "//anaconda/envs/kagglehouse/lib/python2.7/site-packages/jupyter_client/jsonutil.py:67: DeprecationWarning: Interpreting naive datetime as local 2017-09-21 10:51:26.231682. Please add timezone info to timestamps.\n",
      "  new_obj[k] = extract_dates(v)\n"
     ]
    }
   ],
   "source": [
    "user = 5"
   ]
  },
  {
   "cell_type": "code",
   "execution_count": 387,
   "metadata": {
    "collapsed": false
   },
   "outputs": [
    {
     "name": "stderr",
     "output_type": "stream",
     "text": [
      "//anaconda/envs/kagglehouse/lib/python2.7/site-packages/jupyter_client/jsonutil.py:67: DeprecationWarning: Interpreting naive datetime as local 2017-09-21 10:51:26.526905. Please add timezone info to timestamps.\n",
      "  new_obj[k] = extract_dates(v)\n"
     ]
    }
   ],
   "source": [
    "# Compare true ratings of user 200 with predictions\n",
    "ratings = pd.DataFrame(data=R.loc[user-1,R.loc[user-1,:] > 0])\n",
    "ratings['Prediction'] = R_hat.loc[user-1,R.loc[user-1,:] > 0]\n",
    "ratings.columns = ['Actual Rating', 'Predicted Rating']"
   ]
  },
  {
   "cell_type": "code",
   "execution_count": 388,
   "metadata": {
    "collapsed": false
   },
   "outputs": [
    {
     "name": "stderr",
     "output_type": "stream",
     "text": [
      "//anaconda/envs/kagglehouse/lib/python2.7/site-packages/jupyter_client/jsonutil.py:67: DeprecationWarning: Interpreting naive datetime as local 2017-09-21 10:51:26.835026. Please add timezone info to timestamps.\n",
      "  new_obj[k] = extract_dates(v)\n"
     ]
    },
    {
     "data": {
      "text/html": [
       "<div>\n",
       "<style>\n",
       "    .dataframe thead tr:only-child th {\n",
       "        text-align: right;\n",
       "    }\n",
       "\n",
       "    .dataframe thead th {\n",
       "        text-align: left;\n",
       "    }\n",
       "\n",
       "    .dataframe tbody tr th {\n",
       "        vertical-align: top;\n",
       "    }\n",
       "</style>\n",
       "<table border=\"1\" class=\"dataframe\">\n",
       "  <thead>\n",
       "    <tr style=\"text-align: right;\">\n",
       "      <th></th>\n",
       "      <th>Actual Rating</th>\n",
       "      <th>Predicted Rating</th>\n",
       "    </tr>\n",
       "  </thead>\n",
       "  <tbody>\n",
       "    <tr>\n",
       "      <th>0</th>\n",
       "      <td>1.0</td>\n",
       "      <td>0.927573</td>\n",
       "    </tr>\n",
       "    <tr>\n",
       "      <th>1</th>\n",
       "      <td>1.0</td>\n",
       "      <td>1.043855</td>\n",
       "    </tr>\n",
       "    <tr>\n",
       "      <th>5</th>\n",
       "      <td>2.0</td>\n",
       "      <td>1.792501</td>\n",
       "    </tr>\n",
       "    <tr>\n",
       "      <th>7</th>\n",
       "      <td>1.0</td>\n",
       "      <td>1.001244</td>\n",
       "    </tr>\n",
       "    <tr>\n",
       "      <th>8</th>\n",
       "      <td>2.0</td>\n",
       "      <td>1.846120</td>\n",
       "    </tr>\n",
       "    <tr>\n",
       "      <th>15</th>\n",
       "      <td>1.0</td>\n",
       "      <td>1.055231</td>\n",
       "    </tr>\n",
       "    <tr>\n",
       "      <th>75</th>\n",
       "      <td>1.0</td>\n",
       "      <td>1.023240</td>\n",
       "    </tr>\n",
       "    <tr>\n",
       "      <th>99</th>\n",
       "      <td>2.0</td>\n",
       "      <td>1.785107</td>\n",
       "    </tr>\n",
       "  </tbody>\n",
       "</table>\n",
       "</div>"
      ],
      "text/plain": [
       "    Actual Rating  Predicted Rating\n",
       "0             1.0          0.927573\n",
       "1             1.0          1.043855\n",
       "5             2.0          1.792501\n",
       "7             1.0          1.001244\n",
       "8             2.0          1.846120\n",
       "15            1.0          1.055231\n",
       "75            1.0          1.023240\n",
       "99            2.0          1.785107"
      ]
     },
     "execution_count": 388,
     "metadata": {},
     "output_type": "execute_result"
    }
   ],
   "source": [
    "ratings.head(n=10)"
   ]
  },
  {
   "cell_type": "code",
   "execution_count": 389,
   "metadata": {
    "collapsed": false
   },
   "outputs": [
    {
     "name": "stderr",
     "output_type": "stream",
     "text": [
      "//anaconda/envs/kagglehouse/lib/python2.7/site-packages/jupyter_client/jsonutil.py:67: DeprecationWarning: Interpreting naive datetime as local 2017-09-21 10:51:27.293819. Please add timezone info to timestamps.\n",
      "  new_obj[k] = extract_dates(v)\n"
     ]
    }
   ],
   "source": [
    "ratings['difference'] = abs(ratings['Actual Rating']- ratings['Predicted Rating'])"
   ]
  },
  {
   "cell_type": "code",
   "execution_count": 390,
   "metadata": {
    "collapsed": false
   },
   "outputs": [
    {
     "name": "stderr",
     "output_type": "stream",
     "text": [
      "//anaconda/envs/kagglehouse/lib/python2.7/site-packages/jupyter_client/jsonutil.py:67: DeprecationWarning: Interpreting naive datetime as local 2017-09-21 10:51:27.573500. Please add timezone info to timestamps.\n",
      "  new_obj[k] = extract_dates(v)\n"
     ]
    },
    {
     "data": {
      "text/plain": [
       "0.096533514517459548"
      ]
     },
     "execution_count": 390,
     "metadata": {},
     "output_type": "execute_result"
    }
   ],
   "source": [
    "ratings['difference'].mean()"
   ]
  },
  {
   "cell_type": "code",
   "execution_count": 391,
   "metadata": {
    "collapsed": false
   },
   "outputs": [
    {
     "name": "stderr",
     "output_type": "stream",
     "text": [
      "//anaconda/envs/kagglehouse/lib/python2.7/site-packages/jupyter_client/jsonutil.py:67: DeprecationWarning: Interpreting naive datetime as local 2017-09-21 10:51:27.877734. Please add timezone info to timestamps.\n",
      "  new_obj[k] = extract_dates(v)\n"
     ]
    }
   ],
   "source": [
    "predictions = R_hat.loc[user-1,R.loc[user-1,:] == 0] \n",
    "predictions = predictions.sort_values(ascending=False)\n",
    "recommendations = pd.DataFrame(data=predictions)\n",
    "recommendations.columns = ['Predicted Rating']\n"
   ]
  },
  {
   "cell_type": "code",
   "execution_count": 392,
   "metadata": {
    "collapsed": false,
    "scrolled": true
   },
   "outputs": [
    {
     "name": "stderr",
     "output_type": "stream",
     "text": [
      "//anaconda/envs/kagglehouse/lib/python2.7/site-packages/jupyter_client/jsonutil.py:67: DeprecationWarning: Interpreting naive datetime as local 2017-09-21 10:51:28.169013. Please add timezone info to timestamps.\n",
      "  new_obj[k] = extract_dates(v)\n"
     ]
    },
    {
     "data": {
      "text/html": [
       "<div>\n",
       "<style>\n",
       "    .dataframe thead tr:only-child th {\n",
       "        text-align: right;\n",
       "    }\n",
       "\n",
       "    .dataframe thead th {\n",
       "        text-align: left;\n",
       "    }\n",
       "\n",
       "    .dataframe tbody tr th {\n",
       "        vertical-align: top;\n",
       "    }\n",
       "</style>\n",
       "<table border=\"1\" class=\"dataframe\">\n",
       "  <thead>\n",
       "    <tr style=\"text-align: right;\">\n",
       "      <th></th>\n",
       "      <th>Predicted Rating</th>\n",
       "    </tr>\n",
       "  </thead>\n",
       "  <tbody>\n",
       "    <tr>\n",
       "      <th>12</th>\n",
       "      <td>1.241955</td>\n",
       "    </tr>\n",
       "    <tr>\n",
       "      <th>27</th>\n",
       "      <td>1.233115</td>\n",
       "    </tr>\n",
       "    <tr>\n",
       "      <th>38</th>\n",
       "      <td>1.207987</td>\n",
       "    </tr>\n",
       "    <tr>\n",
       "      <th>66</th>\n",
       "      <td>1.126271</td>\n",
       "    </tr>\n",
       "    <tr>\n",
       "      <th>52</th>\n",
       "      <td>1.106111</td>\n",
       "    </tr>\n",
       "    <tr>\n",
       "      <th>30</th>\n",
       "      <td>1.046929</td>\n",
       "    </tr>\n",
       "    <tr>\n",
       "      <th>29</th>\n",
       "      <td>1.042043</td>\n",
       "    </tr>\n",
       "    <tr>\n",
       "      <th>9</th>\n",
       "      <td>0.994284</td>\n",
       "    </tr>\n",
       "    <tr>\n",
       "      <th>84</th>\n",
       "      <td>0.917797</td>\n",
       "    </tr>\n",
       "    <tr>\n",
       "      <th>36</th>\n",
       "      <td>0.916238</td>\n",
       "    </tr>\n",
       "    <tr>\n",
       "      <th>4</th>\n",
       "      <td>0.905031</td>\n",
       "    </tr>\n",
       "    <tr>\n",
       "      <th>40</th>\n",
       "      <td>0.900373</td>\n",
       "    </tr>\n",
       "    <tr>\n",
       "      <th>94</th>\n",
       "      <td>0.843566</td>\n",
       "    </tr>\n",
       "    <tr>\n",
       "      <th>96</th>\n",
       "      <td>0.828082</td>\n",
       "    </tr>\n",
       "    <tr>\n",
       "      <th>32</th>\n",
       "      <td>0.821831</td>\n",
       "    </tr>\n",
       "    <tr>\n",
       "      <th>3</th>\n",
       "      <td>0.812637</td>\n",
       "    </tr>\n",
       "    <tr>\n",
       "      <th>6</th>\n",
       "      <td>0.771654</td>\n",
       "    </tr>\n",
       "    <tr>\n",
       "      <th>46</th>\n",
       "      <td>0.753631</td>\n",
       "    </tr>\n",
       "    <tr>\n",
       "      <th>2</th>\n",
       "      <td>0.711107</td>\n",
       "    </tr>\n",
       "    <tr>\n",
       "      <th>53</th>\n",
       "      <td>0.691155</td>\n",
       "    </tr>\n",
       "    <tr>\n",
       "      <th>86</th>\n",
       "      <td>0.653112</td>\n",
       "    </tr>\n",
       "    <tr>\n",
       "      <th>92</th>\n",
       "      <td>0.652148</td>\n",
       "    </tr>\n",
       "    <tr>\n",
       "      <th>56</th>\n",
       "      <td>0.640077</td>\n",
       "    </tr>\n",
       "    <tr>\n",
       "      <th>50</th>\n",
       "      <td>0.631602</td>\n",
       "    </tr>\n",
       "    <tr>\n",
       "      <th>31</th>\n",
       "      <td>0.630547</td>\n",
       "    </tr>\n",
       "    <tr>\n",
       "      <th>89</th>\n",
       "      <td>0.628485</td>\n",
       "    </tr>\n",
       "    <tr>\n",
       "      <th>11</th>\n",
       "      <td>0.529536</td>\n",
       "    </tr>\n",
       "    <tr>\n",
       "      <th>17</th>\n",
       "      <td>0.486612</td>\n",
       "    </tr>\n",
       "    <tr>\n",
       "      <th>39</th>\n",
       "      <td>0.274590</td>\n",
       "    </tr>\n",
       "    <tr>\n",
       "      <th>35</th>\n",
       "      <td>0.000000</td>\n",
       "    </tr>\n",
       "    <tr>\n",
       "      <th>...</th>\n",
       "      <td>...</td>\n",
       "    </tr>\n",
       "    <tr>\n",
       "      <th>83</th>\n",
       "      <td>0.000000</td>\n",
       "    </tr>\n",
       "    <tr>\n",
       "      <th>72</th>\n",
       "      <td>0.000000</td>\n",
       "    </tr>\n",
       "    <tr>\n",
       "      <th>85</th>\n",
       "      <td>0.000000</td>\n",
       "    </tr>\n",
       "    <tr>\n",
       "      <th>87</th>\n",
       "      <td>0.000000</td>\n",
       "    </tr>\n",
       "    <tr>\n",
       "      <th>88</th>\n",
       "      <td>0.000000</td>\n",
       "    </tr>\n",
       "    <tr>\n",
       "      <th>90</th>\n",
       "      <td>0.000000</td>\n",
       "    </tr>\n",
       "    <tr>\n",
       "      <th>91</th>\n",
       "      <td>0.000000</td>\n",
       "    </tr>\n",
       "    <tr>\n",
       "      <th>93</th>\n",
       "      <td>0.000000</td>\n",
       "    </tr>\n",
       "    <tr>\n",
       "      <th>95</th>\n",
       "      <td>0.000000</td>\n",
       "    </tr>\n",
       "    <tr>\n",
       "      <th>73</th>\n",
       "      <td>0.000000</td>\n",
       "    </tr>\n",
       "    <tr>\n",
       "      <th>71</th>\n",
       "      <td>0.000000</td>\n",
       "    </tr>\n",
       "    <tr>\n",
       "      <th>48</th>\n",
       "      <td>0.000000</td>\n",
       "    </tr>\n",
       "    <tr>\n",
       "      <th>60</th>\n",
       "      <td>0.000000</td>\n",
       "    </tr>\n",
       "    <tr>\n",
       "      <th>49</th>\n",
       "      <td>0.000000</td>\n",
       "    </tr>\n",
       "    <tr>\n",
       "      <th>97</th>\n",
       "      <td>0.000000</td>\n",
       "    </tr>\n",
       "    <tr>\n",
       "      <th>54</th>\n",
       "      <td>0.000000</td>\n",
       "    </tr>\n",
       "    <tr>\n",
       "      <th>55</th>\n",
       "      <td>0.000000</td>\n",
       "    </tr>\n",
       "    <tr>\n",
       "      <th>57</th>\n",
       "      <td>0.000000</td>\n",
       "    </tr>\n",
       "    <tr>\n",
       "      <th>58</th>\n",
       "      <td>0.000000</td>\n",
       "    </tr>\n",
       "    <tr>\n",
       "      <th>59</th>\n",
       "      <td>0.000000</td>\n",
       "    </tr>\n",
       "    <tr>\n",
       "      <th>61</th>\n",
       "      <td>0.000000</td>\n",
       "    </tr>\n",
       "    <tr>\n",
       "      <th>70</th>\n",
       "      <td>0.000000</td>\n",
       "    </tr>\n",
       "    <tr>\n",
       "      <th>62</th>\n",
       "      <td>0.000000</td>\n",
       "    </tr>\n",
       "    <tr>\n",
       "      <th>63</th>\n",
       "      <td>0.000000</td>\n",
       "    </tr>\n",
       "    <tr>\n",
       "      <th>64</th>\n",
       "      <td>0.000000</td>\n",
       "    </tr>\n",
       "    <tr>\n",
       "      <th>65</th>\n",
       "      <td>0.000000</td>\n",
       "    </tr>\n",
       "    <tr>\n",
       "      <th>67</th>\n",
       "      <td>0.000000</td>\n",
       "    </tr>\n",
       "    <tr>\n",
       "      <th>68</th>\n",
       "      <td>0.000000</td>\n",
       "    </tr>\n",
       "    <tr>\n",
       "      <th>69</th>\n",
       "      <td>0.000000</td>\n",
       "    </tr>\n",
       "    <tr>\n",
       "      <th>51</th>\n",
       "      <td>0.000000</td>\n",
       "    </tr>\n",
       "  </tbody>\n",
       "</table>\n",
       "<p>92 rows × 1 columns</p>\n",
       "</div>"
      ],
      "text/plain": [
       "    Predicted Rating\n",
       "12          1.241955\n",
       "27          1.233115\n",
       "38          1.207987\n",
       "66          1.126271\n",
       "52          1.106111\n",
       "30          1.046929\n",
       "29          1.042043\n",
       "9           0.994284\n",
       "84          0.917797\n",
       "36          0.916238\n",
       "4           0.905031\n",
       "40          0.900373\n",
       "94          0.843566\n",
       "96          0.828082\n",
       "32          0.821831\n",
       "3           0.812637\n",
       "6           0.771654\n",
       "46          0.753631\n",
       "2           0.711107\n",
       "53          0.691155\n",
       "86          0.653112\n",
       "92          0.652148\n",
       "56          0.640077\n",
       "50          0.631602\n",
       "31          0.630547\n",
       "89          0.628485\n",
       "11          0.529536\n",
       "17          0.486612\n",
       "39          0.274590\n",
       "35          0.000000\n",
       "..               ...\n",
       "83          0.000000\n",
       "72          0.000000\n",
       "85          0.000000\n",
       "87          0.000000\n",
       "88          0.000000\n",
       "90          0.000000\n",
       "91          0.000000\n",
       "93          0.000000\n",
       "95          0.000000\n",
       "73          0.000000\n",
       "71          0.000000\n",
       "48          0.000000\n",
       "60          0.000000\n",
       "49          0.000000\n",
       "97          0.000000\n",
       "54          0.000000\n",
       "55          0.000000\n",
       "57          0.000000\n",
       "58          0.000000\n",
       "59          0.000000\n",
       "61          0.000000\n",
       "70          0.000000\n",
       "62          0.000000\n",
       "63          0.000000\n",
       "64          0.000000\n",
       "65          0.000000\n",
       "67          0.000000\n",
       "68          0.000000\n",
       "69          0.000000\n",
       "51          0.000000\n",
       "\n",
       "[92 rows x 1 columns]"
      ]
     },
     "execution_count": 392,
     "metadata": {},
     "output_type": "execute_result"
    }
   ],
   "source": [
    "recommendations"
   ]
  },
  {
   "cell_type": "code",
   "execution_count": 393,
   "metadata": {
    "collapsed": false
   },
   "outputs": [
    {
     "name": "stdout",
     "output_type": "stream",
     "text": [
      "(196, 100)\n",
      "(8,)\n",
      "(92,)\n"
     ]
    },
    {
     "name": "stderr",
     "output_type": "stream",
     "text": [
      "//anaconda/envs/kagglehouse/lib/python2.7/site-packages/jupyter_client/jsonutil.py:67: DeprecationWarning: Interpreting naive datetime as local 2017-09-21 10:51:28.495376. Please add timezone info to timestamps.\n",
      "  new_obj[k] = extract_dates(v)\n"
     ]
    }
   ],
   "source": [
    "print R_hat.shape\n",
    "print R_hat.loc[user-1,R.loc[user-1,:] != 0].shape\n",
    "print predictions.shape"
   ]
  },
  {
   "cell_type": "code",
   "execution_count": 394,
   "metadata": {
    "collapsed": false
   },
   "outputs": [
    {
     "name": "stderr",
     "output_type": "stream",
     "text": [
      "//anaconda/envs/kagglehouse/lib/python2.7/site-packages/jupyter_client/jsonutil.py:67: DeprecationWarning: Interpreting naive datetime as local 2017-09-21 10:51:29.525969. Please add timezone info to timestamps.\n",
      "  new_obj[k] = extract_dates(v)\n"
     ]
    }
   ],
   "source": [
    "not_seen = songs[songs['index'].isin((recommendations.index))]"
   ]
  },
  {
   "cell_type": "code",
   "execution_count": 395,
   "metadata": {
    "collapsed": false
   },
   "outputs": [
    {
     "name": "stderr",
     "output_type": "stream",
     "text": [
      "//anaconda/envs/kagglehouse/lib/python2.7/site-packages/jupyter_client/jsonutil.py:67: DeprecationWarning: Interpreting naive datetime as local 2017-09-21 10:51:29.935355. Please add timezone info to timestamps.\n",
      "  new_obj[k] = extract_dates(v)\n"
     ]
    }
   ],
   "source": [
    "not_seen.columns = ['item_id','song_played']"
   ]
  },
  {
   "cell_type": "code",
   "execution_count": 396,
   "metadata": {
    "collapsed": false
   },
   "outputs": [
    {
     "name": "stderr",
     "output_type": "stream",
     "text": [
      "//anaconda/envs/kagglehouse/lib/python2.7/site-packages/jupyter_client/jsonutil.py:67: DeprecationWarning: Interpreting naive datetime as local 2017-09-21 10:51:30.199601. Please add timezone info to timestamps.\n",
      "  new_obj[k] = extract_dates(v)\n"
     ]
    }
   ],
   "source": [
    "recommendations = recommendations.reset_index()\n",
    "recommendations.columns = ['item_id','Predicted Rating']"
   ]
  },
  {
   "cell_type": "code",
   "execution_count": 397,
   "metadata": {
    "collapsed": false
   },
   "outputs": [
    {
     "name": "stderr",
     "output_type": "stream",
     "text": [
      "//anaconda/envs/kagglehouse/lib/python2.7/site-packages/jupyter_client/jsonutil.py:67: DeprecationWarning: Interpreting naive datetime as local 2017-09-21 10:51:30.456734. Please add timezone info to timestamps.\n",
      "  new_obj[k] = extract_dates(v)\n"
     ]
    }
   ],
   "source": [
    "recommendations = pd.merge(recommendations,not_seen, on='item_id')\n",
    "recommendations = recommendations.set_index('item_id')"
   ]
  },
  {
   "cell_type": "code",
   "execution_count": 398,
   "metadata": {
    "collapsed": false,
    "scrolled": true
   },
   "outputs": [
    {
     "name": "stderr",
     "output_type": "stream",
     "text": [
      "//anaconda/envs/kagglehouse/lib/python2.7/site-packages/jupyter_client/jsonutil.py:67: DeprecationWarning: Interpreting naive datetime as local 2017-09-21 10:51:30.726201. Please add timezone info to timestamps.\n",
      "  new_obj[k] = extract_dates(v)\n"
     ]
    },
    {
     "data": {
      "text/html": [
       "<div>\n",
       "<style>\n",
       "    .dataframe thead tr:only-child th {\n",
       "        text-align: right;\n",
       "    }\n",
       "\n",
       "    .dataframe thead th {\n",
       "        text-align: left;\n",
       "    }\n",
       "\n",
       "    .dataframe tbody tr th {\n",
       "        vertical-align: top;\n",
       "    }\n",
       "</style>\n",
       "<table border=\"1\" class=\"dataframe\">\n",
       "  <thead>\n",
       "    <tr style=\"text-align: right;\">\n",
       "      <th></th>\n",
       "      <th>index</th>\n",
       "      <th>song_played</th>\n",
       "    </tr>\n",
       "  </thead>\n",
       "  <tbody>\n",
       "    <tr>\n",
       "      <th>0</th>\n",
       "      <td>0</td>\n",
       "      <td>Hey Jude</td>\n",
       "    </tr>\n",
       "    <tr>\n",
       "      <th>1</th>\n",
       "      <td>1</td>\n",
       "      <td>We Can Work It Out</td>\n",
       "    </tr>\n",
       "    <tr>\n",
       "      <th>2</th>\n",
       "      <td>2</td>\n",
       "      <td>Back In the U.S.S.R.</td>\n",
       "    </tr>\n",
       "    <tr>\n",
       "      <th>6</th>\n",
       "      <td>6</td>\n",
       "      <td>Hello Goodbye</td>\n",
       "    </tr>\n",
       "    <tr>\n",
       "      <th>8</th>\n",
       "      <td>8</td>\n",
       "      <td>Revolution</td>\n",
       "    </tr>\n",
       "    <tr>\n",
       "      <th>9</th>\n",
       "      <td>9</td>\n",
       "      <td>Let It Be</td>\n",
       "    </tr>\n",
       "    <tr>\n",
       "      <th>13</th>\n",
       "      <td>16</td>\n",
       "      <td>Come Together</td>\n",
       "    </tr>\n",
       "    <tr>\n",
       "      <th>30</th>\n",
       "      <td>76</td>\n",
       "      <td>Birthday</td>\n",
       "    </tr>\n",
       "    <tr>\n",
       "      <th>38</th>\n",
       "      <td>100</td>\n",
       "      <td>I Saw Her Standing There</td>\n",
       "    </tr>\n",
       "    <tr>\n",
       "      <th>41</th>\n",
       "      <td>112</td>\n",
       "      <td>Eleanor Rigby</td>\n",
       "    </tr>\n",
       "    <tr>\n",
       "      <th>46</th>\n",
       "      <td>153</td>\n",
       "      <td>The Long And Winding Road</td>\n",
       "    </tr>\n",
       "    <tr>\n",
       "      <th>49</th>\n",
       "      <td>167</td>\n",
       "      <td>Eight Days A Week</td>\n",
       "    </tr>\n",
       "    <tr>\n",
       "      <th>62</th>\n",
       "      <td>246</td>\n",
       "      <td>With a Little Help From My Friends</td>\n",
       "    </tr>\n",
       "    <tr>\n",
       "      <th>70</th>\n",
       "      <td>305</td>\n",
       "      <td>Everybody's Got Something To Hide Except Me An...</td>\n",
       "    </tr>\n",
       "    <tr>\n",
       "      <th>75</th>\n",
       "      <td>392</td>\n",
       "      <td>Help!</td>\n",
       "    </tr>\n",
       "    <tr>\n",
       "      <th>98</th>\n",
       "      <td>1805</td>\n",
       "      <td>Lovely Rita</td>\n",
       "    </tr>\n",
       "  </tbody>\n",
       "</table>\n",
       "</div>"
      ],
      "text/plain": [
       "    index                                        song_played\n",
       "0       0                                           Hey Jude\n",
       "1       1                                 We Can Work It Out\n",
       "2       2                               Back In the U.S.S.R.\n",
       "6       6                                      Hello Goodbye\n",
       "8       8                                         Revolution\n",
       "9       9                                          Let It Be\n",
       "13     16                                      Come Together\n",
       "30     76                                           Birthday\n",
       "38    100                           I Saw Her Standing There\n",
       "41    112                                      Eleanor Rigby\n",
       "46    153                          The Long And Winding Road\n",
       "49    167                                  Eight Days A Week\n",
       "62    246                 With a Little Help From My Friends\n",
       "70    305  Everybody's Got Something To Hide Except Me An...\n",
       "75    392                                              Help!\n",
       "98   1805                                        Lovely Rita"
      ]
     },
     "execution_count": 398,
     "metadata": {},
     "output_type": "execute_result"
    }
   ],
   "source": [
    "# Songs Listened To\n",
    "songs[songs['index'].isin(df2[df2['user_id'] == user]['item_id'])]"
   ]
  },
  {
   "cell_type": "code",
   "execution_count": 399,
   "metadata": {
    "collapsed": false
   },
   "outputs": [
    {
     "name": "stderr",
     "output_type": "stream",
     "text": [
      "//anaconda/envs/kagglehouse/lib/python2.7/site-packages/jupyter_client/jsonutil.py:67: DeprecationWarning: Interpreting naive datetime as local 2017-09-21 10:51:31.498122. Please add timezone info to timestamps.\n",
      "  new_obj[k] = extract_dates(v)\n"
     ]
    }
   ],
   "source": [
    "recommendations = recommendations[~recommendations.song_played.isin(list(songs[songs['index'].isin(df2[df2['user_id'] == user]['item_id'])]['song_played']))]"
   ]
  },
  {
   "cell_type": "code",
   "execution_count": 400,
   "metadata": {
    "collapsed": false,
    "scrolled": true
   },
   "outputs": [
    {
     "name": "stderr",
     "output_type": "stream",
     "text": [
      "//anaconda/envs/kagglehouse/lib/python2.7/site-packages/jupyter_client/jsonutil.py:67: DeprecationWarning: Interpreting naive datetime as local 2017-09-21 10:51:31.818385. Please add timezone info to timestamps.\n",
      "  new_obj[k] = extract_dates(v)\n"
     ]
    },
    {
     "data": {
      "text/html": [
       "<div>\n",
       "<style>\n",
       "    .dataframe thead tr:only-child th {\n",
       "        text-align: right;\n",
       "    }\n",
       "\n",
       "    .dataframe thead th {\n",
       "        text-align: left;\n",
       "    }\n",
       "\n",
       "    .dataframe tbody tr th {\n",
       "        vertical-align: top;\n",
       "    }\n",
       "</style>\n",
       "<table border=\"1\" class=\"dataframe\">\n",
       "  <thead>\n",
       "    <tr style=\"text-align: right;\">\n",
       "      <th></th>\n",
       "      <th>Predicted Rating</th>\n",
       "      <th>song_played</th>\n",
       "    </tr>\n",
       "    <tr>\n",
       "      <th>item_id</th>\n",
       "      <th></th>\n",
       "      <th></th>\n",
       "    </tr>\n",
       "  </thead>\n",
       "  <tbody>\n",
       "    <tr>\n",
       "      <th>12</th>\n",
       "      <td>1.241955</td>\n",
       "      <td>The Fool On The Hill</td>\n",
       "    </tr>\n",
       "    <tr>\n",
       "      <th>30</th>\n",
       "      <td>1.046929</td>\n",
       "      <td>Here Comes The Sun</td>\n",
       "    </tr>\n",
       "    <tr>\n",
       "      <th>4</th>\n",
       "      <td>0.905031</td>\n",
       "      <td>Sgt. Pepper's Lonely Hearts Club Band</td>\n",
       "    </tr>\n",
       "    <tr>\n",
       "      <th>40</th>\n",
       "      <td>0.900373</td>\n",
       "      <td>Don't Let Me Down</td>\n",
       "    </tr>\n",
       "    <tr>\n",
       "      <th>32</th>\n",
       "      <td>0.821831</td>\n",
       "      <td>Getting Better</td>\n",
       "    </tr>\n",
       "    <tr>\n",
       "      <th>3</th>\n",
       "      <td>0.812637</td>\n",
       "      <td>P.s. I Love You</td>\n",
       "    </tr>\n",
       "    <tr>\n",
       "      <th>53</th>\n",
       "      <td>0.691155</td>\n",
       "      <td>Ob-la-di, Ob-la-da</td>\n",
       "    </tr>\n",
       "    <tr>\n",
       "      <th>31</th>\n",
       "      <td>0.630547</td>\n",
       "      <td>A Day In The Life</td>\n",
       "    </tr>\n",
       "    <tr>\n",
       "      <th>39</th>\n",
       "      <td>0.274590</td>\n",
       "      <td>Lucy In The Sky With Diamonds</td>\n",
       "    </tr>\n",
       "    <tr>\n",
       "      <th>41</th>\n",
       "      <td>0.000000</td>\n",
       "      <td>Reprise / Day in the Life</td>\n",
       "    </tr>\n",
       "    <tr>\n",
       "      <th>10</th>\n",
       "      <td>0.000000</td>\n",
       "      <td>I Feel Fine</td>\n",
       "    </tr>\n",
       "    <tr>\n",
       "      <th>37</th>\n",
       "      <td>0.000000</td>\n",
       "      <td>The Ballad Of John And Yoko</td>\n",
       "    </tr>\n",
       "    <tr>\n",
       "      <th>18</th>\n",
       "      <td>0.000000</td>\n",
       "      <td>She Loves You</td>\n",
       "    </tr>\n",
       "    <tr>\n",
       "      <th>33</th>\n",
       "      <td>0.000000</td>\n",
       "      <td>Baby You're A Rich Man</td>\n",
       "    </tr>\n",
       "    <tr>\n",
       "      <th>13</th>\n",
       "      <td>0.000000</td>\n",
       "      <td>Get Back</td>\n",
       "    </tr>\n",
       "    <tr>\n",
       "      <th>28</th>\n",
       "      <td>0.000000</td>\n",
       "      <td>While My Guitar Gently Weeps</td>\n",
       "    </tr>\n",
       "    <tr>\n",
       "      <th>47</th>\n",
       "      <td>0.000000</td>\n",
       "      <td>Maxwell's Silver Hammer</td>\n",
       "    </tr>\n",
       "    <tr>\n",
       "      <th>81</th>\n",
       "      <td>0.000000</td>\n",
       "      <td>A Saturday Club Xmas/Crimble Medley</td>\n",
       "    </tr>\n",
       "    <tr>\n",
       "      <th>85</th>\n",
       "      <td>0.000000</td>\n",
       "      <td>BALLAD OF JOHN AND YOKO</td>\n",
       "    </tr>\n",
       "    <tr>\n",
       "      <th>87</th>\n",
       "      <td>0.000000</td>\n",
       "      <td>Got To Get You Into My Life</td>\n",
       "    </tr>\n",
       "    <tr>\n",
       "      <th>90</th>\n",
       "      <td>0.000000</td>\n",
       "      <td>Wild Honey Pie</td>\n",
       "    </tr>\n",
       "    <tr>\n",
       "      <th>93</th>\n",
       "      <td>0.000000</td>\n",
       "      <td>IN MY LIFE</td>\n",
       "    </tr>\n",
       "    <tr>\n",
       "      <th>95</th>\n",
       "      <td>0.000000</td>\n",
       "      <td>Strawberry Fields Forever</td>\n",
       "    </tr>\n",
       "    <tr>\n",
       "      <th>97</th>\n",
       "      <td>0.000000</td>\n",
       "      <td>Twist and Shout</td>\n",
       "    </tr>\n",
       "    <tr>\n",
       "      <th>54</th>\n",
       "      <td>0.000000</td>\n",
       "      <td>Yesterday</td>\n",
       "    </tr>\n",
       "    <tr>\n",
       "      <th>57</th>\n",
       "      <td>0.000000</td>\n",
       "      <td>Fixing A Hole</td>\n",
       "    </tr>\n",
       "    <tr>\n",
       "      <th>67</th>\n",
       "      <td>0.000000</td>\n",
       "      <td>OH DARLING</td>\n",
       "    </tr>\n",
       "    <tr>\n",
       "      <th>51</th>\n",
       "      <td>0.000000</td>\n",
       "      <td>Across The Universe</td>\n",
       "    </tr>\n",
       "  </tbody>\n",
       "</table>\n",
       "</div>"
      ],
      "text/plain": [
       "         Predicted Rating                            song_played\n",
       "item_id                                                         \n",
       "12               1.241955                   The Fool On The Hill\n",
       "30               1.046929                     Here Comes The Sun\n",
       "4                0.905031  Sgt. Pepper's Lonely Hearts Club Band\n",
       "40               0.900373                      Don't Let Me Down\n",
       "32               0.821831                         Getting Better\n",
       "3                0.812637                        P.s. I Love You\n",
       "53               0.691155                     Ob-la-di, Ob-la-da\n",
       "31               0.630547                      A Day In The Life\n",
       "39               0.274590          Lucy In The Sky With Diamonds\n",
       "41               0.000000              Reprise / Day in the Life\n",
       "10               0.000000                            I Feel Fine\n",
       "37               0.000000            The Ballad Of John And Yoko\n",
       "18               0.000000                          She Loves You\n",
       "33               0.000000                 Baby You're A Rich Man\n",
       "13               0.000000                               Get Back\n",
       "28               0.000000           While My Guitar Gently Weeps\n",
       "47               0.000000                Maxwell's Silver Hammer\n",
       "81               0.000000    A Saturday Club Xmas/Crimble Medley\n",
       "85               0.000000                BALLAD OF JOHN AND YOKO\n",
       "87               0.000000            Got To Get You Into My Life\n",
       "90               0.000000                         Wild Honey Pie\n",
       "93               0.000000                             IN MY LIFE\n",
       "95               0.000000              Strawberry Fields Forever\n",
       "97               0.000000                        Twist and Shout\n",
       "54               0.000000                              Yesterday\n",
       "57               0.000000                          Fixing A Hole\n",
       "67               0.000000                             OH DARLING\n",
       "51               0.000000                    Across The Universe"
      ]
     },
     "execution_count": 400,
     "metadata": {},
     "output_type": "execute_result"
    }
   ],
   "source": [
    "# Song Recommendations for our user\n",
    "recommendations"
   ]
  },
  {
   "cell_type": "markdown",
   "metadata": {},
   "source": [
    "###  How would you set up a test to check whether your model works well and is improving engagement?\n",
    "\n",
    "* During the training phase we looked at the rmse, but in production it's much different\n",
    "\n",
    "* So we need to perform a A/B test:\n",
    "1. randomly split users into two groups, one Control group and one Experiment group\n",
    "2. Control group has no recommendation strategy\n",
    "3. Experiment group recommends the next song\n",
    "4. after running some time, which we can determine by solving for sample size in the z-score formula, perform a one-tailed t-test on 'average play per day'\n",
    "\n",
    "H0: population 'average play per day' is same in two groups\n",
    "\n",
    "HA: experiment group's population 'averageplay per day' is higher than control group's"
   ]
  },
  {
   "cell_type": "code",
   "execution_count": null,
   "metadata": {
    "collapsed": true
   },
   "outputs": [],
   "source": []
  }
 ],
 "metadata": {
  "anaconda-cloud": {},
  "kernelspec": {
   "display_name": "Python [conda env:kagglehouse]",
   "language": "python",
   "name": "conda-env-kagglehouse-py"
  },
  "language_info": {
   "codemirror_mode": {
    "name": "ipython",
    "version": 2
   },
   "file_extension": ".py",
   "mimetype": "text/x-python",
   "name": "python",
   "nbconvert_exporter": "python",
   "pygments_lexer": "ipython2",
   "version": "2.7.13"
  }
 },
 "nbformat": 4,
 "nbformat_minor": 1
}
