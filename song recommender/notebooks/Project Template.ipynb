{
 "cells": [
  {
   "cell_type": "code",
   "execution_count": null,
   "metadata": {
    "collapsed": true
   },
   "outputs": [],
   "source": [
    "The data process:\n",
    "\n",
    "1. Import – Get the data from original source\n",
    "\n",
    "2. Store – Store the data into a data store\n",
    "\n",
    "3. Extract – Get the data from the data store\n",
    "\n",
    "4. Organize – Organize the data into a usable subset\n",
    "\n",
    "5. Tidy – Scrub / Clean the data\n",
    "\n",
    "6. Transform – Change data into something your program /\n",
    "\n",
    "algorithm / statistical package will understand\n",
    "\n",
    "7. Visualize – Descriptive Statistics Exploration\n",
    "\n",
    "8. Model – Statistics + Machine Learning + Experiment Design\n",
    "\n",
    "9. Coding – Machine Learning + Algorithms + Code\n",
    "\n",
    "10. Understand – Explain insights\n",
    "\n",
    "11. Communicate – What was the approach, what worked, what\n",
    "\n",
    "didn’t work, what assumptions were made, what would you do\n",
    "\n",
    "different, Why do insights matter\n",
    "\n",
    "12. Next Steps – Where do you go from here\n",
    "\n",
    "13. Document – Code + Thought process + where everything came\n",
    "\n",
    "from (makes it so that you can replicate in the future with ease)"
   ]
  },
  {
   "cell_type": "markdown",
   "metadata": {},
   "source": [
    "# 1. Import\n",
    "Get the data from original source"
   ]
  },
  {
   "cell_type": "markdown",
   "metadata": {},
   "source": [
    "# 2. Store \n",
    "Store the data into a data store"
   ]
  },
  {
   "cell_type": "markdown",
   "metadata": {},
   "source": [
    "# 3. Extract\n",
    "Get the data from the data store"
   ]
  },
  {
   "cell_type": "markdown",
   "metadata": {},
   "source": [
    "# 4. Organize\n",
    "Organize the data into a usable subset"
   ]
  },
  {
   "cell_type": "markdown",
   "metadata": {},
   "source": [
    "# 5. Tidy\n",
    "Scrub / Clean the data"
   ]
  },
  {
   "cell_type": "markdown",
   "metadata": {},
   "source": [
    "# 6. Transform \n",
    "Change data into something your program / algorithm / statistical package will understand\n",
    "\n"
   ]
  },
  {
   "cell_type": "markdown",
   "metadata": {},
   "source": [
    "# 7. Visualize\n",
    "Descriptive Statistics Exploration"
   ]
  },
  {
   "cell_type": "markdown",
   "metadata": {},
   "source": [
    "# 8. Model\n",
    "Statistics + Machine Learning + Experiment Design\n"
   ]
  },
  {
   "cell_type": "markdown",
   "metadata": {},
   "source": [
    "# 9. Coding\n",
    "Machine Learning + Algorithms + Code\n"
   ]
  },
  {
   "cell_type": "markdown",
   "metadata": {},
   "source": [
    "# 10. Understand\n",
    "Explain insights\n"
   ]
  },
  {
   "cell_type": "markdown",
   "metadata": {},
   "source": [
    "# 11. Communicate\n",
    "What was the approach, what worked, what didn’t work, what assumptions were made, what would you do different, Why do insights matter\n"
   ]
  },
  {
   "cell_type": "markdown",
   "metadata": {},
   "source": [
    "# 12. Next Steps\n",
    "Where do you go from here\n"
   ]
  },
  {
   "cell_type": "markdown",
   "metadata": {},
   "source": [
    "# 13. Document\n",
    "Code + Thought process + where everything came from (makes it so that you can replicate in the future with ease)"
   ]
  },
  {
   "cell_type": "code",
   "execution_count": null,
   "metadata": {
    "collapsed": true
   },
   "outputs": [],
   "source": []
  }
 ],
 "metadata": {
  "anaconda-cloud": {},
  "kernelspec": {
   "display_name": "Python [conda env:kagglehouse]",
   "language": "python",
   "name": "conda-env-kagglehouse-py"
  },
  "language_info": {
   "codemirror_mode": {
    "name": "ipython",
    "version": 2
   },
   "file_extension": ".py",
   "mimetype": "text/x-python",
   "name": "python",
   "nbconvert_exporter": "python",
   "pygments_lexer": "ipython2",
   "version": "2.7.13"
  }
 },
 "nbformat": 4,
 "nbformat_minor": 1
}
