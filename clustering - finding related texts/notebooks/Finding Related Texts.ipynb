{
 "cells": [
  {
   "cell_type": "markdown",
   "metadata": {},
   "source": [
    "# Unsupervised Learning (Clustering) - Finding Related Texts"
   ]
  },
  {
   "cell_type": "markdown",
   "metadata": {},
   "source": [
    "For this exercise, we'll use use example posts from a website and find related posts based on clustering.\n",
    "\n",
    "Essentially, we'll group similar items together and dissimilar items away from each other.\n",
    "\n",
    "We'll also dig into text data, which is fun to work with and our vector space can grow very quickly.\n"
   ]
  },
  {
   "cell_type": "markdown",
   "metadata": {},
   "source": [
    "### Measuring Similarity\n",
    "\n",
    "Raw text is useless.\n",
    "\n",
    "However, if we can transform it properly, we can do a ton of cool stuff with it, like build learning algorithms around it.\n",
    "\n",
    "The technique we're going to use to do this is called the bag-of-word approach.  It uses simple word counts as it's basis and for each word in our row/post/etc, we count it and add it as a column in our word vector.\n",
    "\n",
    "That's why it can grow very quickly.  The vector contains as many elements as the words that occur in the whole dataset, so we can get a huge vector pretty quickly\n",
    "\n",
    "\n",
    "So our approach can be broken down to 4 steps:\n",
    "    1. Turn our feature space into our vector space.  We'll have one vector per post\n",
    "    2. Run those vectors through our clustering algorithm.\n",
    "        a. This will be broken down into two repeatable steps later explained.\n",
    "    3. We'll figure out which cluster each post belongs to.\n",
    "    4. Finally we'll find other posts in the same cluster as the post in question and we'll return those as well as find a handful that are differeent from the post (to increase diversity)\n"
   ]
  },
  {
   "cell_type": "markdown",
   "metadata": {},
   "source": [
    "### Read in Data"
   ]
  },
  {
   "cell_type": "code",
   "execution_count": 26,
   "metadata": {
    "collapsed": false
   },
   "outputs": [],
   "source": [
    "import os\n",
    "from os import listdir\n",
    "from os.path import isfile, join\n",
    "from sklearn.feature_extraction.text import CountVectorizer\n",
    "import scipy as sp\n",
    "import sys"
   ]
  },
  {
   "cell_type": "code",
   "execution_count": 2,
   "metadata": {
    "collapsed": false
   },
   "outputs": [],
   "source": [
    "[f for f in listdir('../data/')][1:]\n",
    "DIR = '../data/'"
   ]
  },
  {
   "cell_type": "code",
   "execution_count": 8,
   "metadata": {
    "collapsed": false
   },
   "outputs": [],
   "source": [
    "posts = [open(os.path.join(DIR, f)).read() for f in os.listdir(DIR)]\n",
    "vectorizer = CountVectorizer(min_df=1)"
   ]
  },
  {
   "cell_type": "code",
   "execution_count": 9,
   "metadata": {
    "collapsed": false
   },
   "outputs": [],
   "source": [
    "posts = posts[1:]"
   ]
  },
  {
   "cell_type": "code",
   "execution_count": 10,
   "metadata": {
    "collapsed": false
   },
   "outputs": [
    {
     "name": "stdout",
     "output_type": "stream",
     "text": [
      "#samples: 5, #features: 25\n"
     ]
    }
   ],
   "source": [
    "X_train = vectorizer.fit_transform(posts)\n",
    "num_samples, num_features = X_train.shape\n",
    "print(\"#samples: %d, #features: %d\" % (num_samples, num_features)) #samples: 5, #features: 25"
   ]
  },
  {
   "cell_type": "code",
   "execution_count": 11,
   "metadata": {
    "collapsed": false
   },
   "outputs": [
    {
     "name": "stdout",
     "output_type": "stream",
     "text": [
      "[u'about', u'actually', u'capabilities', u'contains', u'data', u'databases', u'images', u'imaging', u'interesting', u'is', u'it', u'learning', u'machine', u'most', u'much', u'not', u'permanently', u'post', u'provide', u'safe', u'storage', u'store', u'stuff', u'this', u'toy']\n"
     ]
    }
   ],
   "source": [
    "print(vectorizer.get_feature_names())"
   ]
  },
  {
   "cell_type": "markdown",
   "metadata": {},
   "source": [
    "Now we can vectorize our new post as follows:"
   ]
  },
  {
   "cell_type": "code",
   "execution_count": 12,
   "metadata": {
    "collapsed": true
   },
   "outputs": [],
   "source": [
    "new_post = \"imaging databases\"\n",
    "new_post_vec = vectorizer.transform([new_post])"
   ]
  },
  {
   "cell_type": "markdown",
   "metadata": {},
   "source": [
    "Note that the count vectors returned by the transform method are sparse. \n",
    "\n",
    "That is, each vector does not store one count value for each word, as most of those counts would be zero (post does not contain the word). \n",
    "\n",
    "Instead, it uses the more memory efficient implementation `coo_matrix` (for \"COOrdinate\"). Our new post, for instance, actually contains only two elements:"
   ]
  },
  {
   "cell_type": "code",
   "execution_count": 13,
   "metadata": {
    "collapsed": false
   },
   "outputs": [
    {
     "name": "stdout",
     "output_type": "stream",
     "text": [
      "  (0, 5)\t1\n",
      "  (0, 7)\t1\n"
     ]
    }
   ],
   "source": [
    "print(new_post_vec)"
   ]
  },
  {
   "cell_type": "markdown",
   "metadata": {},
   "source": [
    "But via its member `toarray()`, we can again access full `ndarray` as follows:"
   ]
  },
  {
   "cell_type": "code",
   "execution_count": 23,
   "metadata": {
    "collapsed": false
   },
   "outputs": [
    {
     "name": "stdout",
     "output_type": "stream",
     "text": [
      "[[0 0 0 0 0 1 0 1 0 0 0 0 0 0 0 0 0 0 0 0 0 0 0 0 0]]\n"
     ]
    }
   ],
   "source": [
    "print(new_post_vec.toarray())"
   ]
  },
  {
   "cell_type": "markdown",
   "metadata": {},
   "source": [
    "We need to use the full array if we want to use it as a vector for similarity calculations. \n",
    "\n",
    "For the similarity measurement (the naive one), we calculate the Euclidean distance between the count vectors of the new post and all the old posts as follows:"
   ]
  },
  {
   "cell_type": "code",
   "execution_count": 25,
   "metadata": {
    "collapsed": true
   },
   "outputs": [],
   "source": [
    "def dist_raw(v1, v2):\n",
    "    delta = v1-v2\n",
    "    return sp.linalg.norm(delta.toarray())"
   ]
  },
  {
   "cell_type": "markdown",
   "metadata": {},
   "source": [
    "The `norm()` function calculates the Euclidean norm (shortest distance). With `dist_raw`, we just need to iterate over all the posts and remember the nearest one"
   ]
  },
  {
   "cell_type": "code",
   "execution_count": 29,
   "metadata": {
    "collapsed": false
   },
   "outputs": [
    {
     "name": "stdout",
     "output_type": "stream",
     "text": [
      "=== Post 0 with dist=4.00: This is a toy post about machine learning. Actually, it contains not much interesting stuff.\n",
      "=== Post 1 with dist=1.73: Imaging databases provide storage capabilities.\n",
      "=== Post 2 with dist=2.00: Most imaging databases safe images permanently.\n",
      "=== Post 3 with dist=1.41: Imaging databases store data.\n",
      "=== Post 4 with dist=5.10: Imaging databases store data. Imaging databases store data. Imaging databases store data.\n",
      "Best post is 3 with dist=1.41\n"
     ]
    }
   ],
   "source": [
    "best_doc = None\n",
    "best_dist = sys.maxint\n",
    "best_i = None\n",
    "for i in range(0, num_samples):\n",
    "    post = posts[i]\n",
    "    if post==new_post:\n",
    "        continue\n",
    "    post_vec = X_train.getrow(i)\n",
    "    d = dist_raw(post_vec, new_post_vec)\n",
    "    print \"=== Post %i with dist=%.2f: %s\"%(i, d, post)\n",
    "    if d<best_dist:\n",
    "        best_dist = d\n",
    "        best_i = i\n",
    "        \n",
    "print(\"Best post is %i with dist=%.2f\"%(best_i, best_dist))"
   ]
  },
  {
   "cell_type": "markdown",
   "metadata": {},
   "source": [
    "We have our first similarity measurement. \n",
    "\n",
    "Post 0 is most dissimilar from our new post, which makes a ton of sense since it does not have a single word in common with the new post.\n",
    "\n",
    "We can also understand that Post 1 is very similar to the new post, but not to the winner, as it contains one word more than Post 3 that is not contained in the new post.\n",
    "\n",
    "Looking at posts 3 and 4, however, the picture is not so clear any more. Post 4 is the same as Post 3, duplicated three times. So, it should also be of the same similarity to the new post as Post 3.\n",
    "\n",
    "Obviously, using only the counts of the raw words is too simple. We will have to normalize them to get vectors of unit length."
   ]
  },
  {
   "cell_type": "markdown",
   "metadata": {},
   "source": [
    "### Let's normalize"
   ]
  },
  {
   "cell_type": "code",
   "execution_count": 30,
   "metadata": {
    "collapsed": true
   },
   "outputs": [],
   "source": [
    "def dist_norm(v1, v2):\n",
    "    v1_normalized = v1/sp.linalg.norm(v1.toarray())\n",
    "    v2_normalized = v2/sp.linalg.norm(v2.toarray())\n",
    "    delta = v1_normalized - v2_normalized\n",
    "    return sp.linalg.norm(delta.toarray())\n"
   ]
  },
  {
   "cell_type": "code",
   "execution_count": 31,
   "metadata": {
    "collapsed": false
   },
   "outputs": [
    {
     "name": "stdout",
     "output_type": "stream",
     "text": [
      "=== Post 0 with dist=1.41: This is a toy post about machine learning. Actually, it contains not much interesting stuff.\n",
      "=== Post 1 with dist=0.86: Imaging databases provide storage capabilities.\n",
      "=== Post 2 with dist=0.92: Most imaging databases safe images permanently.\n",
      "=== Post 3 with dist=0.77: Imaging databases store data.\n",
      "=== Post 4 with dist=0.77: Imaging databases store data. Imaging databases store data. Imaging databases store data.\n",
      "Best post is 3 with dist=0.77\n"
     ]
    }
   ],
   "source": [
    "best_doc = None\n",
    "best_dist = sys.maxint\n",
    "best_i = None\n",
    "for i in range(0, num_samples):\n",
    "    post = posts[i]\n",
    "    if post==new_post:\n",
    "        continue\n",
    "    post_vec = X_train.getrow(i)\n",
    "    d = dist_norm(post_vec, new_post_vec)\n",
    "    print \"=== Post %i with dist=%.2f: %s\"%(i, d, post)\n",
    "    if d<best_dist:\n",
    "        best_dist = d\n",
    "        best_i = i\n",
    "        \n",
    "print(\"Best post is %i with dist=%.2f\"%(best_i, best_dist))"
   ]
  },
  {
   "cell_type": "markdown",
   "metadata": {},
   "source": [
    "This looks a bit better now. Post 3 and Post 4 are calculated as being equally similar. One could argue whether that much repetition would be a delight to the reader, but from the point of counting the words in the posts, it's not wrong."
   ]
  },
  {
   "cell_type": "markdown",
   "metadata": {},
   "source": [
    "### Building on our Vectorizer - Stopwords"
   ]
  },
  {
   "cell_type": "markdown",
   "metadata": {},
   "source": [
    "Of its words that are not in the new post, we have \"most\", \"safe\", \"images\", and \"permanently\". \n",
    "\n",
    "They are actually quite different in the overall importance to the post. \n",
    "\n",
    "Words such as \"most\" appear very often in all sorts of different contexts, and words such as this are called stop words. They do not carry as much information, and thus should not be weighed as much as words such as \"images\", that don't occur often in different contexts. \n",
    "\n",
    "The best option is usually to remove all words that are so frequent that they do not help to distinguish between different texts. These words are called stop words.  Lucky for us, stopwords are built into most nlp toolkits so we don't have to build it ourselves.  Although, at times, it may be necessary.\n",
    "\n",
    "For instance, while analyzing presidential debates in 2016, there were specific contextual stopwords that I had to account for.\n",
    "\n"
   ]
  },
  {
   "cell_type": "code",
   "execution_count": 32,
   "metadata": {
    "collapsed": true
   },
   "outputs": [],
   "source": [
    "vectorizer = CountVectorizer(min_df=1, stop_words='english')"
   ]
  },
  {
   "cell_type": "code",
   "execution_count": 33,
   "metadata": {
    "collapsed": false
   },
   "outputs": [
    {
     "data": {
      "text/plain": [
       "['a',\n",
       " 'about',\n",
       " 'above',\n",
       " 'across',\n",
       " 'after',\n",
       " 'afterwards',\n",
       " 'again',\n",
       " 'against',\n",
       " 'all',\n",
       " 'almost']"
      ]
     },
     "execution_count": 33,
     "metadata": {},
     "output_type": "execute_result"
    }
   ],
   "source": [
    "sorted(vectorizer.get_stop_words())[0:10]"
   ]
  },
  {
   "cell_type": "markdown",
   "metadata": {},
   "source": [
    "let's try our distance measurements again"
   ]
  },
  {
   "cell_type": "code",
   "execution_count": 36,
   "metadata": {
    "collapsed": true
   },
   "outputs": [],
   "source": [
    "X_train = vectorizer.fit_transform(posts)\n",
    "num_samples, num_features = X_train.shape"
   ]
  },
  {
   "cell_type": "code",
   "execution_count": 37,
   "metadata": {
    "collapsed": true
   },
   "outputs": [],
   "source": [
    "new_post = \"imaging databases\"\n",
    "new_post_vec = vectorizer.transform([new_post])"
   ]
  },
  {
   "cell_type": "code",
   "execution_count": 38,
   "metadata": {
    "collapsed": false
   },
   "outputs": [
    {
     "name": "stdout",
     "output_type": "stream",
     "text": [
      "=== Post 0 with dist=3.16: This is a toy post about machine learning. Actually, it contains not much interesting stuff.\n",
      "=== Post 1 with dist=1.73: Imaging databases provide storage capabilities.\n",
      "=== Post 2 with dist=1.73: Most imaging databases safe images permanently.\n",
      "=== Post 3 with dist=1.41: Imaging databases store data.\n",
      "=== Post 4 with dist=5.10: Imaging databases store data. Imaging databases store data. Imaging databases store data.\n",
      "Best post is 3 with dist=1.41\n"
     ]
    }
   ],
   "source": [
    "best_doc = None\n",
    "best_dist = sys.maxint\n",
    "best_i = None\n",
    "for i in range(0, num_samples):\n",
    "    post = posts[i]\n",
    "    if post==new_post:\n",
    "        continue\n",
    "    post_vec = X_train.getrow(i)\n",
    "    d = dist_raw(post_vec, new_post_vec)\n",
    "    print \"=== Post %i with dist=%.2f: %s\"%(i, d, post)\n",
    "    if d<best_dist:\n",
    "        best_dist = d\n",
    "        best_i = i\n",
    "        \n",
    "print(\"Best post is %i with dist=%.2f\"%(best_i, best_dist))"
   ]
  },
  {
   "cell_type": "code",
   "execution_count": 39,
   "metadata": {
    "collapsed": false
   },
   "outputs": [
    {
     "name": "stdout",
     "output_type": "stream",
     "text": [
      "=== Post 0 with dist=1.41: This is a toy post about machine learning. Actually, it contains not much interesting stuff.\n",
      "=== Post 1 with dist=0.86: Imaging databases provide storage capabilities.\n",
      "=== Post 2 with dist=0.86: Most imaging databases safe images permanently.\n",
      "=== Post 3 with dist=0.77: Imaging databases store data.\n",
      "=== Post 4 with dist=0.77: Imaging databases store data. Imaging databases store data. Imaging databases store data.\n",
      "Best post is 3 with dist=0.77\n"
     ]
    }
   ],
   "source": [
    "best_doc = None\n",
    "best_dist = sys.maxint\n",
    "best_i = None\n",
    "for i in range(0, num_samples):\n",
    "    post = posts[i]\n",
    "    if post==new_post:\n",
    "        continue\n",
    "    post_vec = X_train.getrow(i)\n",
    "    d = dist_norm(post_vec, new_post_vec)\n",
    "    print \"=== Post %i with dist=%.2f: %s\"%(i, d, post)\n",
    "    if d<best_dist:\n",
    "        best_dist = d\n",
    "        best_i = i\n",
    "        \n",
    "print(\"Best post is %i with dist=%.2f\"%(best_i, best_dist))"
   ]
  },
  {
   "cell_type": "markdown",
   "metadata": {},
   "source": [
    "### Another thing we can do to these words is to stem them.\n",
    "\n",
    "Stemming is a technique used to combine words of different tenses / variants as one.  It's a little odd when you first look at it because inherent in the technique is the possibility of stemming or cutting off the ending of words. So they might not look like valid english words afterwards. But don't freak out"
   ]
  },
  {
   "cell_type": "code",
   "execution_count": 41,
   "metadata": {
    "collapsed": false
   },
   "outputs": [],
   "source": [
    "import nltk"
   ]
  },
  {
   "cell_type": "code",
   "execution_count": 45,
   "metadata": {
    "collapsed": false
   },
   "outputs": [
    {
     "name": "stdout",
     "output_type": "stream",
     "text": [
      "comput\n",
      "matricul\n",
      "matricul\n",
      "matricul\n"
     ]
    }
   ],
   "source": [
    "s= nltk.stem.SnowballStemmer('english')\n",
    "print s.stem(\"computers\")\n",
    "print s.stem(\"matriculating\")\n",
    "print s.stem(\"matriculate\")\n",
    "print s.stem(\"matriculation\")"
   ]
  },
  {
   "cell_type": "markdown",
   "metadata": {},
   "source": [
    "So let's do what we came to do, extend the vectorizer with NLTK's stemmer.\n",
    "\n",
    "We need to stem the posts before we feed them into CountVectorizer. \n",
    "\n",
    "The class provides several hooks with which we could customize the preprocessing and tokenization stages. \n",
    "\n",
    "The preprocessor and tokenizer can be set in the constructor as parameters. \n",
    "\n",
    "We do not want to place the stemmer into any of them, because we would then have to do the tokenization and normalization by ourselves. Instead, we overwrite the method build_analyzer as follows:"
   ]
  },
  {
   "cell_type": "code",
   "execution_count": 46,
   "metadata": {
    "collapsed": true
   },
   "outputs": [],
   "source": [
    "import nltk.stem\n",
    "english_stemmer = nltk.stem.SnowballStemmer('english')\n",
    "class StemmedCountVectorizer(CountVectorizer):\n",
    "    def build_analyzer(self):\n",
    "        analyzer = super(StemmedCountVectorizer, self).build_analyzer()\n",
    "        return lambda doc: (english_stemmer.stem(w) for w in analyzer(doc))\n"
   ]
  },
  {
   "cell_type": "code",
   "execution_count": 47,
   "metadata": {
    "collapsed": true
   },
   "outputs": [],
   "source": [
    "vectorizer = StemmedCountVectorizer(min_df=1, stop_words='english')"
   ]
  },
  {
   "cell_type": "markdown",
   "metadata": {},
   "source": [
    "This will perform the following steps for each post:\n",
    "\n",
    "1. Lower casing the raw post in the preprocessing step (done in the parent class).\n",
    "\n",
    "2. Extracting all individual words in the tokenization step (done in the parent class).\n",
    "\n",
    "3. Converting each word into its stemmed version.\n",
    "\n",
    "\n",
    "As a result, we now have one feature less, because \"images\" and \"imaging\" collapsed to one. \n"
   ]
  },
  {
   "cell_type": "code",
   "execution_count": 48,
   "metadata": {
    "collapsed": true
   },
   "outputs": [],
   "source": [
    "X_train = vectorizer.fit_transform(posts)\n",
    "num_samples, num_features = X_train.shape"
   ]
  },
  {
   "cell_type": "code",
   "execution_count": 49,
   "metadata": {
    "collapsed": true
   },
   "outputs": [],
   "source": [
    "new_post = \"imaging databases\"\n",
    "new_post_vec = vectorizer.transform([new_post])"
   ]
  },
  {
   "cell_type": "code",
   "execution_count": 50,
   "metadata": {
    "collapsed": false
   },
   "outputs": [
    {
     "name": "stdout",
     "output_type": "stream",
     "text": [
      "=== Post 0 with dist=1.41: This is a toy post about machine learning. Actually, it contains not much interesting stuff.\n",
      "=== Post 1 with dist=0.86: Imaging databases provide storage capabilities.\n",
      "=== Post 2 with dist=0.63: Most imaging databases safe images permanently.\n",
      "=== Post 3 with dist=0.77: Imaging databases store data.\n",
      "=== Post 4 with dist=0.77: Imaging databases store data. Imaging databases store data. Imaging databases store data.\n",
      "Best post is 2 with dist=0.63\n"
     ]
    }
   ],
   "source": [
    "best_doc = None\n",
    "best_dist = sys.maxint\n",
    "best_i = None\n",
    "for i in range(0, num_samples):\n",
    "    post = posts[i]\n",
    "    if post==new_post:\n",
    "        continue\n",
    "    post_vec = X_train.getrow(i)\n",
    "    d = dist_norm(post_vec, new_post_vec)\n",
    "    print \"=== Post %i with dist=%.2f: %s\"%(i, d, post)\n",
    "    if d<best_dist:\n",
    "        best_dist = d\n",
    "        best_i = i\n",
    "        \n",
    "print(\"Best post is %i with dist=%.2f\"%(best_i, best_dist))"
   ]
  },
  {
   "cell_type": "markdown",
   "metadata": {},
   "source": [
    "Looks like that changed up the standings this time.  If you notice, post 2 is now the most similar as it contains 'imag' twice"
   ]
  },
  {
   "cell_type": "markdown",
   "metadata": {},
   "source": [
    "### TF-IDF "
   ]
  },
  {
   "cell_type": "markdown",
   "metadata": {},
   "source": [
    "Now that we have a reasonable way to extract a compact vector from a noisy textual post, let's step back for a while to think about what the feature values actually mean.\n",
    "\n",
    "**The feature values simply count occurrences of terms in a post.** We silently assumed that higher values for a term also mean that the term is of greater importance to the given post. \n",
    "\n",
    "But what about, for instance, the word \"subject\", which naturally occurs in each and every single post? \n",
    "\n",
    "We could tell CountVectorizer to remove it as well by means of its `max_df` parameter. We could, for instance, set it to 0.9 so that all words that occur in more than 90 percent of all posts would be always ignored. \n",
    "\n",
    "But what about words that appear in 89 percent of all posts? \n",
    "\n",
    "How low would we be willing to set max_df? **The problem is that however we set it, there will always be some terms that are just more discriminative than others.**\n",
    "\n",
    "This can only be solved by counting term frequencies for every post, and in addition, discounting those that appear in many posts. **In other words, we want a high value for a given term in a given value if that term occurs often in that particular post and very rarely anywhere else.**\n",
    "\n",
    "This is exactly what term frequency – inverse document frequency (TF-IDF) does; TF stands for the counting part, while IDF factors in the discounting. A naive implementation would look like the following:\n",
    "\n"
   ]
  },
  {
   "cell_type": "code",
   "execution_count": 56,
   "metadata": {
    "collapsed": false
   },
   "outputs": [],
   "source": [
    "import scipy as sp\n",
    "def tfidf(term, doc, docset):\n",
    "    tf = float(doc.count(term))*1.0/sum(doc.count(w) for w in docset)\n",
    "    idf = math.log(float(len(docset))/(len([doc for doc in docset if term in doc])))\n",
    "    return tf * idf"
   ]
  },
  {
   "cell_type": "code",
   "execution_count": 58,
   "metadata": {
    "collapsed": true
   },
   "outputs": [],
   "source": [
    "from sklearn.feature_extraction.text import TfidfVectorizer\n",
    "class StemmedTfidfVectorizer(TfidfVectorizer):\n",
    "    def build_analyzer(self):\n",
    "        analyzer = super(TfidfVectorizer,\n",
    "                             self).build_analyzer()\n",
    "        return lambda doc: (english_stemmer.stem(w) for w in analyzer(doc))"
   ]
  },
  {
   "cell_type": "code",
   "execution_count": 60,
   "metadata": {
    "collapsed": false
   },
   "outputs": [],
   "source": [
    "vectorizer = StemmedTfidfVectorizer(min_df=1,stop_words='english')"
   ]
  },
  {
   "cell_type": "code",
   "execution_count": 62,
   "metadata": {
    "collapsed": false
   },
   "outputs": [
    {
     "name": "stdout",
     "output_type": "stream",
     "text": [
      "=== Post 0 with dist=1.41: This is a toy post about machine learning. Actually, it contains not much interesting stuff.\n",
      "=== Post 1 with dist=1.08: Imaging databases provide storage capabilities.\n",
      "=== Post 2 with dist=0.86: Most imaging databases safe images permanently.\n",
      "=== Post 3 with dist=0.92: Imaging databases store data.\n",
      "=== Post 4 with dist=0.92: Imaging databases store data. Imaging databases store data. Imaging databases store data.\n",
      "Best post is 2 with dist=0.86\n"
     ]
    }
   ],
   "source": [
    "X_train = vectorizer.fit_transform(posts)\n",
    "num_samples, num_features = X_train.shape\n",
    "new_post = \"imaging databases\"\n",
    "new_post_vec = vectorizer.transform([new_post])\n",
    "best_doc = None\n",
    "best_dist = sys.maxint\n",
    "best_i = None\n",
    "for i in range(0, num_samples):\n",
    "    post = posts[i]\n",
    "    if post==new_post:\n",
    "        continue\n",
    "    post_vec = X_train.getrow(i)\n",
    "    d = dist_norm(post_vec, new_post_vec)\n",
    "    print \"=== Post %i with dist=%.2f: %s\"%(i, d, post)\n",
    "    if d<best_dist:\n",
    "        best_dist = d\n",
    "        best_i = i\n",
    "        \n",
    "print(\"Best post is %i with dist=%.2f\"%(best_i, best_dist))"
   ]
  },
  {
   "cell_type": "markdown",
   "metadata": {},
   "source": [
    "### Where we're at\n",
    "\n",
    "Our current text preprocessing phase includes the following steps:\n",
    "\n",
    "1. Tokenizing the text.\n",
    "2. Throwing away words that occur way too often to be of any help in detecting relevant posts.\n",
    "3. Throwing away words that occur so seldom that there is only a small chance that they occur in future posts.\n",
    "4. Counting the remaining words.\n",
    "5. Calculating TF-IDF values from the counts, considering the whole text corpus.\n"
   ]
  },
  {
   "cell_type": "markdown",
   "metadata": {},
   "source": [
    "But, as simple and as powerful as the bag-of-words approach with its extensions is, it has some drawbacks that we should be aware of. \n",
    "\n",
    "They are as follows:\n",
    "1. It does not cover word relations. With the previous vectorization approach, the text \"Car hits wall\" and \"Wall hits car\" will both have the same feature vector.\n",
    "2. It does not capture negations correctly. \n",
    "    a. For instance, the text \"I will eat ice cream\" and \"I will not eat ice cream\" will look very similar by means of their feature vectors, although they contain quite the opposite meaning. \n",
    "    b. This problem, however, can be easily changed by not only counting individual words, also called unigrams, but also considering bigrams (pairs of words) or trigrams (three words in a row).\n",
    "3. It totally fails with misspelled words. Although it is clear to the readers that \"database\" and \"databas\" convey the same meaning, our approach will treat them as totally different words.\n"
   ]
  },
  {
   "cell_type": "markdown",
   "metadata": {},
   "source": [
    "### Now that we have our feature vectors that appropriately reflect our posts, let's cluster them!"
   ]
  },
  {
   "cell_type": "markdown",
   "metadata": {},
   "source": [
    "Most clustering algorithms fall into one of the two methods, flat and hierarchical clustering.\n",
    "\n",
    "**Flat clustering** divides the posts into a set of clusters without relating the clusters to each other. The goal is simply to come up with a partitioning such that all posts in one cluster are most similar to each other while being dissimilar from the posts in all other clusters. **Many flat clustering algorithms require the number of clusters to be specified up front.** (Think K-Means)\n",
    "\n",
    "In **hierarchical clustering**, the number of clusters does not have to be specified. Instead, the hierarchical clustering creates a hierarchy of clusters. While similar posts are grouped into one cluster, similar clusters are again grouped into one uber-cluster. This is done recursively, until only one cluster is left, which contains everything. In this hierarchy, one can then choose the desired number of clusters. However, this comes at the cost of lower efficiency.\n",
    "\n",
    "Scikit provides a wide range of clustering approaches in the package sklearn.cluster. You can get a quick overview of the advantages and drawbacks of each of them at http://scikit-learn.org/dev/modules/clustering.html.\n"
   ]
  },
  {
   "cell_type": "markdown",
   "metadata": {},
   "source": [
    "### K-Means"
   ]
  },
  {
   "cell_type": "markdown",
   "metadata": {},
   "source": [
    "KMeans is the most widely used flat clustering algorithm. \n",
    "\n",
    "It works in two steps\n",
    "\n",
    "1. Randomly initiates cluster centroids and assigns each training example to it's closest centroid.\n",
    "2. For each cluster, the centroid is moved to the mean and each training example is then (potentially) reassigned to it's closest centroid.\n",
    "\n",
    "Rinse and repeat until there is no more movement\n",
    "\n"
   ]
  },
  {
   "cell_type": "code",
   "execution_count": 64,
   "metadata": {
    "collapsed": false
   },
   "outputs": [],
   "source": [
    "import os\n",
    "import scipy as sp\n",
    "from scipy.stats import norm\n",
    "from matplotlib import pylab\n",
    "from sklearn.cluster import KMeans\n",
    "%matplotlib inline\n",
    "\n",
    "seed = 2\n",
    "sp.random.seed(seed)  # to reproduce the data later on\n",
    "\n",
    "num_clusters = 3\n",
    "\n",
    "\n",
    "def plot_clustering(x, y, title, mx=None, ymax=None, xmin=None, km=None):\n",
    "    pylab.figure(num=None, figsize=(8, 6))\n",
    "    if km:\n",
    "        pylab.scatter(x, y, s=50, c=km.predict(list(zip(x, y))))\n",
    "    else:\n",
    "        pylab.scatter(x, y, s=50)\n",
    "\n",
    "    pylab.title(title)\n",
    "    pylab.xlabel(\"Occurrence word 1\")\n",
    "    pylab.ylabel(\"Occurrence word 2\")\n",
    "    # pylab.xticks([w*7*24 for w in range(10)], ['week %i'%w for w in range(10)])\n",
    "\n",
    "    pylab.autoscale(tight=True)\n",
    "    pylab.ylim(ymin=0, ymax=1)\n",
    "    pylab.xlim(xmin=0, xmax=1)\n",
    "    pylab.grid(True, linestyle='-', color='0.75')\n",
    "\n",
    "    return pylab"
   ]
  },
  {
   "cell_type": "code",
   "execution_count": 67,
   "metadata": {
    "collapsed": false
   },
   "outputs": [
    {
     "data": {
      "image/png": "[encoded data removed]",
      "text/plain": [
       "<matplotlib.figure.Figure at 0x11367b5d0>"
      ]
     },
     "metadata": {},
     "output_type": "display_data"
    },
    {
     "data": {
      "text/plain": [
       "<matplotlib.figure.Figure at 0x1136dc210>"
      ]
     },
     "metadata": {},
     "output_type": "display_data"
    }
   ],
   "source": [
    "xw1 = norm(loc=0.3, scale=.15).rvs(20)\n",
    "yw1 = norm(loc=0.3, scale=.15).rvs(20)\n",
    "\n",
    "xw2 = norm(loc=0.7, scale=.15).rvs(20)\n",
    "yw2 = norm(loc=0.7, scale=.15).rvs(20)\n",
    "\n",
    "xw3 = norm(loc=0.2, scale=.15).rvs(20)\n",
    "yw3 = norm(loc=0.8, scale=.15).rvs(20)\n",
    "\n",
    "x = sp.append(sp.append(xw1, xw2), xw3)\n",
    "y = sp.append(sp.append(yw1, yw2), yw3)\n",
    "\n",
    "i = 1\n",
    "plot_clustering(x, y, \"Vectors\")\n",
    "pylab.savefig(os.path.join(\"..\", \"1400_03_0%i.png\" % i))\n",
    "pylab.show()\n",
    "pylab.clf()\n",
    "\n",
    "i += 1"
   ]
  },
  {
   "cell_type": "code",
   "execution_count": 68,
   "metadata": {
    "collapsed": false
   },
   "outputs": [
    {
     "name": "stdout",
     "output_type": "stream",
     "text": [
      "Initialization complete\n",
      "start iteration\n",
      "done sorting\n",
      "end inner loop\n",
      "Iteration 0, inertia 2.90572262977\n"
     ]
    },
    {
     "data": {
      "image/png": "[encoded data removed]",
      "text/plain": [
       "<matplotlib.figure.Figure at 0x1137d1e10>"
      ]
     },
     "metadata": {},
     "output_type": "display_data"
    },
    {
     "name": "stdout",
     "output_type": "stream",
     "text": [
      "Initialization complete\n",
      "start iteration\n",
      "done sorting\n",
      "end inner loop\n",
      "Iteration 0, inertia 2.90572262977\n",
      "start iteration\n",
      "done sorting\n",
      "end inner loop\n",
      "Iteration 1, inertia 2.39034740237\n"
     ]
    },
    {
     "data": {
      "text/plain": [
       "<matplotlib.figure.Figure at 0x1136a7450>"
      ]
     },
     "metadata": {},
     "output_type": "display_data"
    },
    {
     "data": {
      "image/png": "[encoded data removed]",
      "text/plain": [
       "<matplotlib.figure.Figure at 0x113797990>"
      ]
     },
     "metadata": {},
     "output_type": "display_data"
    },
    {
     "name": "stdout",
     "output_type": "stream",
     "text": [
      "Initialization complete\n",
      "start iteration\n",
      "done sorting\n",
      "end inner loop\n",
      "Iteration 0, inertia 2.90572262977\n",
      "start iteration\n",
      "done sorting\n",
      "end inner loop\n",
      "Iteration 1, inertia 2.39034740237\n",
      "start iteration\n",
      "done sorting\n",
      "end inner loop\n",
      "Iteration 2, inertia 2.35256626213\n",
      "start iteration\n",
      "done sorting\n",
      "end inner loop\n",
      "Iteration 3, inertia 2.32148756511\n",
      "start iteration\n",
      "done sorting\n",
      "end inner loop\n",
      "Iteration 4, inertia 2.32148756511\n",
      "center shift 0.000000e+00 within tolerance 7.136915e-06\n"
     ]
    },
    {
     "data": {
      "text/plain": [
       "<matplotlib.figure.Figure at 0x1137f1210>"
      ]
     },
     "metadata": {},
     "output_type": "display_data"
    },
    {
     "data": {
      "image/png": "[encoded data removed]",
      "text/plain": [
       "<matplotlib.figure.Figure at 0x1137f1190>"
      ]
     },
     "metadata": {},
     "output_type": "display_data"
    },
    {
     "data": {
      "text/plain": [
       "<matplotlib.figure.Figure at 0x115d37350>"
      ]
     },
     "metadata": {},
     "output_type": "display_data"
    }
   ],
   "source": [
    "#################### 1 iteration ####################\n",
    "'''\n",
    "Here we're randomizing our starting vectors as starting points,\n",
    "assigning labels to the rest,\n",
    "and updating the cluster centers to be the new center point of all points in that cluster.\n",
    "'''\n",
    "mx, my = sp.meshgrid(sp.arange(0, 1, 0.001), sp.arange(0, 1, 0.001))\n",
    "\n",
    "km = KMeans(init='random', n_clusters=num_clusters, verbose=1,\n",
    "            n_init=1, max_iter=1,\n",
    "            random_state=seed)\n",
    "km.fit(sp.array(list(zip(x, y))))\n",
    "\n",
    "Z = km.predict(sp.c_[mx.ravel(), my.ravel()]).reshape(mx.shape)\n",
    "\n",
    "plot_clustering(x, y, \"Clustering iteration 1\", km=km)\n",
    "pylab.imshow(Z, interpolation='nearest',\n",
    "           extent=(mx.min(), mx.max(), my.min(), my.max()),\n",
    "           cmap=pylab.cm.Blues,\n",
    "           aspect='auto', origin='lower')\n",
    "\n",
    "c1a, c1b, c1c = km.cluster_centers_\n",
    "pylab.scatter(km.cluster_centers_[:, 0], km.cluster_centers_[:, 1],\n",
    "            marker='x', linewidth=2, s=100, color='black')\n",
    "pylab.savefig(os.path.join(\"..\", \"1400_03_0%i.png\" % i))\n",
    "pylab.show()\n",
    "pylab.clf()\n",
    "\n",
    "i += 1\n",
    "\n",
    "#################### 2 iterations ####################\n",
    "'''\n",
    "Because the cluster centers are moved, \n",
    "we have to reassign the cluster labels and recalculate the cluster centers\n",
    "Thus with iteration 2 we get the folllowing\n",
    "'''\n",
    "km = KMeans(init='random', n_clusters=num_clusters, verbose=1,\n",
    "            n_init=1, max_iter=2,\n",
    "            random_state=seed)\n",
    "km.fit(sp.array(list(zip(x, y))))\n",
    "\n",
    "Z = km.predict(sp.c_[mx.ravel(), my.ravel()]).reshape(mx.shape)\n",
    "\n",
    "plot_clustering(x, y, \"Clustering iteration 2\", km=km)\n",
    "pylab.imshow(Z, interpolation='nearest',\n",
    "           extent=(mx.min(), mx.max(), my.min(), my.max()),\n",
    "           cmap=pylab.cm.Blues,\n",
    "           aspect='auto', origin='lower')\n",
    "\n",
    "c2a, c2b, c2c = km.cluster_centers_\n",
    "pylab.scatter(km.cluster_centers_[:, 0], km.cluster_centers_[:, 1],\n",
    "            marker='x', linewidth=2, s=100, color='black')\n",
    "# import pdb;pdb.set_trace()\n",
    "pylab.gca().add_patch(\n",
    "    pylab.Arrow(c1a[0], c1a[1], c2a[0] - c1a[0], c2a[1] - c1a[1], width=0.1))\n",
    "pylab.gca().add_patch(\n",
    "    pylab.Arrow(c1b[0], c1b[1], c2b[0] - c1b[0], c2b[1] - c1b[1], width=0.1))\n",
    "pylab.gca().add_patch(\n",
    "    pylab.Arrow(c1c[0], c1c[1], c2c[0] - c1c[0], c2c[1] - c1c[1], width=0.1))\n",
    "\n",
    "pylab.savefig(os.path.join(\"..\", \"1400_03_0%i.png\" % i))\n",
    "pylab.show()\n",
    "pylab.clf()\n",
    "\n",
    "i += 1\n",
    "\n",
    "#################### 3 iterations ####################\n",
    "km = KMeans(init='random', n_clusters=num_clusters, verbose=1,\n",
    "            n_init=1, max_iter=10,\n",
    "            random_state=seed)\n",
    "km.fit(sp.array(list(zip(x, y))))\n",
    "\n",
    "Z = km.predict(sp.c_[mx.ravel(), my.ravel()]).reshape(mx.shape)\n",
    "\n",
    "plot_clustering(x, y, \"Clustering iteration 10\", km=km)\n",
    "pylab.imshow(Z, interpolation='nearest',\n",
    "           extent=(mx.min(), mx.max(), my.min(), my.max()),\n",
    "           cmap=pylab.cm.Blues,\n",
    "           aspect='auto', origin='lower')\n",
    "\n",
    "pylab.scatter(km.cluster_centers_[:, 0], km.cluster_centers_[:, 1],\n",
    "            marker='x', linewidth=2, s=100, color='black')\n",
    "pylab.savefig(os.path.join(\"..\", \"1400_03_0%i.png\" % i))\n",
    "pylab.show()\n",
    "pylab.clf()\n",
    "\n",
    "i += 1"
   ]
  },
  {
   "cell_type": "markdown",
   "metadata": {},
   "source": [
    "After the clustering has settled, we just need to note down the cluster centers and their identity. \n",
    "\n",
    "When each new document comes in, we have to vectorize and compare it with all the cluster centers. \n",
    "\n",
    "The cluster center with the smallest distance to our new post vector belongs to the cluster we will assign to the new post."
   ]
  },
  {
   "cell_type": "markdown",
   "metadata": {},
   "source": [
    "### Using Real Test Data"
   ]
  },
  {
   "cell_type": "code",
   "execution_count": 76,
   "metadata": {
    "collapsed": false
   },
   "outputs": [
    {
     "name": "stdout",
     "output_type": "stream",
     "text": [
      "[ '/Users/bill_mac/github_repos/Python_Projects/data-analysis/clustering - finding related texts/data/379/raw/comp.graphics/1190-38614'\n",
      " '/Users/bill_mac/github_repos/Python_Projects/data-analysis/clustering - finding related texts/data/379/raw/comp.graphics/1383-38616'\n",
      " '/Users/bill_mac/github_repos/Python_Projects/data-analysis/clustering - finding related texts/data/379/raw/alt.atheism/487-53344'\n",
      " ...,\n",
      " '/Users/bill_mac/github_repos/Python_Projects/data-analysis/clustering - finding related texts/data/379/raw/rec.sport.hockey/10215-54303'\n",
      " '/Users/bill_mac/github_repos/Python_Projects/data-analysis/clustering - finding related texts/data/379/raw/sci.crypt/10799-15660'\n",
      " '/Users/bill_mac/github_repos/Python_Projects/data-analysis/clustering - finding related texts/data/379/raw/comp.os.ms-windows.misc/2732-10871']\n",
      "18828\n",
      "['alt.atheism', 'comp.graphics', 'comp.os.ms-windows.misc', 'comp.sys.ibm.pc.hardware', 'comp.sys.mac.hardware', 'comp.windows.x', 'misc.forsale', 'rec.autos', 'rec.motorcycles', 'rec.sport.baseball', 'rec.sport.hockey', 'sci.crypt', 'sci.electronics', 'sci.med', 'sci.space', 'soc.religion.christian', 'talk.politics.guns', 'talk.politics.mideast', 'talk.politics.misc', 'talk.religion.misc']\n"
     ]
    }
   ],
   "source": [
    "import sklearn.datasets\n",
    "MLCOMP_DIR = r\"../data/\"\n",
    "data = sklearn.datasets.load_mlcomp(\"20news-18828\", mlcomp_root=MLCOMP_DIR)\n",
    "print(data.filenames)\n",
    "print(len(data.filenames))\n",
    "print data.target_names"
   ]
  },
  {
   "cell_type": "code",
   "execution_count": 77,
   "metadata": {
    "collapsed": false
   },
   "outputs": [
    {
     "name": "stdout",
     "output_type": "stream",
     "text": [
      "13180\n",
      "5648\n"
     ]
    }
   ],
   "source": [
    "train_data = sklearn.datasets.load_mlcomp(\"20news-18828\", \"train\", mlcomp_root=MLCOMP_DIR)\n",
    "print(len(train_data.filenames))\n",
    "test_data = sklearn.datasets.load_mlcomp(\"20news-18828\", \"test\", mlcomp_root=MLCOMP_DIR)\n",
    "print(len(test_data.filenames))"
   ]
  },
  {
   "cell_type": "code",
   "execution_count": 78,
   "metadata": {
    "collapsed": false
   },
   "outputs": [
    {
     "name": "stdout",
     "output_type": "stream",
     "text": [
      "3414\n"
     ]
    }
   ],
   "source": [
    "groups = ['comp.graphics', 'comp.os.ms-windows.misc', 'comp.sys.ibm.pc.hardware', 'comp.sys.ma c.hardware', 'comp.windows.x', 'sci.space']\n",
    "train_data = sklearn.datasets.load_mlcomp(\"20news-18828\", \"train\", mlcomp_root=MLCOMP_DIR, categories=groups)\n",
    "print(len(train_data.filenames))"
   ]
  },
  {
   "cell_type": "markdown",
   "metadata": {},
   "source": [
    "### Clustering posts\n",
    "\n",
    "You must have already noticed one thing – real data is noisy. \n",
    "\n",
    "The newsgroup dataset is no exception. It even contains invalid characters that will result in `UnicodeDecodeError`.  It's super annoying.\n",
    "\n",
    "We have to tell the vectorizer to ignore them:"
   ]
  },
  {
   "cell_type": "code",
   "execution_count": 85,
   "metadata": {
    "collapsed": false
   },
   "outputs": [],
   "source": [
    "dataset = train_data\n",
    "labels = dataset.target\n",
    "num_clusters = 50  # sp.unique(labels).shape[0]\n",
    "\n",
    "import nltk.stem\n",
    "english_stemmer = nltk.stem.SnowballStemmer('english')\n",
    "\n",
    "from sklearn.feature_extraction.text import TfidfVectorizer\n",
    "\n",
    "class StemmedTfidfVectorizer(TfidfVectorizer):\n",
    "    def build_analyzer(self):\n",
    "        analyzer = super(TfidfVectorizer, self).build_analyzer()\n",
    "        return lambda doc: (english_stemmer.stem(w) for w in analyzer(doc))\n"
   ]
  },
  {
   "cell_type": "code",
   "execution_count": 92,
   "metadata": {
    "collapsed": false
   },
   "outputs": [
    {
     "name": "stdout",
     "output_type": "stream",
     "text": [
      "#samples: 3414, #features: 4331\n"
     ]
    }
   ],
   "source": [
    "vectorizer = StemmedTfidfVectorizer(min_df=10, max_df=0.5,\n",
    "                                    # max_features=1000,\n",
    "                                    stop_words='english', decode_error ='ignore',\n",
    "                                    )\n",
    "vectorized = vectorizer.fit_transform(dataset.data)\n",
    "num_samples, num_features = vectorized.shape\n",
    "print(\"#samples: %d, #features: %d\" % (num_samples, num_features))\n",
    "\n"
   ]
  },
  {
   "cell_type": "code",
   "execution_count": 93,
   "metadata": {
    "collapsed": false
   },
   "outputs": [
    {
     "name": "stdout",
     "output_type": "stream",
     "text": [
      "Initialization complete\n",
      "Iteration  0, inertia 5469.651\n",
      "Iteration  1, inertia 3059.438\n",
      "Iteration  2, inertia 3027.446\n",
      "Iteration  3, inertia 3016.790\n",
      "Iteration  4, inertia 3011.225\n",
      "Iteration  5, inertia 3008.811\n",
      "Iteration  6, inertia 3007.565\n",
      "Iteration  7, inertia 3006.344\n",
      "Iteration  8, inertia 3005.867\n",
      "Iteration  9, inertia 3005.680\n",
      "Iteration 10, inertia 3005.586\n",
      "Iteration 11, inertia 3005.441\n",
      "Iteration 12, inertia 3005.385\n",
      "Converged at iteration 12: center shift 0.000000e+00 within tolerance 2.251613e-08\n"
     ]
    }
   ],
   "source": [
    "from sklearn.cluster import KMeans\n",
    "\n",
    "km = KMeans(n_clusters=num_clusters, init='k-means++', n_init=1,\n",
    "            verbose=1)\n",
    "\n",
    "clustered = km.fit(vectorized)\n"
   ]
  },
  {
   "cell_type": "code",
   "execution_count": 96,
   "metadata": {
    "collapsed": false
   },
   "outputs": [
    {
     "name": "stdout",
     "output_type": "stream",
     "text": [
      "[26 18 14 ..., 28 42 11]\n",
      "(3414,)\n"
     ]
    }
   ],
   "source": [
    "print km.labels_\n",
    "print km.labels_.shape"
   ]
  },
  {
   "cell_type": "code",
   "execution_count": 101,
   "metadata": {
    "collapsed": false
   },
   "outputs": [
    {
     "data": {
      "text/plain": [
       "array([[<matplotlib.axes._subplots.AxesSubplot object at 0x119a3dd90>]], dtype=object)"
      ]
     },
     "execution_count": 101,
     "metadata": {},
     "output_type": "execute_result"
    },
    {
     "data": {
      "image/png": "[encoded data removed]",
      "text/plain": [
       "<matplotlib.figure.Figure at 0x10de67a10>"
      ]
     },
     "metadata": {},
     "output_type": "display_data"
    }
   ],
   "source": [
    "import pandas as pd\n",
    "pd.DataFrame(km.labels_).hist()"
   ]
  },
  {
   "cell_type": "code",
   "execution_count": 94,
   "metadata": {
    "collapsed": false
   },
   "outputs": [
    {
     "name": "stdout",
     "output_type": "stream",
     "text": [
      "Homogeneity: 0.473\n",
      "Completeness: 0.226\n",
      "V-measure: 0.306\n",
      "Adjusted Rand Index: 0.089\n",
      "Adjusted Mutual Information: 0.219\n",
      "Silhouette Coefficient: 0.007\n"
     ]
    }
   ],
   "source": [
    "from sklearn import metrics\n",
    "print(\"Homogeneity: %0.3f\" % metrics.homogeneity_score(labels, km.labels_))\n",
    "print(\"Completeness: %0.3f\" % metrics.completeness_score(labels, km.labels_))\n",
    "print(\"V-measure: %0.3f\" % metrics.v_measure_score(labels, km.labels_))\n",
    "print(\"Adjusted Rand Index: %0.3f\" %\n",
    "      metrics.adjusted_rand_score(labels, km.labels_))\n",
    "print(\"Adjusted Mutual Information: %0.3f\" %\n",
    "      metrics.adjusted_mutual_info_score(labels, km.labels_))\n",
    "print((\"Silhouette Coefficient: %0.3f\" %\n",
    "       metrics.silhouette_score(vectorized, labels, sample_size=1000)))"
   ]
  },
  {
   "cell_type": "markdown",
   "metadata": {},
   "source": [
    "### Let's go for it and see how it works on new data"
   ]
  },
  {
   "cell_type": "code",
   "execution_count": 104,
   "metadata": {
    "collapsed": true
   },
   "outputs": [],
   "source": [
    "new_post = \\\n",
    "    \"\"\"Disk drive problems. Hi, I have a problem with my hard disk.\n",
    "After 1 year it is working only sporadically now.\n",
    "I tried to format it, but now it doesn't boot any more.\n",
    "Any ideas? Thanks.\n",
    "\"\"\""
   ]
  },
  {
   "cell_type": "markdown",
   "metadata": {},
   "source": [
    "As we know, we will first have to vectorize this post before we predict its label as follows:"
   ]
  },
  {
   "cell_type": "code",
   "execution_count": 105,
   "metadata": {
    "collapsed": true
   },
   "outputs": [],
   "source": [
    "new_post_vec = vectorizer.transform([new_post])\n",
    "new_post_label = km.predict(new_post_vec)[0]\n"
   ]
  },
  {
   "cell_type": "markdown",
   "metadata": {},
   "source": [
    "Now that we have the clustering, we do not need to compare new_post_vec to all post vectors. \n",
    "\n",
    "Instead, we can focus only on the posts of the same cluster. Let us fetch their indices in the original dataset:"
   ]
  },
  {
   "cell_type": "code",
   "execution_count": 106,
   "metadata": {
    "collapsed": true
   },
   "outputs": [],
   "source": [
    "similar_indices = (km.labels_ == new_post_label).nonzero()[0]"
   ]
  },
  {
   "cell_type": "markdown",
   "metadata": {},
   "source": [
    "The comparison in the bracket results in a Boolean array, and nonzero converts that array into a smaller array containing the indices of the True elements.\n",
    "\n",
    "Using similar_indices, we then simply have to build a list of posts together with their similarity scores as follows:"
   ]
  },
  {
   "cell_type": "code",
   "execution_count": 107,
   "metadata": {
    "collapsed": false
   },
   "outputs": [],
   "source": [
    "similar = []\n",
    "for i in similar_indices:\n",
    "    dist = sp.linalg.norm((new_post_vec - vectorized[i]).toarray())\n",
    "    similar.append((dist, dataset.data[i]))\n",
    "\n",
    "similar = sorted(similar)"
   ]
  },
  {
   "cell_type": "code",
   "execution_count": 108,
   "metadata": {
    "collapsed": false
   },
   "outputs": [
    {
     "name": "stdout",
     "output_type": "stream",
     "text": [
      "110\n"
     ]
    }
   ],
   "source": [
    "print len(similar)"
   ]
  },
  {
   "cell_type": "markdown",
   "metadata": {},
   "source": [
    "We found 110 posts in the cluster of our post. To give the user a quick idea of what kind of similar posts are available, we can now present the most similar post (show_at_1), the least similar one (show_at_3), and an in-between post (show_at_2), all of which are from the same cluster as follows:"
   ]
  },
  {
   "cell_type": "code",
   "execution_count": 111,
   "metadata": {
    "collapsed": false
   },
   "outputs": [
    {
     "name": "stdout",
     "output_type": "stream",
     "text": [
      "(1.0180360777083872, \"From: Thomas Dachsel <GERTHD@mvs.sas.com>\\nSubject: BOOT PROBLEM with IDE controller\\n\\nHi,\\nI've got a Multi I/O card (IDE controller + serial/parallel\\ninterface) and two floppy drives (5 1/4, 3 1/2) and a\\nQuantum ProDrive 80AT connected to it.\\nI was able to format the hard disk, but I could not boot from\\nit. I can boot from drive A: (which disk drive does not matter)\\nbut if I remove the disk from drive A and press the reset switch,\\nthe LED of drive A: continues to glow, and the hard disk is\\nnot accessed at all.\\nI guess this must be a problem of either the Multi I/o card\\nor floppy disk drive settings (jumper configuration?)\\nDoes someone have any hint what could be the reason for it.\\nPlease reply by email to GERTHD@MVS.SAS.COM\\nThanks,\\nThomas\\n+-------------------------------------------------------------------+\\n| Thomas Dachsel                                                    |\\n| Internet: GERTHD@MVS.SAS.COM                                      |\\n| Fidonet:  Thomas_Dachsel@camel.fido.de (2:247/40)                 |\\n| Subnet:   dachsel@rnivh.rni.sub.org (UUCP in Germany, now active) |\\n| Phone:    +49 6221 4150 (work), +49 6203 12274 (home)             |\\n| Fax:      +49 6221 415101                                         |\\n| Snail:    SAS Institute GmbH, P.O.Box 105307, D-W-6900 Heidelberg |\\n| Tagline:  One bad sector can ruin a whole day...                  |\\n+-------------------------------------------------------------------+\\n\")\n",
      "\n",
      "\n",
      "(1.3054256214838444, 'From: balog@eniac.seas.upenn.edu (Eric J Balog)\\nSubject: SWITCH 3.5\" TO A:?\\n\\nHi!\\n\\nI\\'d like to switch my floppy drives so that my 3.5\" b: drive becomes a:, while\\nmy 5.25\" a: becomes b:. I\\'m having a few problems, though.\\n\\nI know that the ribbon cable must be switched, as well as the CMOS settings, \\nto reflect this change, and I think that I\\'ve done that correctly. However, the\\ndrives do not operate correctly in this configuration. From the C:> prompt, if \\nI type a:, the 5.25\" drive light comes on; if I type b:, both the light for the\\n5.25\" and 3.5\" drives come on.\\n\\nThere are some jumpers on each drive:\\n5.25\"  Label   Original Pos.   Pos. I changed it to\\n        DS0      ON               OFF\\n\\tDS1\\t OFF\\t\\t  ON\\n\\tDS2\\t ON\\t\\t  ON\\n\\tDS3\\t OFF\\t\\t  OFF\\n\\tIO\\t OFF\\t\\t  OFF\\n\\tMS1\\t OFF\\t\\t  OFF\\n\\tD-R\\t ON \\t\\t  ON\\n\\tMS2\\t ON\\t\\t  ON\\n\\tFG\\t OFF\\t\\t  OFF\\n\\n3.5\"    DS0\\t OFF\\t\\t  ON\\n\\tDS1\\t ON\\t\\t  OFF\\n\\tDS2\\t OFF\\t\\t  OFF\\n\\tDS3\\t OFF\\t\\t  OFF\\n\\tMM\\t ON\\t\\t  ON\\n\\tDC\\t ON\\t\\t  ON\\n\\tMD\\t OFF\\t\\t  OFF\\n\\tTTL/C-MO8 ON\\t\\t  ON\\n\\n\\nAny help or suggestions would be greatly appreciated.\\n\\nThanks in advance.\\n\\nEric Balog\\nbalog@eniac.seas.upenn.edu\\n')\n",
      "\n",
      "\n",
      "(1.4015962243485551, \"From: UC532838@mizzou1.missouri.edu (handy)\\nSubject: Help needed on installing 2nd IDE HD..\\n\\ngreetings..\\nI'm a novice in messing comp. hardware.\\nMy original IDE HD is a 42MB Western Digital which came with the system\\nwhen I bought it. And I just got a 213MB IDE HD Maxtor that I wanted to\\nadd as a slave drive. I did change the jumper settings on 213A Maxtor to\\nconfigure it as slave drv, but I didn't change anything on my 42M Western\\nDig, since I didn't have any doc. on it. And as I predicted, It just beeped\\nand gave me an error message about HDD controller.\\nSo, I had to take my 42M off & install my 213A to be my only HD.\\n \\nany help on this matter would be much appreciated.\\n(before I trashed my 42MB)\\n \\nThankx much\\n \\nHandy Trisakti - uc532838@mizzou1.missouri.edu\\n\")\n"
     ]
    }
   ],
   "source": [
    "# import pdb\n",
    "# pdb.set_trace()\n",
    "\n",
    "show_at_1 = similar[0]\n",
    "show_at_2 = similar[len(similar) / 2]\n",
    "show_at_3 = similar[-1]\n",
    "\n",
    "print(show_at_1)\n",
    "print\n",
    "print\n",
    "print(show_at_2)\n",
    "print\n",
    "print\n",
    "print(show_at_3)"
   ]
  },
  {
   "cell_type": "code",
   "execution_count": null,
   "metadata": {
    "collapsed": true
   },
   "outputs": [],
   "source": []
  }
 ],
 "metadata": {
  "anaconda-cloud": {},
  "kernelspec": {
   "display_name": "kagglehouse",
   "language": "python",
   "name": "kagglehouse"
  },
  "language_info": {
   "codemirror_mode": {
    "name": "ipython",
    "version": 2
   },
   "file_extension": ".py",
   "mimetype": "text/x-python",
   "name": "python",
   "nbconvert_exporter": "python",
   "pygments_lexer": "ipython2",
   "version": "2.7.13"
  }
 },
 "nbformat": 4,
 "nbformat_minor": 1
}
